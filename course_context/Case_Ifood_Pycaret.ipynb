{
 "cells": [
  {
   "cell_type": "markdown",
   "metadata": {
    "id": "fEqDZD5UMLhv"
   },
   "source": [
    "# Case Ifood\n",
    "*Desenvolvido por Mário de Deus*"
   ]
  },
  {
   "cell_type": "markdown",
   "metadata": {
    "id": "pl8djKOAjiX-"
   },
   "source": [
    "# Installs"
   ]
  },
  {
   "cell_type": "code",
   "execution_count": null,
   "metadata": {
    "colab": {
     "base_uri": "https://localhost:8080/"
    },
    "executionInfo": {
     "elapsed": 9855,
     "status": "ok",
     "timestamp": 1741988389915,
     "user": {
      "displayName": "Mario Deus",
      "userId": "12968936412646050740"
     },
     "user_tz": 180
    },
    "id": "dsOCNoMUObe4",
    "outputId": "05ec30b4-aa28-4806-ad6f-9d6325708ab4"
   },
   "outputs": [],
   "source": [
    "#No Google Colab será necessário executar as instalações abaixo a cada nova sessão.\n",
    "#No Jupyter Notebook, Jupyter Lab ou VSCode (localhost) basta instalar uma única vez.\n",
    "!pip install numba\n",
    "!pip install pycaret numpy pandas seaborn"
   ]
  },
  {
   "cell_type": "markdown",
   "metadata": {
    "id": "HumRPmdgMLh4"
   },
   "source": [
    "# Imports"
   ]
  },
  {
   "cell_type": "code",
   "execution_count": 2,
   "metadata": {
    "id": "6CQ7HrqHMLh6"
   },
   "outputs": [],
   "source": [
    "import numpy as np\n",
    "import pandas as pd\n",
    "import seaborn as sns\n",
    "\n",
    "from pycaret.classification import *\n",
    "\n",
    "pd.set_option('display.max_columns', None)\n",
    "pd.set_option('display.max_rows', 40)\n",
    "pd.set_option('display.max_colwidth', 1000)\n",
    "\n",
    "import warnings\n",
    "warnings.filterwarnings('ignore')"
   ]
  },
  {
   "cell_type": "markdown",
   "metadata": {
    "id": "HxvATlXpMLh_"
   },
   "source": [
    "# Descrição / Objetivo do problema"
   ]
  },
  {
   "cell_type": "markdown",
   "metadata": {
    "id": "WYvfcGy2MLh_"
   },
   "source": [
    "* O objetivo\n",
    "\n",
    "O objetivo da equipe é construir um modelo preditivo que produzirá o maior lucro para a próxima campanha de marketing direto, programada para o próximo mês. A nova campanha, sexta, visa a venda de um novo gadget para clientes cadastrados no Banco de Dados da empresa. Para construir o modelo, foi realizada uma campanha piloto envolvendo 2.240 clientes. Os clientes foram selecionados aleatoriamente e contatados por telefone para a aquisição do gadget. Durante os meses seguintes, os clientes que compraram a oferta foram devidamente etiquetados. O custo total da campanha da amostra foi de 6,720MU e a receita gerada pelos clientes que aceitaram a oferta foi de 3,674MU. Globalmente, a campanha teve um lucro de -3,046MU. A taxa de sucesso da campanha foi de 15%. O objetivo da equipe é desenvolver um modelo que preveja o comportamento do cliente e aplicá-lo ao restante da base de clientes. Felizmente, o modelo permitirá que a empresa escolha a dedo os clientes com maior probabilidade de comprar a oferta, deixando de fora os não respondentes, tornando a próxima campanha altamente lucrativa. Além disso, além de maximizar o lucro da campanha, o CMO está interessado em estudar as características dos clientes que desejam comprar o gadget.\n",
    "Os dados\n",
    "O conjunto de dados contém características sociodemográficas e firográficas de cerca de 2.240 clientes contatados. Além disso, contém um sinalizador para aqueles clientes que responderam à campanha, comprando o produto.\n"
   ]
  },
  {
   "cell_type": "markdown",
   "metadata": {
    "id": "t3y-myq5MLiA"
   },
   "source": [
    "# Data Loading"
   ]
  },
  {
   "cell_type": "code",
   "execution_count": null,
   "metadata": {
    "colab": {
     "base_uri": "https://localhost:8080/"
    },
    "executionInfo": {
     "elapsed": 2744,
     "status": "ok",
     "timestamp": 1741988408401,
     "user": {
      "displayName": "Mario Deus",
      "userId": "12968936412646050740"
     },
     "user_tz": 180
    },
    "id": "D8ZALi2DMqGI",
    "outputId": "0e9f7369-20d9-4ba9-bd6b-d6f08f2bfce8"
   },
   "outputs": [],
   "source": [
    "from google.colab import drive\n",
    "drive.mount('/content/drive')"
   ]
  },
  {
   "cell_type": "code",
   "execution_count": 5,
   "metadata": {
    "colab": {
     "base_uri": "https://localhost:8080/",
     "height": 226
    },
    "executionInfo": {
     "elapsed": 35,
     "status": "ok",
     "timestamp": 1741988408401,
     "user": {
      "displayName": "Mario Deus",
      "userId": "12968936412646050740"
     },
     "user_tz": 180
    },
    "id": "G8utR6jqMLiB",
    "outputId": "10ba26ca-6c86-446d-9ee8-17545ba82d6a"
   },
   "outputs": [
    {
     "data": {
      "text/html": [
       "<div>\n",
       "<style scoped>\n",
       "    .dataframe tbody tr th:only-of-type {\n",
       "        vertical-align: middle;\n",
       "    }\n",
       "\n",
       "    .dataframe tbody tr th {\n",
       "        vertical-align: top;\n",
       "    }\n",
       "\n",
       "    .dataframe thead th {\n",
       "        text-align: right;\n",
       "    }\n",
       "</style>\n",
       "<table border=\"1\" class=\"dataframe\">\n",
       "  <thead>\n",
       "    <tr style=\"text-align: right;\">\n",
       "      <th></th>\n",
       "      <th>ID</th>\n",
       "      <th>Year_Birth</th>\n",
       "      <th>Education</th>\n",
       "      <th>Marital_Status</th>\n",
       "      <th>Income</th>\n",
       "      <th>Kidhome</th>\n",
       "      <th>Teenhome</th>\n",
       "      <th>Dt_Customer</th>\n",
       "      <th>Recency</th>\n",
       "      <th>MntWines</th>\n",
       "      <th>MntFruits</th>\n",
       "      <th>MntMeatProducts</th>\n",
       "      <th>MntFishProducts</th>\n",
       "      <th>MntSweetProducts</th>\n",
       "      <th>MntGoldProds</th>\n",
       "      <th>NumDealsPurchases</th>\n",
       "      <th>NumWebPurchases</th>\n",
       "      <th>NumCatalogPurchases</th>\n",
       "      <th>NumStorePurchases</th>\n",
       "      <th>NumWebVisitsMonth</th>\n",
       "      <th>AcceptedCmp3</th>\n",
       "      <th>AcceptedCmp4</th>\n",
       "      <th>AcceptedCmp5</th>\n",
       "      <th>AcceptedCmp1</th>\n",
       "      <th>AcceptedCmp2</th>\n",
       "      <th>Complain</th>\n",
       "      <th>Z_CostContact</th>\n",
       "      <th>Z_Revenue</th>\n",
       "      <th>Response</th>\n",
       "    </tr>\n",
       "  </thead>\n",
       "  <tbody>\n",
       "    <tr>\n",
       "      <th>0</th>\n",
       "      <td>5524</td>\n",
       "      <td>1957</td>\n",
       "      <td>Graduation</td>\n",
       "      <td>Single</td>\n",
       "      <td>58138.0</td>\n",
       "      <td>0</td>\n",
       "      <td>0</td>\n",
       "      <td>2012-09-04</td>\n",
       "      <td>58</td>\n",
       "      <td>635</td>\n",
       "      <td>88</td>\n",
       "      <td>546</td>\n",
       "      <td>172</td>\n",
       "      <td>88</td>\n",
       "      <td>88</td>\n",
       "      <td>3</td>\n",
       "      <td>8</td>\n",
       "      <td>10</td>\n",
       "      <td>4</td>\n",
       "      <td>7</td>\n",
       "      <td>0</td>\n",
       "      <td>0</td>\n",
       "      <td>0</td>\n",
       "      <td>0</td>\n",
       "      <td>0</td>\n",
       "      <td>0</td>\n",
       "      <td>3</td>\n",
       "      <td>11</td>\n",
       "      <td>1</td>\n",
       "    </tr>\n",
       "    <tr>\n",
       "      <th>1</th>\n",
       "      <td>2174</td>\n",
       "      <td>1954</td>\n",
       "      <td>Graduation</td>\n",
       "      <td>Single</td>\n",
       "      <td>46344.0</td>\n",
       "      <td>1</td>\n",
       "      <td>1</td>\n",
       "      <td>2014-03-08</td>\n",
       "      <td>38</td>\n",
       "      <td>11</td>\n",
       "      <td>1</td>\n",
       "      <td>6</td>\n",
       "      <td>2</td>\n",
       "      <td>1</td>\n",
       "      <td>6</td>\n",
       "      <td>2</td>\n",
       "      <td>1</td>\n",
       "      <td>1</td>\n",
       "      <td>2</td>\n",
       "      <td>5</td>\n",
       "      <td>0</td>\n",
       "      <td>0</td>\n",
       "      <td>0</td>\n",
       "      <td>0</td>\n",
       "      <td>0</td>\n",
       "      <td>0</td>\n",
       "      <td>3</td>\n",
       "      <td>11</td>\n",
       "      <td>0</td>\n",
       "    </tr>\n",
       "    <tr>\n",
       "      <th>2</th>\n",
       "      <td>4141</td>\n",
       "      <td>1965</td>\n",
       "      <td>Graduation</td>\n",
       "      <td>Together</td>\n",
       "      <td>71613.0</td>\n",
       "      <td>0</td>\n",
       "      <td>0</td>\n",
       "      <td>2013-08-21</td>\n",
       "      <td>26</td>\n",
       "      <td>426</td>\n",
       "      <td>49</td>\n",
       "      <td>127</td>\n",
       "      <td>111</td>\n",
       "      <td>21</td>\n",
       "      <td>42</td>\n",
       "      <td>1</td>\n",
       "      <td>8</td>\n",
       "      <td>2</td>\n",
       "      <td>10</td>\n",
       "      <td>4</td>\n",
       "      <td>0</td>\n",
       "      <td>0</td>\n",
       "      <td>0</td>\n",
       "      <td>0</td>\n",
       "      <td>0</td>\n",
       "      <td>0</td>\n",
       "      <td>3</td>\n",
       "      <td>11</td>\n",
       "      <td>0</td>\n",
       "    </tr>\n",
       "    <tr>\n",
       "      <th>3</th>\n",
       "      <td>6182</td>\n",
       "      <td>1984</td>\n",
       "      <td>Graduation</td>\n",
       "      <td>Together</td>\n",
       "      <td>26646.0</td>\n",
       "      <td>1</td>\n",
       "      <td>0</td>\n",
       "      <td>2014-02-10</td>\n",
       "      <td>26</td>\n",
       "      <td>11</td>\n",
       "      <td>4</td>\n",
       "      <td>20</td>\n",
       "      <td>10</td>\n",
       "      <td>3</td>\n",
       "      <td>5</td>\n",
       "      <td>2</td>\n",
       "      <td>2</td>\n",
       "      <td>0</td>\n",
       "      <td>4</td>\n",
       "      <td>6</td>\n",
       "      <td>0</td>\n",
       "      <td>0</td>\n",
       "      <td>0</td>\n",
       "      <td>0</td>\n",
       "      <td>0</td>\n",
       "      <td>0</td>\n",
       "      <td>3</td>\n",
       "      <td>11</td>\n",
       "      <td>0</td>\n",
       "    </tr>\n",
       "    <tr>\n",
       "      <th>4</th>\n",
       "      <td>5324</td>\n",
       "      <td>1981</td>\n",
       "      <td>PhD</td>\n",
       "      <td>Married</td>\n",
       "      <td>58293.0</td>\n",
       "      <td>1</td>\n",
       "      <td>0</td>\n",
       "      <td>2014-01-19</td>\n",
       "      <td>94</td>\n",
       "      <td>173</td>\n",
       "      <td>43</td>\n",
       "      <td>118</td>\n",
       "      <td>46</td>\n",
       "      <td>27</td>\n",
       "      <td>15</td>\n",
       "      <td>5</td>\n",
       "      <td>5</td>\n",
       "      <td>3</td>\n",
       "      <td>6</td>\n",
       "      <td>5</td>\n",
       "      <td>0</td>\n",
       "      <td>0</td>\n",
       "      <td>0</td>\n",
       "      <td>0</td>\n",
       "      <td>0</td>\n",
       "      <td>0</td>\n",
       "      <td>3</td>\n",
       "      <td>11</td>\n",
       "      <td>0</td>\n",
       "    </tr>\n",
       "  </tbody>\n",
       "</table>\n",
       "</div>"
      ],
      "text/plain": [
       "     ID  Year_Birth   Education Marital_Status   Income  Kidhome  Teenhome  \\\n",
       "0  5524        1957  Graduation         Single  58138.0        0         0   \n",
       "1  2174        1954  Graduation         Single  46344.0        1         1   \n",
       "2  4141        1965  Graduation       Together  71613.0        0         0   \n",
       "3  6182        1984  Graduation       Together  26646.0        1         0   \n",
       "4  5324        1981         PhD        Married  58293.0        1         0   \n",
       "\n",
       "  Dt_Customer  Recency  MntWines  MntFruits  MntMeatProducts  MntFishProducts  \\\n",
       "0  2012-09-04       58       635         88              546              172   \n",
       "1  2014-03-08       38        11          1                6                2   \n",
       "2  2013-08-21       26       426         49              127              111   \n",
       "3  2014-02-10       26        11          4               20               10   \n",
       "4  2014-01-19       94       173         43              118               46   \n",
       "\n",
       "   MntSweetProducts  MntGoldProds  NumDealsPurchases  NumWebPurchases  \\\n",
       "0                88            88                  3                8   \n",
       "1                 1             6                  2                1   \n",
       "2                21            42                  1                8   \n",
       "3                 3             5                  2                2   \n",
       "4                27            15                  5                5   \n",
       "\n",
       "   NumCatalogPurchases  NumStorePurchases  NumWebVisitsMonth  AcceptedCmp3  \\\n",
       "0                   10                  4                  7             0   \n",
       "1                    1                  2                  5             0   \n",
       "2                    2                 10                  4             0   \n",
       "3                    0                  4                  6             0   \n",
       "4                    3                  6                  5             0   \n",
       "\n",
       "   AcceptedCmp4  AcceptedCmp5  AcceptedCmp1  AcceptedCmp2  Complain  \\\n",
       "0             0             0             0             0         0   \n",
       "1             0             0             0             0         0   \n",
       "2             0             0             0             0         0   \n",
       "3             0             0             0             0         0   \n",
       "4             0             0             0             0         0   \n",
       "\n",
       "   Z_CostContact  Z_Revenue  Response  \n",
       "0              3         11         1  \n",
       "1              3         11         0  \n",
       "2              3         11         0  \n",
       "3              3         11         0  \n",
       "4              3         11         0  "
      ]
     },
     "execution_count": 5,
     "metadata": {},
     "output_type": "execute_result"
    }
   ],
   "source": [
    "#Google COlab\n",
    "#df = pd.read_csv('/content/drive/MyDrive/Front End e Mobile Development/2025/20250314 - Aula05/data.csv',encoding='utf-8')\n",
    "\n",
    "#Jupyter\n",
    "df = pd.read_csv('data.csv',encoding='utf-8')\n",
    "\n",
    "df.head()"
   ]
  },
  {
   "cell_type": "markdown",
   "metadata": {
    "id": "9e71AhFkYI6e"
   },
   "source": [
    "# Data Cleaning"
   ]
  },
  {
   "cell_type": "markdown",
   "metadata": {
    "id": "oVfakwHgQeOe"
   },
   "source": [
    "Drop da feature ID por ser um identificador"
   ]
  },
  {
   "cell_type": "code",
   "execution_count": 6,
   "metadata": {
    "colab": {
     "base_uri": "https://localhost:8080/"
    },
    "executionInfo": {
     "elapsed": 33,
     "status": "ok",
     "timestamp": 1741988408401,
     "user": {
      "displayName": "Mario Deus",
      "userId": "12968936412646050740"
     },
     "user_tz": 180
    },
    "id": "GC5LgLOFQct6",
    "outputId": "1bfd5154-bccb-4fba-d0a0-caa79754632a"
   },
   "outputs": [
    {
     "data": {
      "text/plain": [
       "(2240, 28)"
      ]
     },
     "execution_count": 6,
     "metadata": {},
     "output_type": "execute_result"
    }
   ],
   "source": [
    "df.drop('ID',axis = 1, inplace = True, errors = 'ignore')\n",
    "df.shape"
   ]
  },
  {
   "cell_type": "markdown",
   "metadata": {
    "id": "gKG79FhyHpuh"
   },
   "source": [
    "## Features com valores unicos\n",
    "Verificando a existência de features com valores únicos (devem ser dropadas por não contribuirem para a explicar a variação da feature target)"
   ]
  },
  {
   "cell_type": "code",
   "execution_count": 7,
   "metadata": {
    "colab": {
     "base_uri": "https://localhost:8080/",
     "height": 962
    },
    "executionInfo": {
     "elapsed": 31,
     "status": "ok",
     "timestamp": 1741988408401,
     "user": {
      "displayName": "Mario Deus",
      "userId": "12968936412646050740"
     },
     "user_tz": 180
    },
    "id": "-WYX9q2zQ-tt",
    "outputId": "89667554-317e-4555-97ef-36a8766f3e41"
   },
   "outputs": [
    {
     "data": {
      "text/plain": [
       "Z_Revenue                 1\n",
       "Z_CostContact             1\n",
       "Response                  2\n",
       "AcceptedCmp3              2\n",
       "AcceptedCmp4              2\n",
       "AcceptedCmp5              2\n",
       "AcceptedCmp2              2\n",
       "AcceptedCmp1              2\n",
       "Complain                  2\n",
       "Teenhome                  3\n",
       "Kidhome                   3\n",
       "Education                 5\n",
       "Marital_Status            8\n",
       "NumCatalogPurchases      14\n",
       "NumStorePurchases        14\n",
       "NumDealsPurchases        15\n",
       "NumWebPurchases          15\n",
       "NumWebVisitsMonth        16\n",
       "Year_Birth               59\n",
       "Recency                 100\n",
       "MntFruits               158\n",
       "MntSweetProducts        177\n",
       "MntFishProducts         182\n",
       "MntGoldProds            213\n",
       "MntMeatProducts         558\n",
       "Dt_Customer             663\n",
       "MntWines                776\n",
       "Income                 1974\n",
       "dtype: int64"
      ]
     },
     "execution_count": 7,
     "metadata": {},
     "output_type": "execute_result"
    }
   ],
   "source": [
    "df.nunique().sort_values()"
   ]
  },
  {
   "cell_type": "code",
   "execution_count": 8,
   "metadata": {
    "id": "cAzjbN4YRug7"
   },
   "outputs": [],
   "source": [
    "df.drop(['Z_CostContact','Z_Revenue'],axis=1,inplace = True, errors = 'ignore')"
   ]
  },
  {
   "cell_type": "markdown",
   "metadata": {
    "id": "rtfaWcBlTCbN"
   },
   "source": [
    "## NaN analysis"
   ]
  },
  {
   "cell_type": "code",
   "execution_count": 9,
   "metadata": {
    "colab": {
     "base_uri": "https://localhost:8080/",
     "height": 899
    },
    "executionInfo": {
     "elapsed": 30,
     "status": "ok",
     "timestamp": 1741988408401,
     "user": {
      "displayName": "Mario Deus",
      "userId": "12968936412646050740"
     },
     "user_tz": 180
    },
    "id": "fqNP9K0KTHjD",
    "outputId": "b5f79072-2ec2-46b4-e998-566c596500ea"
   },
   "outputs": [
    {
     "data": {
      "text/plain": [
       "Year_Birth              0\n",
       "Education               0\n",
       "Marital_Status          0\n",
       "Income                 24\n",
       "Kidhome                 0\n",
       "Teenhome                0\n",
       "Dt_Customer             0\n",
       "Recency                 0\n",
       "MntWines                0\n",
       "MntFruits               0\n",
       "MntMeatProducts         0\n",
       "MntFishProducts         0\n",
       "MntSweetProducts        0\n",
       "MntGoldProds            0\n",
       "NumDealsPurchases       0\n",
       "NumWebPurchases         0\n",
       "NumCatalogPurchases     0\n",
       "NumStorePurchases       0\n",
       "NumWebVisitsMonth       0\n",
       "AcceptedCmp3            0\n",
       "AcceptedCmp4            0\n",
       "AcceptedCmp5            0\n",
       "AcceptedCmp1            0\n",
       "AcceptedCmp2            0\n",
       "Complain                0\n",
       "Response                0\n",
       "dtype: int64"
      ]
     },
     "execution_count": 9,
     "metadata": {},
     "output_type": "execute_result"
    }
   ],
   "source": [
    "df.isna().sum()"
   ]
  },
  {
   "cell_type": "markdown",
   "metadata": {
    "id": "aBwsz6m3Uj3H"
   },
   "source": [
    "Somente a feature Income possui valores nulos.\n",
    "Analisando as linhas com valores nulos em relação aos valores da feature target"
   ]
  },
  {
   "cell_type": "code",
   "execution_count": 10,
   "metadata": {
    "colab": {
     "base_uri": "https://localhost:8080/",
     "height": 178
    },
    "executionInfo": {
     "elapsed": 29,
     "status": "ok",
     "timestamp": 1741988408401,
     "user": {
      "displayName": "Mario Deus",
      "userId": "12968936412646050740"
     },
     "user_tz": 180
    },
    "id": "P2ohigLeVEmE",
    "outputId": "f7740a0d-1a49-4ae1-d2f4-27b00697978a"
   },
   "outputs": [
    {
     "data": {
      "text/plain": [
       "Response\n",
       "0    23\n",
       "1     1\n",
       "Name: count, dtype: int64"
      ]
     },
     "execution_count": 10,
     "metadata": {},
     "output_type": "execute_result"
    }
   ],
   "source": [
    "#Distribuição da feature Response entre as amostras com Income = NaN\n",
    "df[df.Income.isna()].Response.value_counts()"
   ]
  },
  {
   "cell_type": "code",
   "execution_count": 11,
   "metadata": {
    "colab": {
     "base_uri": "https://localhost:8080/",
     "height": 178
    },
    "executionInfo": {
     "elapsed": 29,
     "status": "ok",
     "timestamp": 1741988408402,
     "user": {
      "displayName": "Mario Deus",
      "userId": "12968936412646050740"
     },
     "user_tz": 180
    },
    "id": "PsT3UDpBUfZB",
    "outputId": "6144d0ec-7475-4bfd-e3b1-18ef74a982b3"
   },
   "outputs": [
    {
     "data": {
      "text/plain": [
       "Response\n",
       "0    0.850893\n",
       "1    0.149107\n",
       "Name: proportion, dtype: float64"
      ]
     },
     "execution_count": 11,
     "metadata": {},
     "output_type": "execute_result"
    }
   ],
   "source": [
    "# Proporção de 0 e 1 da feature Response no df completo\n",
    "df.Response.value_counts(normalize = True)"
   ]
  },
  {
   "cell_type": "code",
   "execution_count": 12,
   "metadata": {
    "colab": {
     "base_uri": "https://localhost:8080/"
    },
    "executionInfo": {
     "elapsed": 29,
     "status": "ok",
     "timestamp": 1741988408402,
     "user": {
      "displayName": "Mario Deus",
      "userId": "12968936412646050740"
     },
     "user_tz": 180
    },
    "id": "0_0sI5sOWUdg",
    "outputId": "dce433dd-b68d-4351-b2a7-8b9ab2499b82"
   },
   "outputs": [
    {
     "name": "stdout",
     "output_type": "stream",
     "text": [
      "% amostras com NaN:  1.07\n",
      "% amostras com NaN e Response = 1:  0.04\n"
     ]
    }
   ],
   "source": [
    "print('% amostras com NaN: ',np.round((df.Income.isna().sum()/len(df))*100,2))\n",
    "print('% amostras com NaN e Response = 1: ',\n",
    "      np.round((( len(df[(df.Income.isna()) & (df.Response == 1)]) / len(df))*100),2))"
   ]
  },
  {
   "cell_type": "markdown",
   "metadata": {
    "id": "P3Y2anB0VvoW"
   },
   "source": [
    "Dado que as 24 linhas com valores Nan representam 1% do dataset total, e que entre as 24 linhas com Income == Nan somente uma apresentou Response == 1 (0.04%), as 24 linhas serão dropadas"
   ]
  },
  {
   "cell_type": "code",
   "execution_count": 13,
   "metadata": {
    "colab": {
     "base_uri": "https://localhost:8080/"
    },
    "executionInfo": {
     "elapsed": 26,
     "status": "ok",
     "timestamp": 1741988408402,
     "user": {
      "displayName": "Mario Deus",
      "userId": "12968936412646050740"
     },
     "user_tz": 180
    },
    "id": "xv7DXHMCVuvq",
    "outputId": "9d71960e-d70a-49df-aec3-b438655c6098"
   },
   "outputs": [
    {
     "name": "stdout",
     "output_type": "stream",
     "text": [
      "Shape antes do dropna:  2240\n",
      "Shape após o dropna:  2216\n"
     ]
    }
   ],
   "source": [
    "print('Shape antes do dropna: ',df.shape[0])\n",
    "df.dropna(axis=0,inplace = True)\n",
    "print('Shape após o dropna: ',df.shape[0])"
   ]
  },
  {
   "cell_type": "markdown",
   "metadata": {
    "id": "HV8dbhMLXAUR"
   },
   "source": [
    "## Ajuste do dtypes"
   ]
  },
  {
   "cell_type": "code",
   "execution_count": 14,
   "metadata": {
    "colab": {
     "base_uri": "https://localhost:8080/",
     "height": 899
    },
    "executionInfo": {
     "elapsed": 24,
     "status": "ok",
     "timestamp": 1741988408402,
     "user": {
      "displayName": "Mario Deus",
      "userId": "12968936412646050740"
     },
     "user_tz": 180
    },
    "id": "eTcilohTXFXz",
    "outputId": "2337a216-96fd-44bc-a1c6-37e3afc3caf9"
   },
   "outputs": [
    {
     "data": {
      "text/plain": [
       "Year_Birth                      Int64\n",
       "Education              string[python]\n",
       "Marital_Status         string[python]\n",
       "Income                          Int64\n",
       "Kidhome                         Int64\n",
       "Teenhome                        Int64\n",
       "Dt_Customer            datetime64[ns]\n",
       "Recency                         Int64\n",
       "MntWines                        Int64\n",
       "MntFruits                       Int64\n",
       "MntMeatProducts                 Int64\n",
       "MntFishProducts                 Int64\n",
       "MntSweetProducts                Int64\n",
       "MntGoldProds                    Int64\n",
       "NumDealsPurchases               Int64\n",
       "NumWebPurchases                 Int64\n",
       "NumCatalogPurchases             Int64\n",
       "NumStorePurchases               Int64\n",
       "NumWebVisitsMonth               Int64\n",
       "AcceptedCmp3                    Int64\n",
       "AcceptedCmp4                    Int64\n",
       "AcceptedCmp5                    Int64\n",
       "AcceptedCmp1                    Int64\n",
       "AcceptedCmp2                    Int64\n",
       "Complain                        Int64\n",
       "Response                        Int64\n",
       "dtype: object"
      ]
     },
     "execution_count": 14,
     "metadata": {},
     "output_type": "execute_result"
    }
   ],
   "source": [
    "df = df.convert_dtypes()\n",
    "df.Dt_Customer = pd.to_datetime(df.Dt_Customer)\n",
    "df.dtypes"
   ]
  },
  {
   "cell_type": "markdown",
   "metadata": {
    "id": "CmRkHZfkX97o"
   },
   "source": [
    "# Feature Engineering"
   ]
  },
  {
   "cell_type": "markdown",
   "metadata": {
    "id": "_hWZu2xuYW-i"
   },
   "source": [
    "## Idade dos clientes"
   ]
  },
  {
   "cell_type": "code",
   "execution_count": 15,
   "metadata": {
    "colab": {
     "base_uri": "https://localhost:8080/",
     "height": 226
    },
    "executionInfo": {
     "elapsed": 23,
     "status": "ok",
     "timestamp": 1741988408402,
     "user": {
      "displayName": "Mario Deus",
      "userId": "12968936412646050740"
     },
     "user_tz": 180
    },
    "id": "vYqLrnutYVvG",
    "outputId": "9f3797b9-ded3-41a4-a439-6387e4a21617"
   },
   "outputs": [
    {
     "data": {
      "text/html": [
       "<div>\n",
       "<style scoped>\n",
       "    .dataframe tbody tr th:only-of-type {\n",
       "        vertical-align: middle;\n",
       "    }\n",
       "\n",
       "    .dataframe tbody tr th {\n",
       "        vertical-align: top;\n",
       "    }\n",
       "\n",
       "    .dataframe thead th {\n",
       "        text-align: right;\n",
       "    }\n",
       "</style>\n",
       "<table border=\"1\" class=\"dataframe\">\n",
       "  <thead>\n",
       "    <tr style=\"text-align: right;\">\n",
       "      <th></th>\n",
       "      <th>Education</th>\n",
       "      <th>Marital_Status</th>\n",
       "      <th>Income</th>\n",
       "      <th>Kidhome</th>\n",
       "      <th>Teenhome</th>\n",
       "      <th>Dt_Customer</th>\n",
       "      <th>Recency</th>\n",
       "      <th>MntWines</th>\n",
       "      <th>MntFruits</th>\n",
       "      <th>MntMeatProducts</th>\n",
       "      <th>MntFishProducts</th>\n",
       "      <th>MntSweetProducts</th>\n",
       "      <th>MntGoldProds</th>\n",
       "      <th>NumDealsPurchases</th>\n",
       "      <th>NumWebPurchases</th>\n",
       "      <th>NumCatalogPurchases</th>\n",
       "      <th>NumStorePurchases</th>\n",
       "      <th>NumWebVisitsMonth</th>\n",
       "      <th>AcceptedCmp3</th>\n",
       "      <th>AcceptedCmp4</th>\n",
       "      <th>AcceptedCmp5</th>\n",
       "      <th>AcceptedCmp1</th>\n",
       "      <th>AcceptedCmp2</th>\n",
       "      <th>Complain</th>\n",
       "      <th>Response</th>\n",
       "      <th>Age</th>\n",
       "    </tr>\n",
       "  </thead>\n",
       "  <tbody>\n",
       "    <tr>\n",
       "      <th>0</th>\n",
       "      <td>Graduation</td>\n",
       "      <td>Single</td>\n",
       "      <td>58138</td>\n",
       "      <td>0</td>\n",
       "      <td>0</td>\n",
       "      <td>2012-09-04</td>\n",
       "      <td>58</td>\n",
       "      <td>635</td>\n",
       "      <td>88</td>\n",
       "      <td>546</td>\n",
       "      <td>172</td>\n",
       "      <td>88</td>\n",
       "      <td>88</td>\n",
       "      <td>3</td>\n",
       "      <td>8</td>\n",
       "      <td>10</td>\n",
       "      <td>4</td>\n",
       "      <td>7</td>\n",
       "      <td>0</td>\n",
       "      <td>0</td>\n",
       "      <td>0</td>\n",
       "      <td>0</td>\n",
       "      <td>0</td>\n",
       "      <td>0</td>\n",
       "      <td>1</td>\n",
       "      <td>68</td>\n",
       "    </tr>\n",
       "    <tr>\n",
       "      <th>1</th>\n",
       "      <td>Graduation</td>\n",
       "      <td>Single</td>\n",
       "      <td>46344</td>\n",
       "      <td>1</td>\n",
       "      <td>1</td>\n",
       "      <td>2014-03-08</td>\n",
       "      <td>38</td>\n",
       "      <td>11</td>\n",
       "      <td>1</td>\n",
       "      <td>6</td>\n",
       "      <td>2</td>\n",
       "      <td>1</td>\n",
       "      <td>6</td>\n",
       "      <td>2</td>\n",
       "      <td>1</td>\n",
       "      <td>1</td>\n",
       "      <td>2</td>\n",
       "      <td>5</td>\n",
       "      <td>0</td>\n",
       "      <td>0</td>\n",
       "      <td>0</td>\n",
       "      <td>0</td>\n",
       "      <td>0</td>\n",
       "      <td>0</td>\n",
       "      <td>0</td>\n",
       "      <td>71</td>\n",
       "    </tr>\n",
       "    <tr>\n",
       "      <th>2</th>\n",
       "      <td>Graduation</td>\n",
       "      <td>Together</td>\n",
       "      <td>71613</td>\n",
       "      <td>0</td>\n",
       "      <td>0</td>\n",
       "      <td>2013-08-21</td>\n",
       "      <td>26</td>\n",
       "      <td>426</td>\n",
       "      <td>49</td>\n",
       "      <td>127</td>\n",
       "      <td>111</td>\n",
       "      <td>21</td>\n",
       "      <td>42</td>\n",
       "      <td>1</td>\n",
       "      <td>8</td>\n",
       "      <td>2</td>\n",
       "      <td>10</td>\n",
       "      <td>4</td>\n",
       "      <td>0</td>\n",
       "      <td>0</td>\n",
       "      <td>0</td>\n",
       "      <td>0</td>\n",
       "      <td>0</td>\n",
       "      <td>0</td>\n",
       "      <td>0</td>\n",
       "      <td>60</td>\n",
       "    </tr>\n",
       "    <tr>\n",
       "      <th>3</th>\n",
       "      <td>Graduation</td>\n",
       "      <td>Together</td>\n",
       "      <td>26646</td>\n",
       "      <td>1</td>\n",
       "      <td>0</td>\n",
       "      <td>2014-02-10</td>\n",
       "      <td>26</td>\n",
       "      <td>11</td>\n",
       "      <td>4</td>\n",
       "      <td>20</td>\n",
       "      <td>10</td>\n",
       "      <td>3</td>\n",
       "      <td>5</td>\n",
       "      <td>2</td>\n",
       "      <td>2</td>\n",
       "      <td>0</td>\n",
       "      <td>4</td>\n",
       "      <td>6</td>\n",
       "      <td>0</td>\n",
       "      <td>0</td>\n",
       "      <td>0</td>\n",
       "      <td>0</td>\n",
       "      <td>0</td>\n",
       "      <td>0</td>\n",
       "      <td>0</td>\n",
       "      <td>41</td>\n",
       "    </tr>\n",
       "    <tr>\n",
       "      <th>4</th>\n",
       "      <td>PhD</td>\n",
       "      <td>Married</td>\n",
       "      <td>58293</td>\n",
       "      <td>1</td>\n",
       "      <td>0</td>\n",
       "      <td>2014-01-19</td>\n",
       "      <td>94</td>\n",
       "      <td>173</td>\n",
       "      <td>43</td>\n",
       "      <td>118</td>\n",
       "      <td>46</td>\n",
       "      <td>27</td>\n",
       "      <td>15</td>\n",
       "      <td>5</td>\n",
       "      <td>5</td>\n",
       "      <td>3</td>\n",
       "      <td>6</td>\n",
       "      <td>5</td>\n",
       "      <td>0</td>\n",
       "      <td>0</td>\n",
       "      <td>0</td>\n",
       "      <td>0</td>\n",
       "      <td>0</td>\n",
       "      <td>0</td>\n",
       "      <td>0</td>\n",
       "      <td>44</td>\n",
       "    </tr>\n",
       "  </tbody>\n",
       "</table>\n",
       "</div>"
      ],
      "text/plain": [
       "    Education Marital_Status  Income  Kidhome  Teenhome Dt_Customer  Recency  \\\n",
       "0  Graduation         Single   58138        0         0  2012-09-04       58   \n",
       "1  Graduation         Single   46344        1         1  2014-03-08       38   \n",
       "2  Graduation       Together   71613        0         0  2013-08-21       26   \n",
       "3  Graduation       Together   26646        1         0  2014-02-10       26   \n",
       "4         PhD        Married   58293        1         0  2014-01-19       94   \n",
       "\n",
       "   MntWines  MntFruits  MntMeatProducts  MntFishProducts  MntSweetProducts  \\\n",
       "0       635         88              546              172                88   \n",
       "1        11          1                6                2                 1   \n",
       "2       426         49              127              111                21   \n",
       "3        11          4               20               10                 3   \n",
       "4       173         43              118               46                27   \n",
       "\n",
       "   MntGoldProds  NumDealsPurchases  NumWebPurchases  NumCatalogPurchases  \\\n",
       "0            88                  3                8                   10   \n",
       "1             6                  2                1                    1   \n",
       "2            42                  1                8                    2   \n",
       "3             5                  2                2                    0   \n",
       "4            15                  5                5                    3   \n",
       "\n",
       "   NumStorePurchases  NumWebVisitsMonth  AcceptedCmp3  AcceptedCmp4  \\\n",
       "0                  4                  7             0             0   \n",
       "1                  2                  5             0             0   \n",
       "2                 10                  4             0             0   \n",
       "3                  4                  6             0             0   \n",
       "4                  6                  5             0             0   \n",
       "\n",
       "   AcceptedCmp5  AcceptedCmp1  AcceptedCmp2  Complain  Response  Age  \n",
       "0             0             0             0         0         1   68  \n",
       "1             0             0             0         0         0   71  \n",
       "2             0             0             0         0         0   60  \n",
       "3             0             0             0         0         0   41  \n",
       "4             0             0             0         0         0   44  "
      ]
     },
     "execution_count": 15,
     "metadata": {},
     "output_type": "execute_result"
    }
   ],
   "source": [
    "from datetime import datetime\n",
    "ano_atual = datetime.now().year\n",
    "df['Age'] = ano_atual - df.Year_Birth\n",
    "df.drop('Year_Birth',axis = 1, inplace = True, errors = 'ignore')\n",
    "df.head()"
   ]
  },
  {
   "cell_type": "markdown",
   "metadata": {
    "id": "b8bffPN_ZZyh"
   },
   "source": [
    "## Tempo como cliente"
   ]
  },
  {
   "cell_type": "code",
   "execution_count": 16,
   "metadata": {
    "colab": {
     "base_uri": "https://localhost:8080/"
    },
    "executionInfo": {
     "elapsed": 23,
     "status": "ok",
     "timestamp": 1741988408403,
     "user": {
      "displayName": "Mario Deus",
      "userId": "12968936412646050740"
     },
     "user_tz": 180
    },
    "id": "MWmr5rUKYVxm",
    "outputId": "133e7537-a1b5-4f89-ec9d-0c5d09f99e09"
   },
   "outputs": [
    {
     "name": "stdout",
     "output_type": "stream",
     "text": [
      "  Dt_Customer  Time_Customer\n",
      "0  2012-09-04      12.605479\n",
      "1  2014-03-08      11.098630\n",
      "2  2013-08-21      11.643836\n",
      "3  2014-02-10      11.169863\n",
      "4  2014-01-19      11.230137\n"
     ]
    }
   ],
   "source": [
    "dt = datetime.now().date()\n",
    "df['Time_Customer'] = dt - pd.to_datetime(df['Dt_Customer']).dt.date\n",
    "df['Time_Customer'] = df['Time_Customer'] / np.timedelta64(365, 'D')\n",
    "print(df[['Dt_Customer','Time_Customer']].head())\n",
    "df.drop('Dt_Customer',axis = 1, inplace = True)"
   ]
  },
  {
   "cell_type": "markdown",
   "metadata": {
    "id": "TcC8XEc1NG1x"
   },
   "source": [
    "### Removendo valores incoerentes com a variável Marital_Status"
   ]
  },
  {
   "cell_type": "code",
   "execution_count": 17,
   "metadata": {
    "colab": {
     "base_uri": "https://localhost:8080/",
     "height": 272
    },
    "executionInfo": {
     "elapsed": 21,
     "status": "ok",
     "timestamp": 1741988408403,
     "user": {
      "displayName": "Mario Deus",
      "userId": "12968936412646050740"
     },
     "user_tz": 180
    },
    "id": "nEmJYXKzLYaU",
    "outputId": "6a6b2134-2ba9-4e26-a507-045c8f6c8ce3"
   },
   "outputs": [
    {
     "data": {
      "text/plain": [
       "Marital_Status\n",
       "Married     857\n",
       "Together    573\n",
       "Single      471\n",
       "Divorced    232\n",
       "Widow        76\n",
       "Name: count, dtype: Int64"
      ]
     },
     "execution_count": 17,
     "metadata": {},
     "output_type": "execute_result"
    }
   ],
   "source": [
    "index_to_drop = df[(df['Marital_Status'] =='YOLO') | (df['Marital_Status'] =='Absurd') | (df['Marital_Status'] =='absurd') | (df['Marital_Status'] == 'Alone')].index\n",
    "df.drop(index_to_drop,inplace = True)\n",
    "df = df.reset_index(drop = True)\n",
    "df.Marital_Status.value_counts()"
   ]
  },
  {
   "cell_type": "code",
   "execution_count": 18,
   "metadata": {
    "colab": {
     "base_uri": "https://localhost:8080/"
    },
    "executionInfo": {
     "elapsed": 10,
     "status": "ok",
     "timestamp": 1741988408692,
     "user": {
      "displayName": "Mario Deus",
      "userId": "12968936412646050740"
     },
     "user_tz": 180
    },
    "id": "uMbIRtclknWc",
    "outputId": "1a7b4948-edb2-43b9-cea0-3c459ccea285"
   },
   "outputs": [
    {
     "data": {
      "text/plain": [
       "Index(['AcceptedCmp1', 'AcceptedCmp2', 'AcceptedCmp3', 'AcceptedCmp4',\n",
       "       'AcceptedCmp5', 'Age', 'Complain', 'Education', 'Income', 'Kidhome',\n",
       "       'Marital_Status', 'MntFishProducts', 'MntFruits', 'MntGoldProds',\n",
       "       'MntMeatProducts', 'MntSweetProducts', 'MntWines',\n",
       "       'NumCatalogPurchases', 'NumDealsPurchases', 'NumStorePurchases',\n",
       "       'NumWebPurchases', 'NumWebVisitsMonth', 'Recency', 'Teenhome',\n",
       "       'Time_Customer', 'Response'],\n",
       "      dtype='object')"
      ]
     },
     "execution_count": 18,
     "metadata": {},
     "output_type": "execute_result"
    }
   ],
   "source": [
    "df.rename(columns={'Response':'z_Response'},inplace = True)\n",
    "cols = df.columns.sort_values()\n",
    "df = df[cols]\n",
    "df.rename(columns={'z_Response':'Response'},inplace = True)\n",
    "\n",
    "df.columns"
   ]
  },
  {
   "cell_type": "markdown",
   "metadata": {
    "id": "Sa0y2tlekjbt"
   },
   "source": [
    "# Preparação do dataset para Modelagem"
   ]
  },
  {
   "cell_type": "markdown",
   "metadata": {
    "id": "-JO3ioOPZWQV"
   },
   "source": [
    "\n",
    "## Train Test Validation Split"
   ]
  },
  {
   "cell_type": "code",
   "execution_count": 22,
   "metadata": {
    "colab": {
     "base_uri": "https://localhost:8080/"
    },
    "executionInfo": {
     "elapsed": 8,
     "status": "ok",
     "timestamp": 1741988408692,
     "user": {
      "displayName": "Mario Deus",
      "userId": "12968936412646050740"
     },
     "user_tz": 180
    },
    "id": "xvVmwfuXZhIE",
    "outputId": "e928bf41-585b-4669-da38-4f57fe7f949a"
   },
   "outputs": [
    {
     "name": "stdout",
     "output_type": "stream",
     "text": [
      "Data for Modeling: (2099, 26)\n",
      "Unseen Data For Predictions: (110, 26)\n"
     ]
    }
   ],
   "source": [
    "# sample 5% of data to be used as unseen data\n",
    "df_train_test = df.sample(frac=0.95, random_state=123)\n",
    "df_valid = df.drop(df_train_test.index)\n",
    "df_train_test.reset_index(inplace=True, drop=True)\n",
    "df_valid.reset_index(inplace=True, drop=True)\n",
    "# print the revised shape\n",
    "print('Data for Modeling: ' + str(df_train_test.shape))\n",
    "print('Unseen Data For Predictions: ' + str(df_valid.shape))"
   ]
  },
  {
   "cell_type": "code",
   "execution_count": null,
   "metadata": {},
   "outputs": [],
   "source": [
    "#Linha acrescentada por aluno para salvar data cleansing e train test split proposto\n",
    "df_train_test.to_csv('Model Training\\cleansed_df_train.csv',index = False, encoding = 'utf-8')\n",
    "df_valid.to_csv('Model Training\\cleansed_df_test.csv',index = False, encoding = 'utf-8')"
   ]
  },
  {
   "cell_type": "markdown",
   "metadata": {
    "id": "OkOhRDZWKITS"
   },
   "source": [
    "# Auto ML - PYCARET\n",
    "\n",
    "**Para o problema de negócio em questão, a métrica Precision é a mais relevante.**"
   ]
  },
  {
   "cell_type": "markdown",
   "metadata": {
    "id": "TFAviALz6eUv"
   },
   "source": [
    "## Setup"
   ]
  },
  {
   "cell_type": "code",
   "execution_count": 31,
   "metadata": {
    "colab": {
     "base_uri": "https://localhost:8080/",
     "height": 864
    },
    "executionInfo": {
     "elapsed": 3439,
     "status": "ok",
     "timestamp": 1741988412126,
     "user": {
      "displayName": "Mario Deus",
      "userId": "12968936412646050740"
     },
     "user_tz": 180
    },
    "id": "xsoZs-aDJyvy",
    "outputId": "1a9f877c-6e70-4bf5-95be-fede5eb20cf3"
   },
   "outputs": [
    {
     "data": {
      "text/html": [
       "<style type=\"text/css\">\n",
       "#T_aa89c_row9_col1, #T_aa89c_row15_col1, #T_aa89c_row17_col1 {\n",
       "  background-color: lightgreen;\n",
       "}\n",
       "</style>\n",
       "<table id=\"T_aa89c\">\n",
       "  <thead>\n",
       "    <tr>\n",
       "      <th class=\"blank level0\" >&nbsp;</th>\n",
       "      <th id=\"T_aa89c_level0_col0\" class=\"col_heading level0 col0\" >Description</th>\n",
       "      <th id=\"T_aa89c_level0_col1\" class=\"col_heading level0 col1\" >Value</th>\n",
       "    </tr>\n",
       "  </thead>\n",
       "  <tbody>\n",
       "    <tr>\n",
       "      <th id=\"T_aa89c_level0_row0\" class=\"row_heading level0 row0\" >0</th>\n",
       "      <td id=\"T_aa89c_row0_col0\" class=\"data row0 col0\" >Session id</td>\n",
       "      <td id=\"T_aa89c_row0_col1\" class=\"data row0 col1\" >123</td>\n",
       "    </tr>\n",
       "    <tr>\n",
       "      <th id=\"T_aa89c_level0_row1\" class=\"row_heading level0 row1\" >1</th>\n",
       "      <td id=\"T_aa89c_row1_col0\" class=\"data row1 col0\" >Target</td>\n",
       "      <td id=\"T_aa89c_row1_col1\" class=\"data row1 col1\" >Response</td>\n",
       "    </tr>\n",
       "    <tr>\n",
       "      <th id=\"T_aa89c_level0_row2\" class=\"row_heading level0 row2\" >2</th>\n",
       "      <td id=\"T_aa89c_row2_col0\" class=\"data row2 col0\" >Target type</td>\n",
       "      <td id=\"T_aa89c_row2_col1\" class=\"data row2 col1\" >Binary</td>\n",
       "    </tr>\n",
       "    <tr>\n",
       "      <th id=\"T_aa89c_level0_row3\" class=\"row_heading level0 row3\" >3</th>\n",
       "      <td id=\"T_aa89c_row3_col0\" class=\"data row3 col0\" >Original data shape</td>\n",
       "      <td id=\"T_aa89c_row3_col1\" class=\"data row3 col1\" >(2099, 26)</td>\n",
       "    </tr>\n",
       "    <tr>\n",
       "      <th id=\"T_aa89c_level0_row4\" class=\"row_heading level0 row4\" >4</th>\n",
       "      <td id=\"T_aa89c_row4_col0\" class=\"data row4 col0\" >Transformed data shape</td>\n",
       "      <td id=\"T_aa89c_row4_col1\" class=\"data row4 col1\" >(3072, 34)</td>\n",
       "    </tr>\n",
       "    <tr>\n",
       "      <th id=\"T_aa89c_level0_row5\" class=\"row_heading level0 row5\" >5</th>\n",
       "      <td id=\"T_aa89c_row5_col0\" class=\"data row5 col0\" >Transformed train set shape</td>\n",
       "      <td id=\"T_aa89c_row5_col1\" class=\"data row5 col1\" >(2442, 34)</td>\n",
       "    </tr>\n",
       "    <tr>\n",
       "      <th id=\"T_aa89c_level0_row6\" class=\"row_heading level0 row6\" >6</th>\n",
       "      <td id=\"T_aa89c_row6_col0\" class=\"data row6 col0\" >Transformed test set shape</td>\n",
       "      <td id=\"T_aa89c_row6_col1\" class=\"data row6 col1\" >(630, 34)</td>\n",
       "    </tr>\n",
       "    <tr>\n",
       "      <th id=\"T_aa89c_level0_row7\" class=\"row_heading level0 row7\" >7</th>\n",
       "      <td id=\"T_aa89c_row7_col0\" class=\"data row7 col0\" >Numeric features</td>\n",
       "      <td id=\"T_aa89c_row7_col1\" class=\"data row7 col1\" >23</td>\n",
       "    </tr>\n",
       "    <tr>\n",
       "      <th id=\"T_aa89c_level0_row8\" class=\"row_heading level0 row8\" >8</th>\n",
       "      <td id=\"T_aa89c_row8_col0\" class=\"data row8 col0\" >Categorical features</td>\n",
       "      <td id=\"T_aa89c_row8_col1\" class=\"data row8 col1\" >2</td>\n",
       "    </tr>\n",
       "    <tr>\n",
       "      <th id=\"T_aa89c_level0_row9\" class=\"row_heading level0 row9\" >9</th>\n",
       "      <td id=\"T_aa89c_row9_col0\" class=\"data row9 col0\" >Preprocess</td>\n",
       "      <td id=\"T_aa89c_row9_col1\" class=\"data row9 col1\" >True</td>\n",
       "    </tr>\n",
       "    <tr>\n",
       "      <th id=\"T_aa89c_level0_row10\" class=\"row_heading level0 row10\" >10</th>\n",
       "      <td id=\"T_aa89c_row10_col0\" class=\"data row10 col0\" >Imputation type</td>\n",
       "      <td id=\"T_aa89c_row10_col1\" class=\"data row10 col1\" >simple</td>\n",
       "    </tr>\n",
       "    <tr>\n",
       "      <th id=\"T_aa89c_level0_row11\" class=\"row_heading level0 row11\" >11</th>\n",
       "      <td id=\"T_aa89c_row11_col0\" class=\"data row11 col0\" >Numeric imputation</td>\n",
       "      <td id=\"T_aa89c_row11_col1\" class=\"data row11 col1\" >mean</td>\n",
       "    </tr>\n",
       "    <tr>\n",
       "      <th id=\"T_aa89c_level0_row12\" class=\"row_heading level0 row12\" >12</th>\n",
       "      <td id=\"T_aa89c_row12_col0\" class=\"data row12 col0\" >Categorical imputation</td>\n",
       "      <td id=\"T_aa89c_row12_col1\" class=\"data row12 col1\" >mode</td>\n",
       "    </tr>\n",
       "    <tr>\n",
       "      <th id=\"T_aa89c_level0_row13\" class=\"row_heading level0 row13\" >13</th>\n",
       "      <td id=\"T_aa89c_row13_col0\" class=\"data row13 col0\" >Maximum one-hot encoding</td>\n",
       "      <td id=\"T_aa89c_row13_col1\" class=\"data row13 col1\" >25</td>\n",
       "    </tr>\n",
       "    <tr>\n",
       "      <th id=\"T_aa89c_level0_row14\" class=\"row_heading level0 row14\" >14</th>\n",
       "      <td id=\"T_aa89c_row14_col0\" class=\"data row14 col0\" >Encoding method</td>\n",
       "      <td id=\"T_aa89c_row14_col1\" class=\"data row14 col1\" >None</td>\n",
       "    </tr>\n",
       "    <tr>\n",
       "      <th id=\"T_aa89c_level0_row15\" class=\"row_heading level0 row15\" >15</th>\n",
       "      <td id=\"T_aa89c_row15_col0\" class=\"data row15 col0\" >Remove outliers</td>\n",
       "      <td id=\"T_aa89c_row15_col1\" class=\"data row15 col1\" >True</td>\n",
       "    </tr>\n",
       "    <tr>\n",
       "      <th id=\"T_aa89c_level0_row16\" class=\"row_heading level0 row16\" >16</th>\n",
       "      <td id=\"T_aa89c_row16_col0\" class=\"data row16 col0\" >Outliers threshold</td>\n",
       "      <td id=\"T_aa89c_row16_col1\" class=\"data row16 col1\" >0.050000</td>\n",
       "    </tr>\n",
       "    <tr>\n",
       "      <th id=\"T_aa89c_level0_row17\" class=\"row_heading level0 row17\" >17</th>\n",
       "      <td id=\"T_aa89c_row17_col0\" class=\"data row17 col0\" >Fix imbalance</td>\n",
       "      <td id=\"T_aa89c_row17_col1\" class=\"data row17 col1\" >True</td>\n",
       "    </tr>\n",
       "    <tr>\n",
       "      <th id=\"T_aa89c_level0_row18\" class=\"row_heading level0 row18\" >18</th>\n",
       "      <td id=\"T_aa89c_row18_col0\" class=\"data row18 col0\" >Fix imbalance method</td>\n",
       "      <td id=\"T_aa89c_row18_col1\" class=\"data row18 col1\" >SMOTE</td>\n",
       "    </tr>\n",
       "    <tr>\n",
       "      <th id=\"T_aa89c_level0_row19\" class=\"row_heading level0 row19\" >19</th>\n",
       "      <td id=\"T_aa89c_row19_col0\" class=\"data row19 col0\" >Fold Generator</td>\n",
       "      <td id=\"T_aa89c_row19_col1\" class=\"data row19 col1\" >StratifiedKFold</td>\n",
       "    </tr>\n",
       "    <tr>\n",
       "      <th id=\"T_aa89c_level0_row20\" class=\"row_heading level0 row20\" >20</th>\n",
       "      <td id=\"T_aa89c_row20_col0\" class=\"data row20 col0\" >Fold Number</td>\n",
       "      <td id=\"T_aa89c_row20_col1\" class=\"data row20 col1\" >10</td>\n",
       "    </tr>\n",
       "    <tr>\n",
       "      <th id=\"T_aa89c_level0_row21\" class=\"row_heading level0 row21\" >21</th>\n",
       "      <td id=\"T_aa89c_row21_col0\" class=\"data row21 col0\" >CPU Jobs</td>\n",
       "      <td id=\"T_aa89c_row21_col1\" class=\"data row21 col1\" >-1</td>\n",
       "    </tr>\n",
       "    <tr>\n",
       "      <th id=\"T_aa89c_level0_row22\" class=\"row_heading level0 row22\" >22</th>\n",
       "      <td id=\"T_aa89c_row22_col0\" class=\"data row22 col0\" >Use GPU</td>\n",
       "      <td id=\"T_aa89c_row22_col1\" class=\"data row22 col1\" >False</td>\n",
       "    </tr>\n",
       "    <tr>\n",
       "      <th id=\"T_aa89c_level0_row23\" class=\"row_heading level0 row23\" >23</th>\n",
       "      <td id=\"T_aa89c_row23_col0\" class=\"data row23 col0\" >Log Experiment</td>\n",
       "      <td id=\"T_aa89c_row23_col1\" class=\"data row23 col1\" >False</td>\n",
       "    </tr>\n",
       "    <tr>\n",
       "      <th id=\"T_aa89c_level0_row24\" class=\"row_heading level0 row24\" >24</th>\n",
       "      <td id=\"T_aa89c_row24_col0\" class=\"data row24 col0\" >Experiment Name</td>\n",
       "      <td id=\"T_aa89c_row24_col1\" class=\"data row24 col1\" >clf-default-name</td>\n",
       "    </tr>\n",
       "    <tr>\n",
       "      <th id=\"T_aa89c_level0_row25\" class=\"row_heading level0 row25\" >25</th>\n",
       "      <td id=\"T_aa89c_row25_col0\" class=\"data row25 col0\" >USI</td>\n",
       "      <td id=\"T_aa89c_row25_col1\" class=\"data row25 col1\" >15fa</td>\n",
       "    </tr>\n",
       "  </tbody>\n",
       "</table>\n"
      ],
      "text/plain": [
       "<pandas.io.formats.style.Styler at 0x1db3426bad0>"
      ]
     },
     "metadata": {},
     "output_type": "display_data"
    }
   ],
   "source": [
    "s = setup(data = df_train_test,\n",
    "          target = 'Response',\n",
    "          fix_imbalance = True,\n",
    "          remove_outliers = True,\n",
    "          categorical_features = ['Education', 'Marital_Status'],\n",
    "          session_id = 123)"
   ]
  },
  {
   "cell_type": "code",
   "execution_count": 32,
   "metadata": {
    "colab": {
     "base_uri": "https://localhost:8080/",
     "height": 645
    },
    "executionInfo": {
     "elapsed": 295,
     "status": "ok",
     "timestamp": 1741988425227,
     "user": {
      "displayName": "Mario Deus",
      "userId": "12968936412646050740"
     },
     "user_tz": 180
    },
    "id": "4LH1aP6LWatB",
    "outputId": "6dd819f4-1f02-4844-c5d2-a2401dd01858"
   },
   "outputs": [
    {
     "data": {
      "text/html": [
       "<div>\n",
       "<style scoped>\n",
       "    .dataframe tbody tr th:only-of-type {\n",
       "        vertical-align: middle;\n",
       "    }\n",
       "\n",
       "    .dataframe tbody tr th {\n",
       "        vertical-align: top;\n",
       "    }\n",
       "\n",
       "    .dataframe thead th {\n",
       "        text-align: right;\n",
       "    }\n",
       "</style>\n",
       "<table border=\"1\" class=\"dataframe\">\n",
       "  <thead>\n",
       "    <tr style=\"text-align: right;\">\n",
       "      <th></th>\n",
       "      <th>Name</th>\n",
       "      <th>Reference</th>\n",
       "      <th>Turbo</th>\n",
       "    </tr>\n",
       "    <tr>\n",
       "      <th>ID</th>\n",
       "      <th></th>\n",
       "      <th></th>\n",
       "      <th></th>\n",
       "    </tr>\n",
       "  </thead>\n",
       "  <tbody>\n",
       "    <tr>\n",
       "      <th>lr</th>\n",
       "      <td>Logistic Regression</td>\n",
       "      <td>sklearn.linear_model._logistic.LogisticRegression</td>\n",
       "      <td>True</td>\n",
       "    </tr>\n",
       "    <tr>\n",
       "      <th>knn</th>\n",
       "      <td>K Neighbors Classifier</td>\n",
       "      <td>sklearn.neighbors._classification.KNeighborsClassifier</td>\n",
       "      <td>True</td>\n",
       "    </tr>\n",
       "    <tr>\n",
       "      <th>nb</th>\n",
       "      <td>Naive Bayes</td>\n",
       "      <td>sklearn.naive_bayes.GaussianNB</td>\n",
       "      <td>True</td>\n",
       "    </tr>\n",
       "    <tr>\n",
       "      <th>dt</th>\n",
       "      <td>Decision Tree Classifier</td>\n",
       "      <td>sklearn.tree._classes.DecisionTreeClassifier</td>\n",
       "      <td>True</td>\n",
       "    </tr>\n",
       "    <tr>\n",
       "      <th>svm</th>\n",
       "      <td>SVM - Linear Kernel</td>\n",
       "      <td>sklearn.linear_model._stochastic_gradient.SGDClassifier</td>\n",
       "      <td>True</td>\n",
       "    </tr>\n",
       "    <tr>\n",
       "      <th>rbfsvm</th>\n",
       "      <td>SVM - Radial Kernel</td>\n",
       "      <td>sklearn.svm._classes.SVC</td>\n",
       "      <td>False</td>\n",
       "    </tr>\n",
       "    <tr>\n",
       "      <th>gpc</th>\n",
       "      <td>Gaussian Process Classifier</td>\n",
       "      <td>sklearn.gaussian_process._gpc.GaussianProcessClassifier</td>\n",
       "      <td>False</td>\n",
       "    </tr>\n",
       "    <tr>\n",
       "      <th>mlp</th>\n",
       "      <td>MLP Classifier</td>\n",
       "      <td>sklearn.neural_network._multilayer_perceptron.MLPClassifier</td>\n",
       "      <td>False</td>\n",
       "    </tr>\n",
       "    <tr>\n",
       "      <th>ridge</th>\n",
       "      <td>Ridge Classifier</td>\n",
       "      <td>sklearn.linear_model._ridge.RidgeClassifier</td>\n",
       "      <td>True</td>\n",
       "    </tr>\n",
       "    <tr>\n",
       "      <th>rf</th>\n",
       "      <td>Random Forest Classifier</td>\n",
       "      <td>sklearn.ensemble._forest.RandomForestClassifier</td>\n",
       "      <td>True</td>\n",
       "    </tr>\n",
       "    <tr>\n",
       "      <th>qda</th>\n",
       "      <td>Quadratic Discriminant Analysis</td>\n",
       "      <td>sklearn.discriminant_analysis.QuadraticDiscriminantAnalysis</td>\n",
       "      <td>True</td>\n",
       "    </tr>\n",
       "    <tr>\n",
       "      <th>ada</th>\n",
       "      <td>Ada Boost Classifier</td>\n",
       "      <td>sklearn.ensemble._weight_boosting.AdaBoostClassifier</td>\n",
       "      <td>True</td>\n",
       "    </tr>\n",
       "    <tr>\n",
       "      <th>gbc</th>\n",
       "      <td>Gradient Boosting Classifier</td>\n",
       "      <td>sklearn.ensemble._gb.GradientBoostingClassifier</td>\n",
       "      <td>True</td>\n",
       "    </tr>\n",
       "    <tr>\n",
       "      <th>lda</th>\n",
       "      <td>Linear Discriminant Analysis</td>\n",
       "      <td>sklearn.discriminant_analysis.LinearDiscriminantAnalysis</td>\n",
       "      <td>True</td>\n",
       "    </tr>\n",
       "    <tr>\n",
       "      <th>et</th>\n",
       "      <td>Extra Trees Classifier</td>\n",
       "      <td>sklearn.ensemble._forest.ExtraTreesClassifier</td>\n",
       "      <td>True</td>\n",
       "    </tr>\n",
       "    <tr>\n",
       "      <th>lightgbm</th>\n",
       "      <td>Light Gradient Boosting Machine</td>\n",
       "      <td>lightgbm.sklearn.LGBMClassifier</td>\n",
       "      <td>True</td>\n",
       "    </tr>\n",
       "    <tr>\n",
       "      <th>dummy</th>\n",
       "      <td>Dummy Classifier</td>\n",
       "      <td>sklearn.dummy.DummyClassifier</td>\n",
       "      <td>True</td>\n",
       "    </tr>\n",
       "  </tbody>\n",
       "</table>\n",
       "</div>"
      ],
      "text/plain": [
       "                                     Name  \\\n",
       "ID                                          \n",
       "lr                    Logistic Regression   \n",
       "knn                K Neighbors Classifier   \n",
       "nb                            Naive Bayes   \n",
       "dt               Decision Tree Classifier   \n",
       "svm                   SVM - Linear Kernel   \n",
       "rbfsvm                SVM - Radial Kernel   \n",
       "gpc           Gaussian Process Classifier   \n",
       "mlp                        MLP Classifier   \n",
       "ridge                    Ridge Classifier   \n",
       "rf               Random Forest Classifier   \n",
       "qda       Quadratic Discriminant Analysis   \n",
       "ada                  Ada Boost Classifier   \n",
       "gbc          Gradient Boosting Classifier   \n",
       "lda          Linear Discriminant Analysis   \n",
       "et                 Extra Trees Classifier   \n",
       "lightgbm  Light Gradient Boosting Machine   \n",
       "dummy                    Dummy Classifier   \n",
       "\n",
       "                                                            Reference  Turbo  \n",
       "ID                                                                            \n",
       "lr                  sklearn.linear_model._logistic.LogisticRegression   True  \n",
       "knn            sklearn.neighbors._classification.KNeighborsClassifier   True  \n",
       "nb                                     sklearn.naive_bayes.GaussianNB   True  \n",
       "dt                       sklearn.tree._classes.DecisionTreeClassifier   True  \n",
       "svm           sklearn.linear_model._stochastic_gradient.SGDClassifier   True  \n",
       "rbfsvm                                       sklearn.svm._classes.SVC  False  \n",
       "gpc           sklearn.gaussian_process._gpc.GaussianProcessClassifier  False  \n",
       "mlp       sklearn.neural_network._multilayer_perceptron.MLPClassifier  False  \n",
       "ridge                     sklearn.linear_model._ridge.RidgeClassifier   True  \n",
       "rf                    sklearn.ensemble._forest.RandomForestClassifier   True  \n",
       "qda       sklearn.discriminant_analysis.QuadraticDiscriminantAnalysis   True  \n",
       "ada              sklearn.ensemble._weight_boosting.AdaBoostClassifier   True  \n",
       "gbc                   sklearn.ensemble._gb.GradientBoostingClassifier   True  \n",
       "lda          sklearn.discriminant_analysis.LinearDiscriminantAnalysis   True  \n",
       "et                      sklearn.ensemble._forest.ExtraTreesClassifier   True  \n",
       "lightgbm                              lightgbm.sklearn.LGBMClassifier   True  \n",
       "dummy                                   sklearn.dummy.DummyClassifier   True  "
      ]
     },
     "execution_count": 32,
     "metadata": {},
     "output_type": "execute_result"
    }
   ],
   "source": [
    "# check available models\n",
    "#has to be called necessary only after having defined a setup.\n",
    "models()"
   ]
  },
  {
   "cell_type": "markdown",
   "metadata": {
    "id": "1MwySsBu6v7B"
   },
   "source": [
    "## Comparativo entre Modelos"
   ]
  },
  {
   "cell_type": "code",
   "execution_count": 33,
   "metadata": {
    "colab": {
     "base_uri": "https://localhost:8080/",
     "height": 519,
     "referenced_widgets": [
      "56898e979163469b81d5e7431156e423",
      "817fd10f7bb348829516cf5f563e702e",
      "a5782fd505294f06b4ceb44cb9057167",
      "5e6e4601a0734ee2aa0cb691ce1109ac",
      "6e829664093c4c269069d8d3cc66b7bd",
      "ae2ed021d3244d55b04d555660862691",
      "e3bea446e750474481b8834b96b943c1",
      "56b453049b6b497bb586f92b9d557e81",
      "3baed5ef0bea47f7bd86611387479dac",
      "6b120d96ea05425d96a5e1b3f7fa94e5",
      "c4e0dd5f132049288f871634d9116c5d"
     ]
    },
    "executionInfo": {
     "elapsed": 109559,
     "status": "ok",
     "timestamp": 1741988535205,
     "user": {
      "displayName": "Mario Deus",
      "userId": "12968936412646050740"
     },
     "user_tz": 180
    },
    "id": "_Gpbr-eDNvqd",
    "outputId": "d482bbbc-d5ad-4021-b768-42c2301295dc"
   },
   "outputs": [
    {
     "data": {
      "text/html": [],
      "text/plain": [
       "<IPython.core.display.HTML object>"
      ]
     },
     "metadata": {},
     "output_type": "display_data"
    },
    {
     "data": {
      "text/html": [
       "<style type=\"text/css\">\n",
       "#T_13aa6 th {\n",
       "  text-align: left;\n",
       "}\n",
       "#T_13aa6_row0_col0, #T_13aa6_row0_col1, #T_13aa6_row0_col4, #T_13aa6_row0_col5, #T_13aa6_row0_col6, #T_13aa6_row0_col7, #T_13aa6_row1_col0, #T_13aa6_row1_col1, #T_13aa6_row1_col2, #T_13aa6_row1_col4, #T_13aa6_row1_col6, #T_13aa6_row2_col0, #T_13aa6_row2_col1, #T_13aa6_row2_col2, #T_13aa6_row2_col3, #T_13aa6_row2_col4, #T_13aa6_row2_col5, #T_13aa6_row2_col6, #T_13aa6_row2_col7, #T_13aa6_row3_col0, #T_13aa6_row3_col1, #T_13aa6_row3_col2, #T_13aa6_row3_col3, #T_13aa6_row3_col4, #T_13aa6_row3_col5, #T_13aa6_row3_col6, #T_13aa6_row3_col7, #T_13aa6_row4_col0, #T_13aa6_row4_col1, #T_13aa6_row4_col2, #T_13aa6_row4_col3, #T_13aa6_row4_col4, #T_13aa6_row4_col5, #T_13aa6_row4_col6, #T_13aa6_row4_col7, #T_13aa6_row5_col0, #T_13aa6_row5_col1, #T_13aa6_row5_col2, #T_13aa6_row5_col3, #T_13aa6_row5_col4, #T_13aa6_row5_col5, #T_13aa6_row5_col7, #T_13aa6_row6_col0, #T_13aa6_row6_col2, #T_13aa6_row6_col3, #T_13aa6_row6_col5, #T_13aa6_row6_col6, #T_13aa6_row6_col7, #T_13aa6_row7_col0, #T_13aa6_row7_col1, #T_13aa6_row7_col2, #T_13aa6_row7_col3, #T_13aa6_row7_col4, #T_13aa6_row7_col5, #T_13aa6_row7_col6, #T_13aa6_row7_col7, #T_13aa6_row8_col0, #T_13aa6_row8_col1, #T_13aa6_row8_col2, #T_13aa6_row8_col3, #T_13aa6_row8_col4, #T_13aa6_row8_col5, #T_13aa6_row8_col6, #T_13aa6_row8_col7, #T_13aa6_row9_col0, #T_13aa6_row9_col1, #T_13aa6_row9_col2, #T_13aa6_row9_col3, #T_13aa6_row9_col4, #T_13aa6_row9_col5, #T_13aa6_row9_col6, #T_13aa6_row9_col7, #T_13aa6_row10_col0, #T_13aa6_row10_col1, #T_13aa6_row10_col2, #T_13aa6_row10_col3, #T_13aa6_row10_col4, #T_13aa6_row10_col5, #T_13aa6_row10_col6, #T_13aa6_row10_col7, #T_13aa6_row11_col0, #T_13aa6_row11_col1, #T_13aa6_row11_col2, #T_13aa6_row11_col3, #T_13aa6_row11_col4, #T_13aa6_row11_col5, #T_13aa6_row11_col6, #T_13aa6_row11_col7, #T_13aa6_row12_col0, #T_13aa6_row12_col1, #T_13aa6_row12_col2, #T_13aa6_row12_col3, #T_13aa6_row12_col4, #T_13aa6_row12_col5, #T_13aa6_row12_col6, #T_13aa6_row12_col7, #T_13aa6_row13_col0, #T_13aa6_row13_col1, #T_13aa6_row13_col2, #T_13aa6_row13_col3, #T_13aa6_row13_col4, #T_13aa6_row13_col5, #T_13aa6_row13_col6, #T_13aa6_row13_col7 {\n",
       "  text-align: left;\n",
       "}\n",
       "#T_13aa6_row0_col2, #T_13aa6_row0_col3, #T_13aa6_row1_col3, #T_13aa6_row1_col5, #T_13aa6_row1_col7, #T_13aa6_row5_col6, #T_13aa6_row6_col1, #T_13aa6_row6_col4 {\n",
       "  text-align: left;\n",
       "  background-color: yellow;\n",
       "}\n",
       "#T_13aa6_row0_col8 {\n",
       "  text-align: left;\n",
       "  background-color: yellow;\n",
       "  background-color: lightgrey;\n",
       "}\n",
       "#T_13aa6_row1_col8, #T_13aa6_row2_col8, #T_13aa6_row3_col8, #T_13aa6_row4_col8, #T_13aa6_row5_col8, #T_13aa6_row6_col8, #T_13aa6_row7_col8, #T_13aa6_row8_col8, #T_13aa6_row9_col8, #T_13aa6_row10_col8, #T_13aa6_row11_col8, #T_13aa6_row12_col8, #T_13aa6_row13_col8 {\n",
       "  text-align: left;\n",
       "  background-color: lightgrey;\n",
       "}\n",
       "</style>\n",
       "<table id=\"T_13aa6\">\n",
       "  <thead>\n",
       "    <tr>\n",
       "      <th class=\"blank level0\" >&nbsp;</th>\n",
       "      <th id=\"T_13aa6_level0_col0\" class=\"col_heading level0 col0\" >Model</th>\n",
       "      <th id=\"T_13aa6_level0_col1\" class=\"col_heading level0 col1\" >Accuracy</th>\n",
       "      <th id=\"T_13aa6_level0_col2\" class=\"col_heading level0 col2\" >AUC</th>\n",
       "      <th id=\"T_13aa6_level0_col3\" class=\"col_heading level0 col3\" >Recall</th>\n",
       "      <th id=\"T_13aa6_level0_col4\" class=\"col_heading level0 col4\" >Prec.</th>\n",
       "      <th id=\"T_13aa6_level0_col5\" class=\"col_heading level0 col5\" >F1</th>\n",
       "      <th id=\"T_13aa6_level0_col6\" class=\"col_heading level0 col6\" >Kappa</th>\n",
       "      <th id=\"T_13aa6_level0_col7\" class=\"col_heading level0 col7\" >MCC</th>\n",
       "      <th id=\"T_13aa6_level0_col8\" class=\"col_heading level0 col8\" >TT (Sec)</th>\n",
       "    </tr>\n",
       "  </thead>\n",
       "  <tbody>\n",
       "    <tr>\n",
       "      <th id=\"T_13aa6_level0_row0\" class=\"row_heading level0 row0\" >ridge</th>\n",
       "      <td id=\"T_13aa6_row0_col0\" class=\"data row0 col0\" >Ridge Classifier</td>\n",
       "      <td id=\"T_13aa6_row0_col1\" class=\"data row0 col1\" >0.8121</td>\n",
       "      <td id=\"T_13aa6_row0_col2\" class=\"data row0 col2\" >0.9005</td>\n",
       "      <td id=\"T_13aa6_row0_col3\" class=\"data row0 col3\" >0.8099</td>\n",
       "      <td id=\"T_13aa6_row0_col4\" class=\"data row0 col4\" >0.4380</td>\n",
       "      <td id=\"T_13aa6_row0_col5\" class=\"data row0 col5\" >0.5669</td>\n",
       "      <td id=\"T_13aa6_row0_col6\" class=\"data row0 col6\" >0.4613</td>\n",
       "      <td id=\"T_13aa6_row0_col7\" class=\"data row0 col7\" >0.4976</td>\n",
       "      <td id=\"T_13aa6_row0_col8\" class=\"data row0 col8\" >0.0180</td>\n",
       "    </tr>\n",
       "    <tr>\n",
       "      <th id=\"T_13aa6_level0_row1\" class=\"row_heading level0 row1\" >lda</th>\n",
       "      <td id=\"T_13aa6_row1_col0\" class=\"data row1 col0\" >Linear Discriminant Analysis</td>\n",
       "      <td id=\"T_13aa6_row1_col1\" class=\"data row1 col1\" >0.8128</td>\n",
       "      <td id=\"T_13aa6_row1_col2\" class=\"data row1 col2\" >0.9004</td>\n",
       "      <td id=\"T_13aa6_row1_col3\" class=\"data row1 col3\" >0.8099</td>\n",
       "      <td id=\"T_13aa6_row1_col4\" class=\"data row1 col4\" >0.4389</td>\n",
       "      <td id=\"T_13aa6_row1_col5\" class=\"data row1 col5\" >0.5677</td>\n",
       "      <td id=\"T_13aa6_row1_col6\" class=\"data row1 col6\" >0.4624</td>\n",
       "      <td id=\"T_13aa6_row1_col7\" class=\"data row1 col7\" >0.4985</td>\n",
       "      <td id=\"T_13aa6_row1_col8\" class=\"data row1 col8\" >0.0190</td>\n",
       "    </tr>\n",
       "    <tr>\n",
       "      <th id=\"T_13aa6_level0_row2\" class=\"row_heading level0 row2\" >gbc</th>\n",
       "      <td id=\"T_13aa6_row2_col0\" class=\"data row2 col0\" >Gradient Boosting Classifier</td>\n",
       "      <td id=\"T_13aa6_row2_col1\" class=\"data row2 col1\" >0.8741</td>\n",
       "      <td id=\"T_13aa6_row2_col2\" class=\"data row2 col2\" >0.8916</td>\n",
       "      <td id=\"T_13aa6_row2_col3\" class=\"data row2 col3\" >0.4478</td>\n",
       "      <td id=\"T_13aa6_row2_col4\" class=\"data row2 col4\" >0.6165</td>\n",
       "      <td id=\"T_13aa6_row2_col5\" class=\"data row2 col5\" >0.5155</td>\n",
       "      <td id=\"T_13aa6_row2_col6\" class=\"data row2 col6\" >0.4455</td>\n",
       "      <td id=\"T_13aa6_row2_col7\" class=\"data row2 col7\" >0.4548</td>\n",
       "      <td id=\"T_13aa6_row2_col8\" class=\"data row2 col8\" >0.0980</td>\n",
       "    </tr>\n",
       "    <tr>\n",
       "      <th id=\"T_13aa6_level0_row3\" class=\"row_heading level0 row3\" >lightgbm</th>\n",
       "      <td id=\"T_13aa6_row3_col0\" class=\"data row3 col0\" >Light Gradient Boosting Machine</td>\n",
       "      <td id=\"T_13aa6_row3_col1\" class=\"data row3 col1\" >0.8727</td>\n",
       "      <td id=\"T_13aa6_row3_col2\" class=\"data row3 col2\" >0.8863</td>\n",
       "      <td id=\"T_13aa6_row3_col3\" class=\"data row3 col3\" >0.3802</td>\n",
       "      <td id=\"T_13aa6_row3_col4\" class=\"data row3 col4\" >0.6329</td>\n",
       "      <td id=\"T_13aa6_row3_col5\" class=\"data row3 col5\" >0.4700</td>\n",
       "      <td id=\"T_13aa6_row3_col6\" class=\"data row3 col6\" >0.4034</td>\n",
       "      <td id=\"T_13aa6_row3_col7\" class=\"data row3 col7\" >0.4229</td>\n",
       "      <td id=\"T_13aa6_row3_col8\" class=\"data row3 col8\" >0.1250</td>\n",
       "    </tr>\n",
       "    <tr>\n",
       "      <th id=\"T_13aa6_level0_row4\" class=\"row_heading level0 row4\" >rf</th>\n",
       "      <td id=\"T_13aa6_row4_col0\" class=\"data row4 col0\" >Random Forest Classifier</td>\n",
       "      <td id=\"T_13aa6_row4_col1\" class=\"data row4 col1\" >0.8836</td>\n",
       "      <td id=\"T_13aa6_row4_col2\" class=\"data row4 col2\" >0.8785</td>\n",
       "      <td id=\"T_13aa6_row4_col3\" class=\"data row4 col3\" >0.3802</td>\n",
       "      <td id=\"T_13aa6_row4_col4\" class=\"data row4 col4\" >0.7094</td>\n",
       "      <td id=\"T_13aa6_row4_col5\" class=\"data row4 col5\" >0.4914</td>\n",
       "      <td id=\"T_13aa6_row4_col6\" class=\"data row4 col6\" >0.4333</td>\n",
       "      <td id=\"T_13aa6_row4_col7\" class=\"data row4 col7\" >0.4618</td>\n",
       "      <td id=\"T_13aa6_row4_col8\" class=\"data row4 col8\" >0.0480</td>\n",
       "    </tr>\n",
       "    <tr>\n",
       "      <th id=\"T_13aa6_level0_row5\" class=\"row_heading level0 row5\" >ada</th>\n",
       "      <td id=\"T_13aa6_row5_col0\" class=\"data row5 col0\" >Ada Boost Classifier</td>\n",
       "      <td id=\"T_13aa6_row5_col1\" class=\"data row5 col1\" >0.8632</td>\n",
       "      <td id=\"T_13aa6_row5_col2\" class=\"data row5 col2\" >0.8658</td>\n",
       "      <td id=\"T_13aa6_row5_col3\" class=\"data row5 col3\" >0.5524</td>\n",
       "      <td id=\"T_13aa6_row5_col4\" class=\"data row5 col4\" >0.5535</td>\n",
       "      <td id=\"T_13aa6_row5_col5\" class=\"data row5 col5\" >0.5485</td>\n",
       "      <td id=\"T_13aa6_row5_col6\" class=\"data row5 col6\" >0.4685</td>\n",
       "      <td id=\"T_13aa6_row5_col7\" class=\"data row5 col7\" >0.4711</td>\n",
       "      <td id=\"T_13aa6_row5_col8\" class=\"data row5 col8\" >0.0400</td>\n",
       "    </tr>\n",
       "    <tr>\n",
       "      <th id=\"T_13aa6_level0_row6\" class=\"row_heading level0 row6\" >et</th>\n",
       "      <td id=\"T_13aa6_row6_col0\" class=\"data row6 col0\" >Extra Trees Classifier</td>\n",
       "      <td id=\"T_13aa6_row6_col1\" class=\"data row6 col1\" >0.8870</td>\n",
       "      <td id=\"T_13aa6_row6_col2\" class=\"data row6 col2\" >0.8536</td>\n",
       "      <td id=\"T_13aa6_row6_col3\" class=\"data row6 col3\" >0.3798</td>\n",
       "      <td id=\"T_13aa6_row6_col4\" class=\"data row6 col4\" >0.7532</td>\n",
       "      <td id=\"T_13aa6_row6_col5\" class=\"data row6 col5\" >0.5003</td>\n",
       "      <td id=\"T_13aa6_row6_col6\" class=\"data row6 col6\" >0.4448</td>\n",
       "      <td id=\"T_13aa6_row6_col7\" class=\"data row6 col7\" >0.4803</td>\n",
       "      <td id=\"T_13aa6_row6_col8\" class=\"data row6 col8\" >0.0390</td>\n",
       "    </tr>\n",
       "    <tr>\n",
       "      <th id=\"T_13aa6_level0_row7\" class=\"row_heading level0 row7\" >qda</th>\n",
       "      <td id=\"T_13aa6_row7_col0\" class=\"data row7 col0\" >Quadratic Discriminant Analysis</td>\n",
       "      <td id=\"T_13aa6_row7_col1\" class=\"data row7 col1\" >0.7641</td>\n",
       "      <td id=\"T_13aa6_row7_col2\" class=\"data row7 col2\" >0.8299</td>\n",
       "      <td id=\"T_13aa6_row7_col3\" class=\"data row7 col3\" >0.6478</td>\n",
       "      <td id=\"T_13aa6_row7_col4\" class=\"data row7 col4\" >0.4101</td>\n",
       "      <td id=\"T_13aa6_row7_col5\" class=\"data row7 col5\" >0.4827</td>\n",
       "      <td id=\"T_13aa6_row7_col6\" class=\"data row7 col6\" >0.3647</td>\n",
       "      <td id=\"T_13aa6_row7_col7\" class=\"data row7 col7\" >0.3804</td>\n",
       "      <td id=\"T_13aa6_row7_col8\" class=\"data row7 col8\" >0.0210</td>\n",
       "    </tr>\n",
       "    <tr>\n",
       "      <th id=\"T_13aa6_level0_row8\" class=\"row_heading level0 row8\" >lr</th>\n",
       "      <td id=\"T_13aa6_row8_col0\" class=\"data row8 col0\" >Logistic Regression</td>\n",
       "      <td id=\"T_13aa6_row8_col1\" class=\"data row8 col1\" >0.7475</td>\n",
       "      <td id=\"T_13aa6_row8_col2\" class=\"data row8 col2\" >0.8114</td>\n",
       "      <td id=\"T_13aa6_row8_col3\" class=\"data row8 col3\" >0.7235</td>\n",
       "      <td id=\"T_13aa6_row8_col4\" class=\"data row8 col4\" >0.3411</td>\n",
       "      <td id=\"T_13aa6_row8_col5\" class=\"data row8 col5\" >0.4625</td>\n",
       "      <td id=\"T_13aa6_row8_col6\" class=\"data row8 col6\" >0.3247</td>\n",
       "      <td id=\"T_13aa6_row8_col7\" class=\"data row8 col7\" >0.3649</td>\n",
       "      <td id=\"T_13aa6_row8_col8\" class=\"data row8 col8\" >0.4210</td>\n",
       "    </tr>\n",
       "    <tr>\n",
       "      <th id=\"T_13aa6_level0_row9\" class=\"row_heading level0 row9\" >nb</th>\n",
       "      <td id=\"T_13aa6_row9_col0\" class=\"data row9 col0\" >Naive Bayes</td>\n",
       "      <td id=\"T_13aa6_row9_col1\" class=\"data row9 col1\" >0.6937</td>\n",
       "      <td id=\"T_13aa6_row9_col2\" class=\"data row9 col2\" >0.7793</td>\n",
       "      <td id=\"T_13aa6_row9_col3\" class=\"data row9 col3\" >0.6785</td>\n",
       "      <td id=\"T_13aa6_row9_col4\" class=\"data row9 col4\" >0.2853</td>\n",
       "      <td id=\"T_13aa6_row9_col5\" class=\"data row9 col5\" >0.4006</td>\n",
       "      <td id=\"T_13aa6_row9_col6\" class=\"data row9 col6\" >0.2396</td>\n",
       "      <td id=\"T_13aa6_row9_col7\" class=\"data row9 col7\" >0.2804</td>\n",
       "      <td id=\"T_13aa6_row9_col8\" class=\"data row9 col8\" >0.0200</td>\n",
       "    </tr>\n",
       "    <tr>\n",
       "      <th id=\"T_13aa6_level0_row10\" class=\"row_heading level0 row10\" >svm</th>\n",
       "      <td id=\"T_13aa6_row10_col0\" class=\"data row10 col0\" >SVM - Linear Kernel</td>\n",
       "      <td id=\"T_13aa6_row10_col1\" class=\"data row10 col1\" >0.3815</td>\n",
       "      <td id=\"T_13aa6_row10_col2\" class=\"data row10 col2\" >0.6828</td>\n",
       "      <td id=\"T_13aa6_row10_col3\" class=\"data row10 col3\" >0.7466</td>\n",
       "      <td id=\"T_13aa6_row10_col4\" class=\"data row10 col4\" >0.1879</td>\n",
       "      <td id=\"T_13aa6_row10_col5\" class=\"data row10 col5\" >0.2366</td>\n",
       "      <td id=\"T_13aa6_row10_col6\" class=\"data row10 col6\" >0.0399</td>\n",
       "      <td id=\"T_13aa6_row10_col7\" class=\"data row10 col7\" >0.0462</td>\n",
       "      <td id=\"T_13aa6_row10_col8\" class=\"data row10 col8\" >0.0210</td>\n",
       "    </tr>\n",
       "    <tr>\n",
       "      <th id=\"T_13aa6_level0_row11\" class=\"row_heading level0 row11\" >dt</th>\n",
       "      <td id=\"T_13aa6_row11_col0\" class=\"data row11 col0\" >Decision Tree Classifier</td>\n",
       "      <td id=\"T_13aa6_row11_col1\" class=\"data row11 col1\" >0.8203</td>\n",
       "      <td id=\"T_13aa6_row11_col2\" class=\"data row11 col2\" >0.6788</td>\n",
       "      <td id=\"T_13aa6_row11_col3\" class=\"data row11 col3\" >0.4747</td>\n",
       "      <td id=\"T_13aa6_row11_col4\" class=\"data row11 col4\" >0.4186</td>\n",
       "      <td id=\"T_13aa6_row11_col5\" class=\"data row11 col5\" >0.4431</td>\n",
       "      <td id=\"T_13aa6_row11_col6\" class=\"data row11 col6\" >0.3369</td>\n",
       "      <td id=\"T_13aa6_row11_col7\" class=\"data row11 col7\" >0.3389</td>\n",
       "      <td id=\"T_13aa6_row11_col8\" class=\"data row11 col8\" >0.0200</td>\n",
       "    </tr>\n",
       "    <tr>\n",
       "      <th id=\"T_13aa6_level0_row12\" class=\"row_heading level0 row12\" >knn</th>\n",
       "      <td id=\"T_13aa6_row12_col0\" class=\"data row12 col0\" >K Neighbors Classifier</td>\n",
       "      <td id=\"T_13aa6_row12_col1\" class=\"data row12 col1\" >0.6807</td>\n",
       "      <td id=\"T_13aa6_row12_col2\" class=\"data row12 col2\" >0.6549</td>\n",
       "      <td id=\"T_13aa6_row12_col3\" class=\"data row12 col3\" >0.5609</td>\n",
       "      <td id=\"T_13aa6_row12_col4\" class=\"data row12 col4\" >0.2514</td>\n",
       "      <td id=\"T_13aa6_row12_col5\" class=\"data row12 col5\" >0.3468</td>\n",
       "      <td id=\"T_13aa6_row12_col6\" class=\"data row12 col6\" >0.1752</td>\n",
       "      <td id=\"T_13aa6_row12_col7\" class=\"data row12 col7\" >0.1995</td>\n",
       "      <td id=\"T_13aa6_row12_col8\" class=\"data row12 col8\" >0.3360</td>\n",
       "    </tr>\n",
       "    <tr>\n",
       "      <th id=\"T_13aa6_level0_row13\" class=\"row_heading level0 row13\" >dummy</th>\n",
       "      <td id=\"T_13aa6_row13_col0\" class=\"data row13 col0\" >Dummy Classifier</td>\n",
       "      <td id=\"T_13aa6_row13_col1\" class=\"data row13 col1\" >0.8496</td>\n",
       "      <td id=\"T_13aa6_row13_col2\" class=\"data row13 col2\" >0.0000</td>\n",
       "      <td id=\"T_13aa6_row13_col3\" class=\"data row13 col3\" >0.0000</td>\n",
       "      <td id=\"T_13aa6_row13_col4\" class=\"data row13 col4\" >0.0000</td>\n",
       "      <td id=\"T_13aa6_row13_col5\" class=\"data row13 col5\" >0.0000</td>\n",
       "      <td id=\"T_13aa6_row13_col6\" class=\"data row13 col6\" >0.0000</td>\n",
       "      <td id=\"T_13aa6_row13_col7\" class=\"data row13 col7\" >0.0000</td>\n",
       "      <td id=\"T_13aa6_row13_col8\" class=\"data row13 col8\" >0.0190</td>\n",
       "    </tr>\n",
       "  </tbody>\n",
       "</table>\n"
      ],
      "text/plain": [
       "<pandas.io.formats.style.Styler at 0x1db343bae90>"
      ]
     },
     "metadata": {},
     "output_type": "display_data"
    },
    {
     "data": {
      "text/html": [],
      "text/plain": [
       "<IPython.core.display.HTML object>"
      ]
     },
     "metadata": {},
     "output_type": "display_data"
    }
   ],
   "source": [
    "best_model = compare_models(sort = 'auc', errors = 'raise')"
   ]
  },
  {
   "cell_type": "code",
   "execution_count": null,
   "metadata": {},
   "outputs": [],
   "source": [
    "#Linha acrescentada por aluno para salvar tabela com os resultados dos modelos\n",
    "resultados = pull()\n",
    "resultados.to_csv('Model Training\\pycaret_first_results.csv',index = False, encoding = 'utf-8')\n"
   ]
  },
  {
   "cell_type": "code",
   "execution_count": 26,
   "metadata": {
    "colab": {
     "base_uri": "https://localhost:8080/"
    },
    "executionInfo": {
     "elapsed": 10,
     "status": "ok",
     "timestamp": 1741988535206,
     "user": {
      "displayName": "Mario Deus",
      "userId": "12968936412646050740"
     },
     "user_tz": 180
    },
    "id": "r6oZQjwflhvg",
    "outputId": "ece9d668-73f3-4966-f599-a9ccd735269b"
   },
   "outputs": [
    {
     "name": "stdout",
     "output_type": "stream",
     "text": [
      "RidgeClassifier(alpha=1.0, class_weight=None, copy_X=True, fit_intercept=True,\n",
      "                max_iter=None, positive=False, random_state=123, solver='auto',\n",
      "                tol=0.0001)\n"
     ]
    }
   ],
   "source": [
    "print(best_model)"
   ]
  },
  {
   "cell_type": "code",
   "execution_count": null,
   "metadata": {},
   "outputs": [
    {
     "name": "stdout",
     "output_type": "stream",
     "text": [
      "Transformation Pipeline and Model Successfully Saved\n"
     ]
    }
   ],
   "source": [
    "#Linha acrescentada por aluno para salvar o modelo e suas informações\n",
    "save_model(best_model, 'Model Training\\pycaret_first_results_best_model')\n",
    "with open(\"Model Training\\pycaret_first_results_best_model_info.txt\", \"w\") as f:\n",
    "    f.write(str(best_model))\n"
   ]
  },
  {
   "cell_type": "markdown",
   "metadata": {
    "id": "qdasnDQI65XP"
   },
   "source": [
    "## Análise do Modelo"
   ]
  },
  {
   "cell_type": "code",
   "execution_count": null,
   "metadata": {
    "colab": {
     "base_uri": "https://localhost:8080/",
     "height": 665,
     "referenced_widgets": [
      "7921e2ad02924daab211063083d7ece5",
      "4a16201406a64fb693d4b229bd42b093",
      "46a30b6de89d4337b58e2dcd4f0e4c46",
      "a146954072b447719aa96cf3e0b225ed",
      "82a579eab8d94e9bb8ef8a60106b348b",
      "7e60415eb8354dde93bd2ba555fde2cc",
      "8080d0cec1bc495fa46ab7edecce911b"
     ]
    },
    "executionInfo": {
     "elapsed": 816,
     "status": "ok",
     "timestamp": 1741988536014,
     "user": {
      "displayName": "Mario Deus",
      "userId": "12968936412646050740"
     },
     "user_tz": 180
    },
    "id": "RPGtLz0JVN8O",
    "outputId": "2e04c2f6-6939-44cc-f8bf-a1fc9fecd119"
   },
   "outputs": [],
   "source": [
    "#evaluate best model\n",
    "evaluate_model(???)"
   ]
  },
  {
   "cell_type": "code",
   "execution_count": 41,
   "metadata": {
    "colab": {
     "base_uri": "https://localhost:8080/",
     "height": 524
    },
    "executionInfo": {
     "elapsed": 3220,
     "status": "ok",
     "timestamp": 1741988539226,
     "user": {
      "displayName": "Mario Deus",
      "userId": "12968936412646050740"
     },
     "user_tz": 180
    },
    "id": "fKiF8-Z9e0l0",
    "outputId": "377cee9f-80ab-4d84-8d4b-b02a11897297"
   },
   "outputs": [
    {
     "data": {
      "text/html": [],
      "text/plain": [
       "<IPython.core.display.HTML object>"
      ]
     },
     "metadata": {},
     "output_type": "display_data"
    },
    {
     "data": {
      "image/png": "[encoded data removed]",
      "text/plain": [
       "<Figure size 800x550 with 1 Axes>"
      ]
     },
     "metadata": {},
     "output_type": "display_data"
    }
   ],
   "source": [
    "#plot model - treshold\n",
    "plot_model(best_model, plot = 'threshold')"
   ]
  },
  {
   "cell_type": "code",
   "execution_count": 42,
   "metadata": {
    "colab": {
     "base_uri": "https://localhost:8080/",
     "height": 551
    },
    "executionInfo": {
     "elapsed": 477,
     "status": "ok",
     "timestamp": 1741988676114,
     "user": {
      "displayName": "Mario Deus",
      "userId": "12968936412646050740"
     },
     "user_tz": 180
    },
    "id": "fPlCWTcYVaUE",
    "outputId": "c2c8411a-ff7e-43cf-d191-78df3da3adad"
   },
   "outputs": [
    {
     "data": {
      "text/html": [],
      "text/plain": [
       "<IPython.core.display.HTML object>"
      ]
     },
     "metadata": {},
     "output_type": "display_data"
    },
    {
     "data": {
      "image/png": "[encoded data removed]",
      "text/plain": [
       "<Figure size 800x550 with 1 Axes>"
      ]
     },
     "metadata": {},
     "output_type": "display_data"
    }
   ],
   "source": [
    "#plot model - confusion matrix\n",
    "plot_model(best_model, plot = 'confusion_matrix')"
   ]
  },
  {
   "cell_type": "code",
   "execution_count": 45,
   "metadata": {
    "colab": {
     "base_uri": "https://localhost:8080/",
     "height": 485
    },
    "executionInfo": {
     "elapsed": 549,
     "status": "ok",
     "timestamp": 1741988676660,
     "user": {
      "displayName": "Mario Deus",
      "userId": "12968936412646050740"
     },
     "user_tz": 180
    },
    "id": "nbdq4H6bVeZi",
    "outputId": "7dea60b8-64e2-4ca6-b704-4cbc5d2418e9"
   },
   "outputs": [
    {
     "data": {
      "text/html": [],
      "text/plain": [
       "<IPython.core.display.HTML object>"
      ]
     },
     "metadata": {},
     "output_type": "display_data"
    },
    {
     "data": {
      "image/png": "[encoded data removed]",
      "text/plain": [
       "<Figure size 800x500 with 1 Axes>"
      ]
     },
     "metadata": {},
     "output_type": "display_data"
    }
   ],
   "source": [
    "#plot model - feature\n",
    "plot_model(best_model, plot = 'feature')"
   ]
  },
  {
   "cell_type": "code",
   "execution_count": 48,
   "metadata": {
    "colab": {
     "base_uri": "https://localhost:8080/",
     "height": 507
    },
    "executionInfo": {
     "elapsed": 7,
     "status": "ok",
     "timestamp": 1741988676660,
     "user": {
      "displayName": "Mario Deus",
      "userId": "12968936412646050740"
     },
     "user_tz": 180
    },
    "id": "83zuVy5PVUsb",
    "outputId": "38fe6ac2-90e3-4944-94bd-e2b7935a6584"
   },
   "outputs": [
    {
     "data": {
      "text/html": [
       "<style type=\"text/css\">\n",
       "</style>\n",
       "<table id=\"T_f1b91\">\n",
       "  <thead>\n",
       "    <tr>\n",
       "      <th class=\"blank level0\" >&nbsp;</th>\n",
       "      <th id=\"T_f1b91_level0_col0\" class=\"col_heading level0 col0\" >Model</th>\n",
       "      <th id=\"T_f1b91_level0_col1\" class=\"col_heading level0 col1\" >Accuracy</th>\n",
       "      <th id=\"T_f1b91_level0_col2\" class=\"col_heading level0 col2\" >AUC</th>\n",
       "      <th id=\"T_f1b91_level0_col3\" class=\"col_heading level0 col3\" >Recall</th>\n",
       "      <th id=\"T_f1b91_level0_col4\" class=\"col_heading level0 col4\" >Prec.</th>\n",
       "      <th id=\"T_f1b91_level0_col5\" class=\"col_heading level0 col5\" >F1</th>\n",
       "      <th id=\"T_f1b91_level0_col6\" class=\"col_heading level0 col6\" >Kappa</th>\n",
       "      <th id=\"T_f1b91_level0_col7\" class=\"col_heading level0 col7\" >MCC</th>\n",
       "    </tr>\n",
       "  </thead>\n",
       "  <tbody>\n",
       "    <tr>\n",
       "      <th id=\"T_f1b91_level0_row0\" class=\"row_heading level0 row0\" >0</th>\n",
       "      <td id=\"T_f1b91_row0_col0\" class=\"data row0 col0\" >Ridge Classifier</td>\n",
       "      <td id=\"T_f1b91_row0_col1\" class=\"data row0 col1\" >0.7545</td>\n",
       "      <td id=\"T_f1b91_row0_col2\" class=\"data row0 col2\" >0.7679</td>\n",
       "      <td id=\"T_f1b91_row0_col3\" class=\"data row0 col3\" >0.7857</td>\n",
       "      <td id=\"T_f1b91_row0_col4\" class=\"data row0 col4\" >0.3143</td>\n",
       "      <td id=\"T_f1b91_row0_col5\" class=\"data row0 col5\" >0.4490</td>\n",
       "      <td id=\"T_f1b91_row0_col6\" class=\"data row0 col6\" >0.3265</td>\n",
       "      <td id=\"T_f1b91_row0_col7\" class=\"data row0 col7\" >0.3833</td>\n",
       "    </tr>\n",
       "  </tbody>\n",
       "</table>\n"
      ],
      "text/plain": [
       "<pandas.io.formats.style.Styler at 0x1db3416b010>"
      ]
     },
     "metadata": {},
     "output_type": "display_data"
    },
    {
     "data": {
      "text/html": [
       "<div>\n",
       "<style scoped>\n",
       "    .dataframe tbody tr th:only-of-type {\n",
       "        vertical-align: middle;\n",
       "    }\n",
       "\n",
       "    .dataframe tbody tr th {\n",
       "        vertical-align: top;\n",
       "    }\n",
       "\n",
       "    .dataframe thead th {\n",
       "        text-align: right;\n",
       "    }\n",
       "</style>\n",
       "<table border=\"1\" class=\"dataframe\">\n",
       "  <thead>\n",
       "    <tr style=\"text-align: right;\">\n",
       "      <th></th>\n",
       "      <th>AcceptedCmp1</th>\n",
       "      <th>AcceptedCmp2</th>\n",
       "      <th>AcceptedCmp3</th>\n",
       "      <th>AcceptedCmp4</th>\n",
       "      <th>AcceptedCmp5</th>\n",
       "      <th>Age</th>\n",
       "      <th>Complain</th>\n",
       "      <th>Education</th>\n",
       "      <th>Income</th>\n",
       "      <th>Kidhome</th>\n",
       "      <th>...</th>\n",
       "      <th>NumCatalogPurchases</th>\n",
       "      <th>NumDealsPurchases</th>\n",
       "      <th>NumStorePurchases</th>\n",
       "      <th>NumWebPurchases</th>\n",
       "      <th>NumWebVisitsMonth</th>\n",
       "      <th>Recency</th>\n",
       "      <th>Teenhome</th>\n",
       "      <th>Time_Customer</th>\n",
       "      <th>Response</th>\n",
       "      <th>prediction_label</th>\n",
       "    </tr>\n",
       "  </thead>\n",
       "  <tbody>\n",
       "    <tr>\n",
       "      <th>0</th>\n",
       "      <td>0</td>\n",
       "      <td>0</td>\n",
       "      <td>0</td>\n",
       "      <td>0</td>\n",
       "      <td>0</td>\n",
       "      <td>41</td>\n",
       "      <td>0</td>\n",
       "      <td>Graduation</td>\n",
       "      <td>26646</td>\n",
       "      <td>1</td>\n",
       "      <td>...</td>\n",
       "      <td>0</td>\n",
       "      <td>2</td>\n",
       "      <td>4</td>\n",
       "      <td>2</td>\n",
       "      <td>6</td>\n",
       "      <td>26</td>\n",
       "      <td>0</td>\n",
       "      <td>11.169863</td>\n",
       "      <td>0</td>\n",
       "      <td>0</td>\n",
       "    </tr>\n",
       "    <tr>\n",
       "      <th>1</th>\n",
       "      <td>0</td>\n",
       "      <td>0</td>\n",
       "      <td>0</td>\n",
       "      <td>0</td>\n",
       "      <td>0</td>\n",
       "      <td>79</td>\n",
       "      <td>0</td>\n",
       "      <td>Graduation</td>\n",
       "      <td>37760</td>\n",
       "      <td>0</td>\n",
       "      <td>...</td>\n",
       "      <td>1</td>\n",
       "      <td>2</td>\n",
       "      <td>6</td>\n",
       "      <td>4</td>\n",
       "      <td>7</td>\n",
       "      <td>20</td>\n",
       "      <td>0</td>\n",
       "      <td>12.616438</td>\n",
       "      <td>0</td>\n",
       "      <td>1</td>\n",
       "    </tr>\n",
       "    <tr>\n",
       "      <th>2</th>\n",
       "      <td>0</td>\n",
       "      <td>0</td>\n",
       "      <td>0</td>\n",
       "      <td>0</td>\n",
       "      <td>0</td>\n",
       "      <td>40</td>\n",
       "      <td>0</td>\n",
       "      <td>Master</td>\n",
       "      <td>20559</td>\n",
       "      <td>1</td>\n",
       "      <td>...</td>\n",
       "      <td>0</td>\n",
       "      <td>2</td>\n",
       "      <td>3</td>\n",
       "      <td>2</td>\n",
       "      <td>8</td>\n",
       "      <td>88</td>\n",
       "      <td>0</td>\n",
       "      <td>12.087671</td>\n",
       "      <td>0</td>\n",
       "      <td>0</td>\n",
       "    </tr>\n",
       "    <tr>\n",
       "      <th>3</th>\n",
       "      <td>0</td>\n",
       "      <td>0</td>\n",
       "      <td>0</td>\n",
       "      <td>0</td>\n",
       "      <td>0</td>\n",
       "      <td>68</td>\n",
       "      <td>0</td>\n",
       "      <td>Graduation</td>\n",
       "      <td>65486</td>\n",
       "      <td>0</td>\n",
       "      <td>...</td>\n",
       "      <td>2</td>\n",
       "      <td>1</td>\n",
       "      <td>10</td>\n",
       "      <td>4</td>\n",
       "      <td>2</td>\n",
       "      <td>29</td>\n",
       "      <td>1</td>\n",
       "      <td>10.920547</td>\n",
       "      <td>0</td>\n",
       "      <td>0</td>\n",
       "    </tr>\n",
       "    <tr>\n",
       "      <th>4</th>\n",
       "      <td>0</td>\n",
       "      <td>0</td>\n",
       "      <td>0</td>\n",
       "      <td>0</td>\n",
       "      <td>0</td>\n",
       "      <td>61</td>\n",
       "      <td>0</td>\n",
       "      <td>Master</td>\n",
       "      <td>79143</td>\n",
       "      <td>0</td>\n",
       "      <td>...</td>\n",
       "      <td>9</td>\n",
       "      <td>1</td>\n",
       "      <td>13</td>\n",
       "      <td>6</td>\n",
       "      <td>3</td>\n",
       "      <td>2</td>\n",
       "      <td>0</td>\n",
       "      <td>12.671233</td>\n",
       "      <td>0</td>\n",
       "      <td>1</td>\n",
       "    </tr>\n",
       "    <tr>\n",
       "      <th>...</th>\n",
       "      <td>...</td>\n",
       "      <td>...</td>\n",
       "      <td>...</td>\n",
       "      <td>...</td>\n",
       "      <td>...</td>\n",
       "      <td>...</td>\n",
       "      <td>...</td>\n",
       "      <td>...</td>\n",
       "      <td>...</td>\n",
       "      <td>...</td>\n",
       "      <td>...</td>\n",
       "      <td>...</td>\n",
       "      <td>...</td>\n",
       "      <td>...</td>\n",
       "      <td>...</td>\n",
       "      <td>...</td>\n",
       "      <td>...</td>\n",
       "      <td>...</td>\n",
       "      <td>...</td>\n",
       "      <td>...</td>\n",
       "      <td>...</td>\n",
       "    </tr>\n",
       "    <tr>\n",
       "      <th>105</th>\n",
       "      <td>0</td>\n",
       "      <td>0</td>\n",
       "      <td>0</td>\n",
       "      <td>0</td>\n",
       "      <td>0</td>\n",
       "      <td>47</td>\n",
       "      <td>0</td>\n",
       "      <td>Basic</td>\n",
       "      <td>26487</td>\n",
       "      <td>1</td>\n",
       "      <td>...</td>\n",
       "      <td>1</td>\n",
       "      <td>3</td>\n",
       "      <td>3</td>\n",
       "      <td>2</td>\n",
       "      <td>5</td>\n",
       "      <td>23</td>\n",
       "      <td>0</td>\n",
       "      <td>11.898630</td>\n",
       "      <td>0</td>\n",
       "      <td>0</td>\n",
       "    </tr>\n",
       "    <tr>\n",
       "      <th>106</th>\n",
       "      <td>0</td>\n",
       "      <td>0</td>\n",
       "      <td>0</td>\n",
       "      <td>0</td>\n",
       "      <td>0</td>\n",
       "      <td>42</td>\n",
       "      <td>0</td>\n",
       "      <td>Master</td>\n",
       "      <td>89616</td>\n",
       "      <td>0</td>\n",
       "      <td>...</td>\n",
       "      <td>5</td>\n",
       "      <td>1</td>\n",
       "      <td>12</td>\n",
       "      <td>7</td>\n",
       "      <td>2</td>\n",
       "      <td>36</td>\n",
       "      <td>0</td>\n",
       "      <td>12.128767</td>\n",
       "      <td>1</td>\n",
       "      <td>1</td>\n",
       "    </tr>\n",
       "    <tr>\n",
       "      <th>107</th>\n",
       "      <td>0</td>\n",
       "      <td>0</td>\n",
       "      <td>0</td>\n",
       "      <td>0</td>\n",
       "      <td>0</td>\n",
       "      <td>78</td>\n",
       "      <td>0</td>\n",
       "      <td>Graduation</td>\n",
       "      <td>27469</td>\n",
       "      <td>0</td>\n",
       "      <td>...</td>\n",
       "      <td>0</td>\n",
       "      <td>1</td>\n",
       "      <td>3</td>\n",
       "      <td>0</td>\n",
       "      <td>6</td>\n",
       "      <td>2</td>\n",
       "      <td>0</td>\n",
       "      <td>12.695890</td>\n",
       "      <td>0</td>\n",
       "      <td>1</td>\n",
       "    </tr>\n",
       "    <tr>\n",
       "      <th>108</th>\n",
       "      <td>0</td>\n",
       "      <td>0</td>\n",
       "      <td>0</td>\n",
       "      <td>0</td>\n",
       "      <td>0</td>\n",
       "      <td>30</td>\n",
       "      <td>0</td>\n",
       "      <td>2n Cycle</td>\n",
       "      <td>80617</td>\n",
       "      <td>0</td>\n",
       "      <td>...</td>\n",
       "      <td>6</td>\n",
       "      <td>1</td>\n",
       "      <td>8</td>\n",
       "      <td>4</td>\n",
       "      <td>2</td>\n",
       "      <td>42</td>\n",
       "      <td>0</td>\n",
       "      <td>12.501369</td>\n",
       "      <td>0</td>\n",
       "      <td>1</td>\n",
       "    </tr>\n",
       "    <tr>\n",
       "      <th>109</th>\n",
       "      <td>0</td>\n",
       "      <td>0</td>\n",
       "      <td>0</td>\n",
       "      <td>0</td>\n",
       "      <td>0</td>\n",
       "      <td>71</td>\n",
       "      <td>0</td>\n",
       "      <td>PhD</td>\n",
       "      <td>52869</td>\n",
       "      <td>1</td>\n",
       "      <td>...</td>\n",
       "      <td>1</td>\n",
       "      <td>3</td>\n",
       "      <td>4</td>\n",
       "      <td>3</td>\n",
       "      <td>7</td>\n",
       "      <td>40</td>\n",
       "      <td>1</td>\n",
       "      <td>12.493151</td>\n",
       "      <td>1</td>\n",
       "      <td>1</td>\n",
       "    </tr>\n",
       "  </tbody>\n",
       "</table>\n",
       "<p>110 rows × 27 columns</p>\n",
       "</div>"
      ],
      "text/plain": [
       "     AcceptedCmp1  AcceptedCmp2  AcceptedCmp3  AcceptedCmp4  AcceptedCmp5  \\\n",
       "0               0             0             0             0             0   \n",
       "1               0             0             0             0             0   \n",
       "2               0             0             0             0             0   \n",
       "3               0             0             0             0             0   \n",
       "4               0             0             0             0             0   \n",
       "..            ...           ...           ...           ...           ...   \n",
       "105             0             0             0             0             0   \n",
       "106             0             0             0             0             0   \n",
       "107             0             0             0             0             0   \n",
       "108             0             0             0             0             0   \n",
       "109             0             0             0             0             0   \n",
       "\n",
       "     Age  Complain   Education  Income  Kidhome  ... NumCatalogPurchases  \\\n",
       "0     41         0  Graduation   26646        1  ...                   0   \n",
       "1     79         0  Graduation   37760        0  ...                   1   \n",
       "2     40         0      Master   20559        1  ...                   0   \n",
       "3     68         0  Graduation   65486        0  ...                   2   \n",
       "4     61         0      Master   79143        0  ...                   9   \n",
       "..   ...       ...         ...     ...      ...  ...                 ...   \n",
       "105   47         0       Basic   26487        1  ...                   1   \n",
       "106   42         0      Master   89616        0  ...                   5   \n",
       "107   78         0  Graduation   27469        0  ...                   0   \n",
       "108   30         0    2n Cycle   80617        0  ...                   6   \n",
       "109   71         0         PhD   52869        1  ...                   1   \n",
       "\n",
       "     NumDealsPurchases  NumStorePurchases  NumWebPurchases  NumWebVisitsMonth  \\\n",
       "0                    2                  4                2                  6   \n",
       "1                    2                  6                4                  7   \n",
       "2                    2                  3                2                  8   \n",
       "3                    1                 10                4                  2   \n",
       "4                    1                 13                6                  3   \n",
       "..                 ...                ...              ...                ...   \n",
       "105                  3                  3                2                  5   \n",
       "106                  1                 12                7                  2   \n",
       "107                  1                  3                0                  6   \n",
       "108                  1                  8                4                  2   \n",
       "109                  3                  4                3                  7   \n",
       "\n",
       "     Recency  Teenhome  Time_Customer  Response  prediction_label  \n",
       "0         26         0      11.169863         0                 0  \n",
       "1         20         0      12.616438         0                 1  \n",
       "2         88         0      12.087671         0                 0  \n",
       "3         29         1      10.920547         0                 0  \n",
       "4          2         0      12.671233         0                 1  \n",
       "..       ...       ...            ...       ...               ...  \n",
       "105       23         0      11.898630         0                 0  \n",
       "106       36         0      12.128767         1                 1  \n",
       "107        2         0      12.695890         0                 1  \n",
       "108       42         0      12.501369         0                 1  \n",
       "109       40         1      12.493151         1                 1  \n",
       "\n",
       "[110 rows x 27 columns]"
      ]
     },
     "execution_count": 48,
     "metadata": {},
     "output_type": "execute_result"
    }
   ],
   "source": [
    "#predict model - raw score\n",
    "predict_model(best_model, data = df_valid, raw_score = True)"
   ]
  },
  {
   "cell_type": "markdown",
   "metadata": {
    "id": "M3Q2-Gkd960v"
   },
   "source": [
    "* Outros tipos de plot:\n",
    "https://pycaret.readthedocs.io/en/latest/api/classification.html#pycaret.classification.plot_model"
   ]
  },
  {
   "cell_type": "markdown",
   "metadata": {
    "id": "MgemDTWb-uop"
   },
   "source": [
    "## Criando um Modelo"
   ]
  },
  {
   "cell_type": "code",
   "execution_count": null,
   "metadata": {
    "colab": {
     "base_uri": "https://localhost:8080/",
     "height": 457,
     "referenced_widgets": [
      "ca76f145110f483a950eecf7d7adff0c",
      "e80d432072c749c58cc9d6e4555f5b16",
      "4ad9168c11c74c9b9b9fc9dd512415c5",
      "cb468ebbb5924dd3bb2de523069641ba",
      "c5725f36773d4fceb1cafad55dcc9bd9",
      "867ee0479dde4cdfbcf661e4cca57d60",
      "8439a783772f41c4bde0a81aef4b2d59",
      "37257fe8a8e042389da7be5d09956dda",
      "3c49a4f27ad34d5181e178d54f43f506",
      "060d4860e3a043b08c1bf6ab54e69da1",
      "02d941cc7b874bcf84b0a2eb642d108a"
     ]
    },
    "executionInfo": {
     "elapsed": 16800,
     "status": "ok",
     "timestamp": 1741988693929,
     "user": {
      "displayName": "Mario Deus",
      "userId": "12968936412646050740"
     },
     "user_tz": 180
    },
    "id": "VB5-UFhmVqPn",
    "outputId": "a2bbca51-9d86-4284-d9e8-36865a088cfb"
   },
   "outputs": [
    {
     "data": {
      "text/html": [],
      "text/plain": [
       "<IPython.core.display.HTML object>"
      ]
     },
     "metadata": {},
     "output_type": "display_data"
    },
    {
     "data": {
      "text/html": [
       "<style type=\"text/css\">\n",
       "#T_953e7_row10_col0, #T_953e7_row10_col1, #T_953e7_row10_col2, #T_953e7_row10_col3, #T_953e7_row10_col4, #T_953e7_row10_col5, #T_953e7_row10_col6 {\n",
       "  background: yellow;\n",
       "}\n",
       "</style>\n",
       "<table id=\"T_953e7\" class=\"dataframe\">\n",
       "  <thead>\n",
       "    <tr>\n",
       "      <th class=\"blank level0\" >&nbsp;</th>\n",
       "      <th id=\"T_953e7_level0_col0\" class=\"col_heading level0 col0\" >Accuracy</th>\n",
       "      <th id=\"T_953e7_level0_col1\" class=\"col_heading level0 col1\" >AUC</th>\n",
       "      <th id=\"T_953e7_level0_col2\" class=\"col_heading level0 col2\" >Recall</th>\n",
       "      <th id=\"T_953e7_level0_col3\" class=\"col_heading level0 col3\" >Prec.</th>\n",
       "      <th id=\"T_953e7_level0_col4\" class=\"col_heading level0 col4\" >F1</th>\n",
       "      <th id=\"T_953e7_level0_col5\" class=\"col_heading level0 col5\" >Kappa</th>\n",
       "      <th id=\"T_953e7_level0_col6\" class=\"col_heading level0 col6\" >MCC</th>\n",
       "    </tr>\n",
       "    <tr>\n",
       "      <th class=\"index_name level0\" >Fold</th>\n",
       "      <th class=\"blank col0\" >&nbsp;</th>\n",
       "      <th class=\"blank col1\" >&nbsp;</th>\n",
       "      <th class=\"blank col2\" >&nbsp;</th>\n",
       "      <th class=\"blank col3\" >&nbsp;</th>\n",
       "      <th class=\"blank col4\" >&nbsp;</th>\n",
       "      <th class=\"blank col5\" >&nbsp;</th>\n",
       "      <th class=\"blank col6\" >&nbsp;</th>\n",
       "    </tr>\n",
       "  </thead>\n",
       "  <tbody>\n",
       "    <tr>\n",
       "      <th id=\"T_953e7_level0_row0\" class=\"row_heading level0 row0\" >0</th>\n",
       "      <td id=\"T_953e7_row0_col0\" class=\"data row0 col0\" >0.8639</td>\n",
       "      <td id=\"T_953e7_row0_col1\" class=\"data row0 col1\" >0.8680</td>\n",
       "      <td id=\"T_953e7_row0_col2\" class=\"data row0 col2\" >0.5000</td>\n",
       "      <td id=\"T_953e7_row0_col3\" class=\"data row0 col3\" >0.5500</td>\n",
       "      <td id=\"T_953e7_row0_col4\" class=\"data row0 col4\" >0.5238</td>\n",
       "      <td id=\"T_953e7_row0_col5\" class=\"data row0 col5\" >0.4447</td>\n",
       "      <td id=\"T_953e7_row0_col6\" class=\"data row0 col6\" >0.4453</td>\n",
       "    </tr>\n",
       "    <tr>\n",
       "      <th id=\"T_953e7_level0_row1\" class=\"row_heading level0 row1\" >1</th>\n",
       "      <td id=\"T_953e7_row1_col0\" class=\"data row1 col0\" >0.8776</td>\n",
       "      <td id=\"T_953e7_row1_col1\" class=\"data row1 col1\" >0.9149</td>\n",
       "      <td id=\"T_953e7_row1_col2\" class=\"data row1 col2\" >0.5455</td>\n",
       "      <td id=\"T_953e7_row1_col3\" class=\"data row1 col3\" >0.6000</td>\n",
       "      <td id=\"T_953e7_row1_col4\" class=\"data row1 col4\" >0.5714</td>\n",
       "      <td id=\"T_953e7_row1_col5\" class=\"data row1 col5\" >0.5002</td>\n",
       "      <td id=\"T_953e7_row1_col6\" class=\"data row1 col6\" >0.5010</td>\n",
       "    </tr>\n",
       "    <tr>\n",
       "      <th id=\"T_953e7_level0_row2\" class=\"row_heading level0 row2\" >2</th>\n",
       "      <td id=\"T_953e7_row2_col0\" class=\"data row2 col0\" >0.8776</td>\n",
       "      <td id=\"T_953e7_row2_col1\" class=\"data row2 col1\" >0.8982</td>\n",
       "      <td id=\"T_953e7_row2_col2\" class=\"data row2 col2\" >0.5000</td>\n",
       "      <td id=\"T_953e7_row2_col3\" class=\"data row2 col3\" >0.6111</td>\n",
       "      <td id=\"T_953e7_row2_col4\" class=\"data row2 col4\" >0.5500</td>\n",
       "      <td id=\"T_953e7_row2_col5\" class=\"data row2 col5\" >0.4800</td>\n",
       "      <td id=\"T_953e7_row2_col6\" class=\"data row2 col6\" >0.4832</td>\n",
       "    </tr>\n",
       "    <tr>\n",
       "      <th id=\"T_953e7_level0_row3\" class=\"row_heading level0 row3\" >3</th>\n",
       "      <td id=\"T_953e7_row3_col0\" class=\"data row3 col0\" >0.8844</td>\n",
       "      <td id=\"T_953e7_row3_col1\" class=\"data row3 col1\" >0.9022</td>\n",
       "      <td id=\"T_953e7_row3_col2\" class=\"data row3 col2\" >0.5000</td>\n",
       "      <td id=\"T_953e7_row3_col3\" class=\"data row3 col3\" >0.6471</td>\n",
       "      <td id=\"T_953e7_row3_col4\" class=\"data row3 col4\" >0.5641</td>\n",
       "      <td id=\"T_953e7_row3_col5\" class=\"data row3 col5\" >0.4987</td>\n",
       "      <td id=\"T_953e7_row3_col6\" class=\"data row3 col6\" >0.5042</td>\n",
       "    </tr>\n",
       "    <tr>\n",
       "      <th id=\"T_953e7_level0_row4\" class=\"row_heading level0 row4\" >4</th>\n",
       "      <td id=\"T_953e7_row4_col0\" class=\"data row4 col0\" >0.8912</td>\n",
       "      <td id=\"T_953e7_row4_col1\" class=\"data row4 col1\" >0.9222</td>\n",
       "      <td id=\"T_953e7_row4_col2\" class=\"data row4 col2\" >0.4091</td>\n",
       "      <td id=\"T_953e7_row4_col3\" class=\"data row4 col3\" >0.7500</td>\n",
       "      <td id=\"T_953e7_row4_col4\" class=\"data row4 col4\" >0.5294</td>\n",
       "      <td id=\"T_953e7_row4_col5\" class=\"data row4 col5\" >0.4738</td>\n",
       "      <td id=\"T_953e7_row4_col6\" class=\"data row4 col6\" >0.5017</td>\n",
       "    </tr>\n",
       "    <tr>\n",
       "      <th id=\"T_953e7_level0_row5\" class=\"row_heading level0 row5\" >5</th>\n",
       "      <td id=\"T_953e7_row5_col0\" class=\"data row5 col0\" >0.8776</td>\n",
       "      <td id=\"T_953e7_row5_col1\" class=\"data row5 col1\" >0.8931</td>\n",
       "      <td id=\"T_953e7_row5_col2\" class=\"data row5 col2\" >0.4545</td>\n",
       "      <td id=\"T_953e7_row5_col3\" class=\"data row5 col3\" >0.6250</td>\n",
       "      <td id=\"T_953e7_row5_col4\" class=\"data row5 col4\" >0.5263</td>\n",
       "      <td id=\"T_953e7_row5_col5\" class=\"data row5 col5\" >0.4580</td>\n",
       "      <td id=\"T_953e7_row5_col6\" class=\"data row5 col6\" >0.4657</td>\n",
       "    </tr>\n",
       "    <tr>\n",
       "      <th id=\"T_953e7_level0_row6\" class=\"row_heading level0 row6\" >6</th>\n",
       "      <td id=\"T_953e7_row6_col0\" class=\"data row6 col0\" >0.8503</td>\n",
       "      <td id=\"T_953e7_row6_col1\" class=\"data row6 col1\" >0.8775</td>\n",
       "      <td id=\"T_953e7_row6_col2\" class=\"data row6 col2\" >0.3636</td>\n",
       "      <td id=\"T_953e7_row6_col3\" class=\"data row6 col3\" >0.5000</td>\n",
       "      <td id=\"T_953e7_row6_col4\" class=\"data row6 col4\" >0.4211</td>\n",
       "      <td id=\"T_953e7_row6_col5\" class=\"data row6 col5\" >0.3376</td>\n",
       "      <td id=\"T_953e7_row6_col6\" class=\"data row6 col6\" >0.3432</td>\n",
       "    </tr>\n",
       "    <tr>\n",
       "      <th id=\"T_953e7_level0_row7\" class=\"row_heading level0 row7\" >7</th>\n",
       "      <td id=\"T_953e7_row7_col0\" class=\"data row7 col0\" >0.8571</td>\n",
       "      <td id=\"T_953e7_row7_col1\" class=\"data row7 col1\" >0.8618</td>\n",
       "      <td id=\"T_953e7_row7_col2\" class=\"data row7 col2\" >0.3636</td>\n",
       "      <td id=\"T_953e7_row7_col3\" class=\"data row7 col3\" >0.5333</td>\n",
       "      <td id=\"T_953e7_row7_col4\" class=\"data row7 col4\" >0.4324</td>\n",
       "      <td id=\"T_953e7_row7_col5\" class=\"data row7 col5\" >0.3540</td>\n",
       "      <td id=\"T_953e7_row7_col6\" class=\"data row7 col6\" >0.3626</td>\n",
       "    </tr>\n",
       "    <tr>\n",
       "      <th id=\"T_953e7_level0_row8\" class=\"row_heading level0 row8\" >8</th>\n",
       "      <td id=\"T_953e7_row8_col0\" class=\"data row8 col0\" >0.8912</td>\n",
       "      <td id=\"T_953e7_row8_col1\" class=\"data row8 col1\" >0.8878</td>\n",
       "      <td id=\"T_953e7_row8_col2\" class=\"data row8 col2\" >0.4783</td>\n",
       "      <td id=\"T_953e7_row8_col3\" class=\"data row8 col3\" >0.7333</td>\n",
       "      <td id=\"T_953e7_row8_col4\" class=\"data row8 col4\" >0.5789</td>\n",
       "      <td id=\"T_953e7_row8_col5\" class=\"data row8 col5\" >0.5196</td>\n",
       "      <td id=\"T_953e7_row8_col6\" class=\"data row8 col6\" >0.5353</td>\n",
       "    </tr>\n",
       "    <tr>\n",
       "      <th id=\"T_953e7_level0_row9\" class=\"row_heading level0 row9\" >9</th>\n",
       "      <td id=\"T_953e7_row9_col0\" class=\"data row9 col0\" >0.8699</td>\n",
       "      <td id=\"T_953e7_row9_col1\" class=\"data row9 col1\" >0.8904</td>\n",
       "      <td id=\"T_953e7_row9_col2\" class=\"data row9 col2\" >0.3636</td>\n",
       "      <td id=\"T_953e7_row9_col3\" class=\"data row9 col3\" >0.6154</td>\n",
       "      <td id=\"T_953e7_row9_col4\" class=\"data row9 col4\" >0.4571</td>\n",
       "      <td id=\"T_953e7_row9_col5\" class=\"data row9 col5\" >0.3887</td>\n",
       "      <td id=\"T_953e7_row9_col6\" class=\"data row9 col6\" >0.4061</td>\n",
       "    </tr>\n",
       "    <tr>\n",
       "      <th id=\"T_953e7_level0_row10\" class=\"row_heading level0 row10\" >Mean</th>\n",
       "      <td id=\"T_953e7_row10_col0\" class=\"data row10 col0\" >0.8741</td>\n",
       "      <td id=\"T_953e7_row10_col1\" class=\"data row10 col1\" >0.8916</td>\n",
       "      <td id=\"T_953e7_row10_col2\" class=\"data row10 col2\" >0.4478</td>\n",
       "      <td id=\"T_953e7_row10_col3\" class=\"data row10 col3\" >0.6165</td>\n",
       "      <td id=\"T_953e7_row10_col4\" class=\"data row10 col4\" >0.5155</td>\n",
       "      <td id=\"T_953e7_row10_col5\" class=\"data row10 col5\" >0.4455</td>\n",
       "      <td id=\"T_953e7_row10_col6\" class=\"data row10 col6\" >0.4548</td>\n",
       "    </tr>\n",
       "    <tr>\n",
       "      <th id=\"T_953e7_level0_row11\" class=\"row_heading level0 row11\" >Std</th>\n",
       "      <td id=\"T_953e7_row11_col0\" class=\"data row11 col0\" >0.0130</td>\n",
       "      <td id=\"T_953e7_row11_col1\" class=\"data row11 col1\" >0.0182</td>\n",
       "      <td id=\"T_953e7_row11_col2\" class=\"data row11 col2\" >0.0644</td>\n",
       "      <td id=\"T_953e7_row11_col3\" class=\"data row11 col3\" >0.0760</td>\n",
       "      <td id=\"T_953e7_row11_col4\" class=\"data row11 col4\" >0.0551</td>\n",
       "      <td id=\"T_953e7_row11_col5\" class=\"data row11 col5\" >0.0606</td>\n",
       "      <td id=\"T_953e7_row11_col6\" class=\"data row11 col6\" >0.0613</td>\n",
       "    </tr>\n",
       "  </tbody>\n",
       "</table>\n"
      ],
      "text/plain": [
       "<pandas.io.formats.style.Styler at 0x7e702da01a50>"
      ]
     },
     "metadata": {},
     "output_type": "display_data"
    },
    {
     "data": {
      "application/vnd.jupyter.widget-view+json": {
       "model_id": "ca76f145110f483a950eecf7d7adff0c",
       "version_major": 2,
       "version_minor": 0
      },
      "text/plain": [
       "Processing:   0%|          | 0/4 [00:00<?, ?it/s]"
      ]
     },
     "metadata": {
      "application/vnd.jupyter.widget-view+json": {
       "colab": {
        "custom_widget_manager": {
         "url": "https://ssl.gstatic.com/colaboratory-static/widgets/colab-cdn-widget-manager/2b70e893a8ba7c0f/manager.min.js"
        }
       }
      }
     },
     "output_type": "display_data"
    },
    {
     "data": {
      "text/html": [],
      "text/plain": [
       "<IPython.core.display.HTML object>"
      ]
     },
     "metadata": {},
     "output_type": "display_data"
    }
   ],
   "source": [
    "#create model gbc\n",
    "mdl_gbc ="
   ]
  },
  {
   "cell_type": "code",
   "execution_count": null,
   "metadata": {
    "colab": {
     "base_uri": "https://localhost:8080/",
     "height": 457,
     "referenced_widgets": [
      "9ec3870aa8674f888c8f8ecf47c277cb",
      "d9ebc70623044098aa50bad5476dc792",
      "9f0d95d819fe4427b23f08ffae1dd282",
      "2ae389019ddb401792f77cbc2c9c4b11",
      "764020656fa542539c9071f1199a2874",
      "00499fae69b746469189097b0fd810a1",
      "4f18e7915baa416db2afba9a10d38217",
      "5a76888a13f3475eaa8f76bd226aebf9",
      "863e3242deb24fda94abae236e21c258",
      "39b72e89bd3548e29c169060c4b3e9dd",
      "0ea0a27bf331482a9f3d737ebddd4447"
     ]
    },
    "executionInfo": {
     "elapsed": 35817,
     "status": "ok",
     "timestamp": 1741988729738,
     "user": {
      "displayName": "Mario Deus",
      "userId": "12968936412646050740"
     },
     "user_tz": 180
    },
    "id": "edsH-IXse0l2",
    "outputId": "1bbb759f-f596-467b-e0bf-7883d7922adc"
   },
   "outputs": [
    {
     "data": {
      "text/html": [],
      "text/plain": [
       "<IPython.core.display.HTML object>"
      ]
     },
     "metadata": {},
     "output_type": "display_data"
    },
    {
     "data": {
      "text/html": [
       "<style type=\"text/css\">\n",
       "#T_a5ca6_row10_col0, #T_a5ca6_row10_col1, #T_a5ca6_row10_col2, #T_a5ca6_row10_col3, #T_a5ca6_row10_col4, #T_a5ca6_row10_col5, #T_a5ca6_row10_col6 {\n",
       "  background: yellow;\n",
       "}\n",
       "</style>\n",
       "<table id=\"T_a5ca6\" class=\"dataframe\">\n",
       "  <thead>\n",
       "    <tr>\n",
       "      <th class=\"blank level0\" >&nbsp;</th>\n",
       "      <th id=\"T_a5ca6_level0_col0\" class=\"col_heading level0 col0\" >Accuracy</th>\n",
       "      <th id=\"T_a5ca6_level0_col1\" class=\"col_heading level0 col1\" >AUC</th>\n",
       "      <th id=\"T_a5ca6_level0_col2\" class=\"col_heading level0 col2\" >Recall</th>\n",
       "      <th id=\"T_a5ca6_level0_col3\" class=\"col_heading level0 col3\" >Prec.</th>\n",
       "      <th id=\"T_a5ca6_level0_col4\" class=\"col_heading level0 col4\" >F1</th>\n",
       "      <th id=\"T_a5ca6_level0_col5\" class=\"col_heading level0 col5\" >Kappa</th>\n",
       "      <th id=\"T_a5ca6_level0_col6\" class=\"col_heading level0 col6\" >MCC</th>\n",
       "    </tr>\n",
       "    <tr>\n",
       "      <th class=\"index_name level0\" >Fold</th>\n",
       "      <th class=\"blank col0\" >&nbsp;</th>\n",
       "      <th class=\"blank col1\" >&nbsp;</th>\n",
       "      <th class=\"blank col2\" >&nbsp;</th>\n",
       "      <th class=\"blank col3\" >&nbsp;</th>\n",
       "      <th class=\"blank col4\" >&nbsp;</th>\n",
       "      <th class=\"blank col5\" >&nbsp;</th>\n",
       "      <th class=\"blank col6\" >&nbsp;</th>\n",
       "    </tr>\n",
       "  </thead>\n",
       "  <tbody>\n",
       "    <tr>\n",
       "      <th id=\"T_a5ca6_level0_row0\" class=\"row_heading level0 row0\" >0</th>\n",
       "      <td id=\"T_a5ca6_row0_col0\" class=\"data row0 col0\" >0.8571</td>\n",
       "      <td id=\"T_a5ca6_row0_col1\" class=\"data row0 col1\" >0.8716</td>\n",
       "      <td id=\"T_a5ca6_row0_col2\" class=\"data row0 col2\" >0.3182</td>\n",
       "      <td id=\"T_a5ca6_row0_col3\" class=\"data row0 col3\" >0.5385</td>\n",
       "      <td id=\"T_a5ca6_row0_col4\" class=\"data row0 col4\" >0.4000</td>\n",
       "      <td id=\"T_a5ca6_row0_col5\" class=\"data row0 col5\" >0.3250</td>\n",
       "      <td id=\"T_a5ca6_row0_col6\" class=\"data row0 col6\" >0.3395</td>\n",
       "    </tr>\n",
       "    <tr>\n",
       "      <th id=\"T_a5ca6_level0_row1\" class=\"row_heading level0 row1\" >1</th>\n",
       "      <td id=\"T_a5ca6_row1_col0\" class=\"data row1 col0\" >0.9048</td>\n",
       "      <td id=\"T_a5ca6_row1_col1\" class=\"data row1 col1\" >0.9138</td>\n",
       "      <td id=\"T_a5ca6_row1_col2\" class=\"data row1 col2\" >0.5455</td>\n",
       "      <td id=\"T_a5ca6_row1_col3\" class=\"data row1 col3\" >0.7500</td>\n",
       "      <td id=\"T_a5ca6_row1_col4\" class=\"data row1 col4\" >0.6316</td>\n",
       "      <td id=\"T_a5ca6_row1_col5\" class=\"data row1 col5\" >0.5785</td>\n",
       "      <td id=\"T_a5ca6_row1_col6\" class=\"data row1 col6\" >0.5881</td>\n",
       "    </tr>\n",
       "    <tr>\n",
       "      <th id=\"T_a5ca6_level0_row2\" class=\"row_heading level0 row2\" >2</th>\n",
       "      <td id=\"T_a5ca6_row2_col0\" class=\"data row2 col0\" >0.8639</td>\n",
       "      <td id=\"T_a5ca6_row2_col1\" class=\"data row2 col1\" >0.8640</td>\n",
       "      <td id=\"T_a5ca6_row2_col2\" class=\"data row2 col2\" >0.3182</td>\n",
       "      <td id=\"T_a5ca6_row2_col3\" class=\"data row2 col3\" >0.5833</td>\n",
       "      <td id=\"T_a5ca6_row2_col4\" class=\"data row2 col4\" >0.4118</td>\n",
       "      <td id=\"T_a5ca6_row2_col5\" class=\"data row2 col5\" >0.3423</td>\n",
       "      <td id=\"T_a5ca6_row2_col6\" class=\"data row2 col6\" >0.3624</td>\n",
       "    </tr>\n",
       "    <tr>\n",
       "      <th id=\"T_a5ca6_level0_row3\" class=\"row_heading level0 row3\" >3</th>\n",
       "      <td id=\"T_a5ca6_row3_col0\" class=\"data row3 col0\" >0.8707</td>\n",
       "      <td id=\"T_a5ca6_row3_col1\" class=\"data row3 col1\" >0.8978</td>\n",
       "      <td id=\"T_a5ca6_row3_col2\" class=\"data row3 col2\" >0.5455</td>\n",
       "      <td id=\"T_a5ca6_row3_col3\" class=\"data row3 col3\" >0.5714</td>\n",
       "      <td id=\"T_a5ca6_row3_col4\" class=\"data row3 col4\" >0.5581</td>\n",
       "      <td id=\"T_a5ca6_row3_col5\" class=\"data row3 col5\" >0.4825</td>\n",
       "      <td id=\"T_a5ca6_row3_col6\" class=\"data row3 col6\" >0.4827</td>\n",
       "    </tr>\n",
       "    <tr>\n",
       "      <th id=\"T_a5ca6_level0_row4\" class=\"row_heading level0 row4\" >4</th>\n",
       "      <td id=\"T_a5ca6_row4_col0\" class=\"data row4 col0\" >0.8571</td>\n",
       "      <td id=\"T_a5ca6_row4_col1\" class=\"data row4 col1\" >0.9044</td>\n",
       "      <td id=\"T_a5ca6_row4_col2\" class=\"data row4 col2\" >0.3182</td>\n",
       "      <td id=\"T_a5ca6_row4_col3\" class=\"data row4 col3\" >0.5385</td>\n",
       "      <td id=\"T_a5ca6_row4_col4\" class=\"data row4 col4\" >0.4000</td>\n",
       "      <td id=\"T_a5ca6_row4_col5\" class=\"data row4 col5\" >0.3250</td>\n",
       "      <td id=\"T_a5ca6_row4_col6\" class=\"data row4 col6\" >0.3395</td>\n",
       "    </tr>\n",
       "    <tr>\n",
       "      <th id=\"T_a5ca6_level0_row5\" class=\"row_heading level0 row5\" >5</th>\n",
       "      <td id=\"T_a5ca6_row5_col0\" class=\"data row5 col0\" >0.8912</td>\n",
       "      <td id=\"T_a5ca6_row5_col1\" class=\"data row5 col1\" >0.8589</td>\n",
       "      <td id=\"T_a5ca6_row5_col2\" class=\"data row5 col2\" >0.3636</td>\n",
       "      <td id=\"T_a5ca6_row5_col3\" class=\"data row5 col3\" >0.8000</td>\n",
       "      <td id=\"T_a5ca6_row5_col4\" class=\"data row5 col4\" >0.5000</td>\n",
       "      <td id=\"T_a5ca6_row5_col5\" class=\"data row5 col5\" >0.4484</td>\n",
       "      <td id=\"T_a5ca6_row5_col6\" class=\"data row5 col6\" >0.4925</td>\n",
       "    </tr>\n",
       "    <tr>\n",
       "      <th id=\"T_a5ca6_level0_row6\" class=\"row_heading level0 row6\" >6</th>\n",
       "      <td id=\"T_a5ca6_row6_col0\" class=\"data row6 col0\" >0.8776</td>\n",
       "      <td id=\"T_a5ca6_row6_col1\" class=\"data row6 col1\" >0.8836</td>\n",
       "      <td id=\"T_a5ca6_row6_col2\" class=\"data row6 col2\" >0.3636</td>\n",
       "      <td id=\"T_a5ca6_row6_col3\" class=\"data row6 col3\" >0.6667</td>\n",
       "      <td id=\"T_a5ca6_row6_col4\" class=\"data row6 col4\" >0.4706</td>\n",
       "      <td id=\"T_a5ca6_row6_col5\" class=\"data row6 col5\" >0.4081</td>\n",
       "      <td id=\"T_a5ca6_row6_col6\" class=\"data row6 col6\" >0.4321</td>\n",
       "    </tr>\n",
       "    <tr>\n",
       "      <th id=\"T_a5ca6_level0_row7\" class=\"row_heading level0 row7\" >7</th>\n",
       "      <td id=\"T_a5ca6_row7_col0\" class=\"data row7 col0\" >0.8571</td>\n",
       "      <td id=\"T_a5ca6_row7_col1\" class=\"data row7 col1\" >0.8545</td>\n",
       "      <td id=\"T_a5ca6_row7_col2\" class=\"data row7 col2\" >0.3182</td>\n",
       "      <td id=\"T_a5ca6_row7_col3\" class=\"data row7 col3\" >0.5385</td>\n",
       "      <td id=\"T_a5ca6_row7_col4\" class=\"data row7 col4\" >0.4000</td>\n",
       "      <td id=\"T_a5ca6_row7_col5\" class=\"data row7 col5\" >0.3250</td>\n",
       "      <td id=\"T_a5ca6_row7_col6\" class=\"data row7 col6\" >0.3395</td>\n",
       "    </tr>\n",
       "    <tr>\n",
       "      <th id=\"T_a5ca6_level0_row8\" class=\"row_heading level0 row8\" >8</th>\n",
       "      <td id=\"T_a5ca6_row8_col0\" class=\"data row8 col0\" >0.8776</td>\n",
       "      <td id=\"T_a5ca6_row8_col1\" class=\"data row8 col1\" >0.9151</td>\n",
       "      <td id=\"T_a5ca6_row8_col2\" class=\"data row8 col2\" >0.3478</td>\n",
       "      <td id=\"T_a5ca6_row8_col3\" class=\"data row8 col3\" >0.7273</td>\n",
       "      <td id=\"T_a5ca6_row8_col4\" class=\"data row8 col4\" >0.4706</td>\n",
       "      <td id=\"T_a5ca6_row8_col5\" class=\"data row8 col5\" >0.4110</td>\n",
       "      <td id=\"T_a5ca6_row8_col6\" class=\"data row8 col6\" >0.4468</td>\n",
       "    </tr>\n",
       "    <tr>\n",
       "      <th id=\"T_a5ca6_level0_row9\" class=\"row_heading level0 row9\" >9</th>\n",
       "      <td id=\"T_a5ca6_row9_col0\" class=\"data row9 col0\" >0.8699</td>\n",
       "      <td id=\"T_a5ca6_row9_col1\" class=\"data row9 col1\" >0.8996</td>\n",
       "      <td id=\"T_a5ca6_row9_col2\" class=\"data row9 col2\" >0.3636</td>\n",
       "      <td id=\"T_a5ca6_row9_col3\" class=\"data row9 col3\" >0.6154</td>\n",
       "      <td id=\"T_a5ca6_row9_col4\" class=\"data row9 col4\" >0.4571</td>\n",
       "      <td id=\"T_a5ca6_row9_col5\" class=\"data row9 col5\" >0.3887</td>\n",
       "      <td id=\"T_a5ca6_row9_col6\" class=\"data row9 col6\" >0.4061</td>\n",
       "    </tr>\n",
       "    <tr>\n",
       "      <th id=\"T_a5ca6_level0_row10\" class=\"row_heading level0 row10\" >Mean</th>\n",
       "      <td id=\"T_a5ca6_row10_col0\" class=\"data row10 col0\" >0.8727</td>\n",
       "      <td id=\"T_a5ca6_row10_col1\" class=\"data row10 col1\" >0.8863</td>\n",
       "      <td id=\"T_a5ca6_row10_col2\" class=\"data row10 col2\" >0.3802</td>\n",
       "      <td id=\"T_a5ca6_row10_col3\" class=\"data row10 col3\" >0.6329</td>\n",
       "      <td id=\"T_a5ca6_row10_col4\" class=\"data row10 col4\" >0.4700</td>\n",
       "      <td id=\"T_a5ca6_row10_col5\" class=\"data row10 col5\" >0.4034</td>\n",
       "      <td id=\"T_a5ca6_row10_col6\" class=\"data row10 col6\" >0.4229</td>\n",
       "    </tr>\n",
       "    <tr>\n",
       "      <th id=\"T_a5ca6_level0_row11\" class=\"row_heading level0 row11\" >Std</th>\n",
       "      <td id=\"T_a5ca6_row11_col0\" class=\"data row11 col0\" >0.0149</td>\n",
       "      <td id=\"T_a5ca6_row11_col1\" class=\"data row11 col1\" >0.0217</td>\n",
       "      <td id=\"T_a5ca6_row11_col2\" class=\"data row11 col2\" >0.0848</td>\n",
       "      <td id=\"T_a5ca6_row11_col3\" class=\"data row11 col3\" >0.0922</td>\n",
       "      <td id=\"T_a5ca6_row11_col4\" class=\"data row11 col4\" >0.0728</td>\n",
       "      <td id=\"T_a5ca6_row11_col5\" class=\"data row11 col5\" >0.0784</td>\n",
       "      <td id=\"T_a5ca6_row11_col6\" class=\"data row11 col6\" >0.0782</td>\n",
       "    </tr>\n",
       "  </tbody>\n",
       "</table>\n"
      ],
      "text/plain": [
       "<pandas.io.formats.style.Styler at 0x7e701816e1d0>"
      ]
     },
     "metadata": {},
     "output_type": "display_data"
    },
    {
     "data": {
      "application/vnd.jupyter.widget-view+json": {
       "model_id": "9ec3870aa8674f888c8f8ecf47c277cb",
       "version_major": 2,
       "version_minor": 0
      },
      "text/plain": [
       "Processing:   0%|          | 0/4 [00:00<?, ?it/s]"
      ]
     },
     "metadata": {
      "application/vnd.jupyter.widget-view+json": {
       "colab": {
        "custom_widget_manager": {
         "url": "https://ssl.gstatic.com/colaboratory-static/widgets/colab-cdn-widget-manager/2b70e893a8ba7c0f/manager.min.js"
        }
       }
      }
     },
     "output_type": "display_data"
    },
    {
     "data": {
      "text/html": [],
      "text/plain": [
       "<IPython.core.display.HTML object>"
      ]
     },
     "metadata": {},
     "output_type": "display_data"
    }
   ],
   "source": [
    "#create model lgbm\n",
    "mdl_lgbm ="
   ]
  },
  {
   "cell_type": "markdown",
   "metadata": {
    "id": "F7aRLbtZ_NLr"
   },
   "source": [
    "## Tuning dos Hiperparâmetros"
   ]
  },
  {
   "cell_type": "markdown",
   "metadata": {
    "id": "Qft2g83Ke0l2"
   },
   "source": [
    "### GBC"
   ]
  },
  {
   "cell_type": "code",
   "execution_count": null,
   "metadata": {
    "colab": {
     "base_uri": "https://localhost:8080/",
     "height": 189,
     "referenced_widgets": [
      "28ff87091853422184a268f5b4acf15a",
      "c23763d76ecb48fb902550b9be0f11d6",
      "09cc7b4c847e4f1bb2c36452b3d8c9fc",
      "0bc27bda179246f8b1a03944b490ea65",
      "d8977df139ed4e2b8978fa46b4832731",
      "346586e9aa0e4dc9b7d92d04f4437755",
      "626298eb1c1b4c8abf01ddd793c9faff",
      "ae67693f21b2424bb38fe9fc2471f851",
      "2e207de19c2f40a0b0fd11a2d17c394e",
      "c8b48e5fa01f41c8a78c8ac0c1973003",
      "d6d0830f4bc04d208d988e6b4d0d1e21"
     ]
    },
    "id": "bECBpD6De0l2",
    "outputId": "458bee72-2393-46eb-d09c-aa6f570ac0be"
   },
   "outputs": [
    {
     "data": {
      "application/vnd.google.colaboratory.intrinsic+json": {
       "summary": "{\n  \"name\": \"tuned_gbc = tune_model(mdl_gbc)\",\n  \"rows\": 3,\n  \"fields\": [\n    {\n      \"column\": \" \",\n      \"properties\": {\n        \"dtype\": \"category\",\n        \"num_unique_values\": 1,\n        \"samples\": [\n          \". . . . . . . . . . . . . . . . . .\"\n        ],\n        \"semantic_type\": \"\",\n        \"description\": \"\"\n      }\n    },\n    {\n      \"column\": \"  \",\n      \"properties\": {\n        \"dtype\": \"string\",\n        \"num_unique_values\": 3,\n        \"samples\": [\n          \"21:45:29\"\n        ],\n        \"semantic_type\": \"\",\n        \"description\": \"\"\n      }\n    }\n  ]\n}",
       "type": "dataframe"
      },
      "text/html": [
       "\n",
       "  <div id=\"df-ea2a873c-74e0-42cc-a637-4e303cd76900\" class=\"colab-df-container\">\n",
       "    <div>\n",
       "<style scoped>\n",
       "    .dataframe tbody tr th:only-of-type {\n",
       "        vertical-align: middle;\n",
       "    }\n",
       "\n",
       "    .dataframe tbody tr th {\n",
       "        vertical-align: top;\n",
       "    }\n",
       "\n",
       "    .dataframe thead th {\n",
       "        text-align: right;\n",
       "    }\n",
       "</style>\n",
       "<table border=\"1\" class=\"dataframe\">\n",
       "  <thead>\n",
       "    <tr style=\"text-align: right;\">\n",
       "      <th></th>\n",
       "      <th></th>\n",
       "      <th></th>\n",
       "    </tr>\n",
       "    <tr>\n",
       "      <th></th>\n",
       "      <th></th>\n",
       "      <th></th>\n",
       "    </tr>\n",
       "  </thead>\n",
       "  <tbody>\n",
       "    <tr>\n",
       "      <th>Initiated</th>\n",
       "      <td>. . . . . . . . . . . . . . . . . .</td>\n",
       "      <td>21:45:29</td>\n",
       "    </tr>\n",
       "    <tr>\n",
       "      <th>Status</th>\n",
       "      <td>. . . . . . . . . . . . . . . . . .</td>\n",
       "      <td>Searching Hyperparameters</td>\n",
       "    </tr>\n",
       "    <tr>\n",
       "      <th>Estimator</th>\n",
       "      <td>. . . . . . . . . . . . . . . . . .</td>\n",
       "      <td>Gradient Boosting Classifier</td>\n",
       "    </tr>\n",
       "  </tbody>\n",
       "</table>\n",
       "</div>\n",
       "    <div class=\"colab-df-buttons\">\n",
       "\n",
       "  <div class=\"colab-df-container\">\n",
       "    <button class=\"colab-df-convert\" onclick=\"convertToInteractive('df-ea2a873c-74e0-42cc-a637-4e303cd76900')\"\n",
       "            title=\"Convert this dataframe to an interactive table.\"\n",
       "            style=\"display:none;\">\n",
       "\n",
       "  <svg xmlns=\"http://www.w3.org/2000/svg\" height=\"24px\" viewBox=\"0 -960 960 960\">\n",
       "    <path d=\"M120-120v-720h720v720H120Zm60-500h600v-160H180v160Zm220 220h160v-160H400v160Zm0 220h160v-160H400v160ZM180-400h160v-160H180v160Zm440 0h160v-160H620v160ZM180-180h160v-160H180v160Zm440 0h160v-160H620v160Z\"/>\n",
       "  </svg>\n",
       "    </button>\n",
       "\n",
       "  <style>\n",
       "    .colab-df-container {\n",
       "      display:flex;\n",
       "      gap: 12px;\n",
       "    }\n",
       "\n",
       "    .colab-df-convert {\n",
       "      background-color: #E8F0FE;\n",
       "      border: none;\n",
       "      border-radius: 50%;\n",
       "      cursor: pointer;\n",
       "      display: none;\n",
       "      fill: #1967D2;\n",
       "      height: 32px;\n",
       "      padding: 0 0 0 0;\n",
       "      width: 32px;\n",
       "    }\n",
       "\n",
       "    .colab-df-convert:hover {\n",
       "      background-color: #E2EBFA;\n",
       "      box-shadow: 0px 1px 2px rgba(60, 64, 67, 0.3), 0px 1px 3px 1px rgba(60, 64, 67, 0.15);\n",
       "      fill: #174EA6;\n",
       "    }\n",
       "\n",
       "    .colab-df-buttons div {\n",
       "      margin-bottom: 4px;\n",
       "    }\n",
       "\n",
       "    [theme=dark] .colab-df-convert {\n",
       "      background-color: #3B4455;\n",
       "      fill: #D2E3FC;\n",
       "    }\n",
       "\n",
       "    [theme=dark] .colab-df-convert:hover {\n",
       "      background-color: #434B5C;\n",
       "      box-shadow: 0px 1px 3px 1px rgba(0, 0, 0, 0.15);\n",
       "      filter: drop-shadow(0px 1px 2px rgba(0, 0, 0, 0.3));\n",
       "      fill: #FFFFFF;\n",
       "    }\n",
       "  </style>\n",
       "\n",
       "    <script>\n",
       "      const buttonEl =\n",
       "        document.querySelector('#df-ea2a873c-74e0-42cc-a637-4e303cd76900 button.colab-df-convert');\n",
       "      buttonEl.style.display =\n",
       "        google.colab.kernel.accessAllowed ? 'block' : 'none';\n",
       "\n",
       "      async function convertToInteractive(key) {\n",
       "        const element = document.querySelector('#df-ea2a873c-74e0-42cc-a637-4e303cd76900');\n",
       "        const dataTable =\n",
       "          await google.colab.kernel.invokeFunction('convertToInteractive',\n",
       "                                                    [key], {});\n",
       "        if (!dataTable) return;\n",
       "\n",
       "        const docLinkHtml = 'Like what you see? Visit the ' +\n",
       "          '<a target=\"_blank\" href=https://colab.research.google.com/notebooks/data_table.ipynb>data table notebook</a>'\n",
       "          + ' to learn more about interactive tables.';\n",
       "        element.innerHTML = '';\n",
       "        dataTable['output_type'] = 'display_data';\n",
       "        await google.colab.output.renderOutput(dataTable, element);\n",
       "        const docLink = document.createElement('div');\n",
       "        docLink.innerHTML = docLinkHtml;\n",
       "        element.appendChild(docLink);\n",
       "      }\n",
       "    </script>\n",
       "  </div>\n",
       "\n",
       "\n",
       "<div id=\"df-8c60dba3-7678-47df-a5a9-31279bf175b6\">\n",
       "  <button class=\"colab-df-quickchart\" onclick=\"quickchart('df-8c60dba3-7678-47df-a5a9-31279bf175b6')\"\n",
       "            title=\"Suggest charts\"\n",
       "            style=\"display:none;\">\n",
       "\n",
       "<svg xmlns=\"http://www.w3.org/2000/svg\" height=\"24px\"viewBox=\"0 0 24 24\"\n",
       "     width=\"24px\">\n",
       "    <g>\n",
       "        <path d=\"M19 3H5c-1.1 0-2 .9-2 2v14c0 1.1.9 2 2 2h14c1.1 0 2-.9 2-2V5c0-1.1-.9-2-2-2zM9 17H7v-7h2v7zm4 0h-2V7h2v10zm4 0h-2v-4h2v4z\"/>\n",
       "    </g>\n",
       "</svg>\n",
       "  </button>\n",
       "\n",
       "<style>\n",
       "  .colab-df-quickchart {\n",
       "      --bg-color: #E8F0FE;\n",
       "      --fill-color: #1967D2;\n",
       "      --hover-bg-color: #E2EBFA;\n",
       "      --hover-fill-color: #174EA6;\n",
       "      --disabled-fill-color: #AAA;\n",
       "      --disabled-bg-color: #DDD;\n",
       "  }\n",
       "\n",
       "  [theme=dark] .colab-df-quickchart {\n",
       "      --bg-color: #3B4455;\n",
       "      --fill-color: #D2E3FC;\n",
       "      --hover-bg-color: #434B5C;\n",
       "      --hover-fill-color: #FFFFFF;\n",
       "      --disabled-bg-color: #3B4455;\n",
       "      --disabled-fill-color: #666;\n",
       "  }\n",
       "\n",
       "  .colab-df-quickchart {\n",
       "    background-color: var(--bg-color);\n",
       "    border: none;\n",
       "    border-radius: 50%;\n",
       "    cursor: pointer;\n",
       "    display: none;\n",
       "    fill: var(--fill-color);\n",
       "    height: 32px;\n",
       "    padding: 0;\n",
       "    width: 32px;\n",
       "  }\n",
       "\n",
       "  .colab-df-quickchart:hover {\n",
       "    background-color: var(--hover-bg-color);\n",
       "    box-shadow: 0 1px 2px rgba(60, 64, 67, 0.3), 0 1px 3px 1px rgba(60, 64, 67, 0.15);\n",
       "    fill: var(--button-hover-fill-color);\n",
       "  }\n",
       "\n",
       "  .colab-df-quickchart-complete:disabled,\n",
       "  .colab-df-quickchart-complete:disabled:hover {\n",
       "    background-color: var(--disabled-bg-color);\n",
       "    fill: var(--disabled-fill-color);\n",
       "    box-shadow: none;\n",
       "  }\n",
       "\n",
       "  .colab-df-spinner {\n",
       "    border: 2px solid var(--fill-color);\n",
       "    border-color: transparent;\n",
       "    border-bottom-color: var(--fill-color);\n",
       "    animation:\n",
       "      spin 1s steps(1) infinite;\n",
       "  }\n",
       "\n",
       "  @keyframes spin {\n",
       "    0% {\n",
       "      border-color: transparent;\n",
       "      border-bottom-color: var(--fill-color);\n",
       "      border-left-color: var(--fill-color);\n",
       "    }\n",
       "    20% {\n",
       "      border-color: transparent;\n",
       "      border-left-color: var(--fill-color);\n",
       "      border-top-color: var(--fill-color);\n",
       "    }\n",
       "    30% {\n",
       "      border-color: transparent;\n",
       "      border-left-color: var(--fill-color);\n",
       "      border-top-color: var(--fill-color);\n",
       "      border-right-color: var(--fill-color);\n",
       "    }\n",
       "    40% {\n",
       "      border-color: transparent;\n",
       "      border-right-color: var(--fill-color);\n",
       "      border-top-color: var(--fill-color);\n",
       "    }\n",
       "    60% {\n",
       "      border-color: transparent;\n",
       "      border-right-color: var(--fill-color);\n",
       "    }\n",
       "    80% {\n",
       "      border-color: transparent;\n",
       "      border-right-color: var(--fill-color);\n",
       "      border-bottom-color: var(--fill-color);\n",
       "    }\n",
       "    90% {\n",
       "      border-color: transparent;\n",
       "      border-bottom-color: var(--fill-color);\n",
       "    }\n",
       "  }\n",
       "</style>\n",
       "\n",
       "  <script>\n",
       "    async function quickchart(key) {\n",
       "      const quickchartButtonEl =\n",
       "        document.querySelector('#' + key + ' button');\n",
       "      quickchartButtonEl.disabled = true;  // To prevent multiple clicks.\n",
       "      quickchartButtonEl.classList.add('colab-df-spinner');\n",
       "      try {\n",
       "        const charts = await google.colab.kernel.invokeFunction(\n",
       "            'suggestCharts', [key], {});\n",
       "      } catch (error) {\n",
       "        console.error('Error during call to suggestCharts:', error);\n",
       "      }\n",
       "      quickchartButtonEl.classList.remove('colab-df-spinner');\n",
       "      quickchartButtonEl.classList.add('colab-df-quickchart-complete');\n",
       "    }\n",
       "    (() => {\n",
       "      let quickchartButtonEl =\n",
       "        document.querySelector('#df-8c60dba3-7678-47df-a5a9-31279bf175b6 button');\n",
       "      quickchartButtonEl.style.display =\n",
       "        google.colab.kernel.accessAllowed ? 'block' : 'none';\n",
       "    })();\n",
       "  </script>\n",
       "</div>\n",
       "\n",
       "    </div>\n",
       "  </div>\n"
      ],
      "text/plain": [
       "                                                                            \n",
       "                                                                            \n",
       "Initiated  . . . . . . . . . . . . . . . . . .                      21:45:29\n",
       "Status     . . . . . . . . . . . . . . . . . .     Searching Hyperparameters\n",
       "Estimator  . . . . . . . . . . . . . . . . . .  Gradient Boosting Classifier"
      ]
     },
     "metadata": {},
     "output_type": "display_data"
    },
    {
     "data": {
      "text/html": [],
      "text/plain": [
       "<IPython.core.display.HTML object>"
      ]
     },
     "metadata": {},
     "output_type": "display_data"
    },
    {
     "data": {
      "application/vnd.jupyter.widget-view+json": {
       "model_id": "28ff87091853422184a268f5b4acf15a",
       "version_major": 2,
       "version_minor": 0
      },
      "text/plain": [
       "Processing:   0%|          | 0/7 [00:00<?, ?it/s]"
      ]
     },
     "metadata": {
      "application/vnd.jupyter.widget-view+json": {
       "colab": {
        "custom_widget_manager": {
         "url": "https://ssl.gstatic.com/colaboratory-static/widgets/colab-cdn-widget-manager/2b70e893a8ba7c0f/manager.min.js"
        }
       }
      }
     },
     "output_type": "display_data"
    },
    {
     "name": "stdout",
     "output_type": "stream",
     "text": [
      "Fitting 10 folds for each of 10 candidates, totalling 100 fits\n"
     ]
    }
   ],
   "source": [
    "tuned_gbc = tune_model(???)"
   ]
  },
  {
   "cell_type": "code",
   "execution_count": null,
   "metadata": {
    "id": "OGrUv_IEe0l3"
   },
   "outputs": [],
   "source": [
    "#predict gbc\n",
    "#mdl_gbc sem tuning apresentou AUC medio maior que o tunado e desvio padrao (STD) menor,\n",
    "#indicando que os hiperparametros originais geram um modelo mais consistente / robusto.\n",
    "predict_model(mdl_gbc, raw_score = True)"
   ]
  },
  {
   "cell_type": "code",
   "execution_count": null,
   "metadata": {
    "id": "h7dmJvw2e0l3"
   },
   "outputs": [],
   "source": [
    "print(mdl_gbc)"
   ]
  },
  {
   "cell_type": "code",
   "execution_count": null,
   "metadata": {
    "id": "3hEWzKsde0l3"
   },
   "outputs": [],
   "source": [
    "print(tuned_gbc)"
   ]
  },
  {
   "cell_type": "markdown",
   "metadata": {
    "id": "4-LfGc3xCmjS"
   },
   "source": [
    "### LGBM"
   ]
  },
  {
   "cell_type": "code",
   "execution_count": null,
   "metadata": {
    "id": "ZipP5k8ZV3Qw"
   },
   "outputs": [],
   "source": [
    "tuned_lgbm = tune_model(???)"
   ]
  },
  {
   "cell_type": "code",
   "execution_count": null,
   "metadata": {
    "id": "sHhG6XqIV3Ts"
   },
   "outputs": [],
   "source": [
    "#predict lgbm\n",
    "predict_model(???, raw_score = True)"
   ]
  },
  {
   "cell_type": "markdown",
   "metadata": {
    "id": "Ek1da0K5ECdV"
   },
   "source": [
    "# Melhor Modelo: LGBM com tuning\n",
    "* Foram comparados os modelos LGBM e GBC, antes e depois do tuning dos hiperparametros, e o LGBM apresentou melhores AUCs."
   ]
  },
  {
   "cell_type": "markdown",
   "metadata": {
    "id": "iszd3ET1_43_"
   },
   "source": [
    "## AUC Plot"
   ]
  },
  {
   "cell_type": "code",
   "execution_count": null,
   "metadata": {
    "id": "wvzpOLTz_Wzp"
   },
   "outputs": [],
   "source": [
    "#auc\n",
    "plot_model(tuned_lgbm, plot = 'auc')"
   ]
  },
  {
   "cell_type": "markdown",
   "metadata": {
    "id": "6J7f1CkWAHpy"
   },
   "source": [
    "## Feature Importance"
   ]
  },
  {
   "cell_type": "code",
   "execution_count": null,
   "metadata": {
    "id": "JQHm-Rfd_W2d"
   },
   "outputs": [],
   "source": [
    "#feature\n",
    "plot_model(tuned_lgbm, plot = 'feature')"
   ]
  },
  {
   "cell_type": "markdown",
   "metadata": {
    "id": "CiAdS8PfAPsu"
   },
   "source": [
    "## Matriz de Confusão"
   ]
  },
  {
   "cell_type": "code",
   "execution_count": null,
   "metadata": {
    "id": "19AxNII0_W5H"
   },
   "outputs": [],
   "source": [
    "#confusion matrix\n",
    "plot_model(tuned_lgbm, plot = 'confusion_matrix')"
   ]
  },
  {
   "cell_type": "markdown",
   "metadata": {
    "id": "jVNOc_ILe0l5"
   },
   "source": [
    "## Shap"
   ]
  },
  {
   "cell_type": "code",
   "execution_count": null,
   "metadata": {
    "id": "2yjceFY6e0l5"
   },
   "outputs": [],
   "source": [
    "#Global\n",
    "interpret_model(tuned_lgbm)#, use_train_data = True)"
   ]
  },
  {
   "cell_type": "code",
   "execution_count": null,
   "metadata": {
    "id": "a7net4lEe0l5"
   },
   "outputs": [],
   "source": [
    "#Per index\n",
    "interpret_model(tuned_lgbm, plot = 'reason', observation = 10)"
   ]
  },
  {
   "cell_type": "markdown",
   "metadata": {
    "id": "YudFejR--Wvg"
   },
   "source": [
    "# Referências:\n",
    "* https://towardsdatascience.com/introduction-to-binary-classification-with-pycaret-a37b3e89ad8d\n",
    "* https://pycaret.gitbook.io/docs/get-started/quickstart#classification\n",
    "* https://pycaret.readthedocs.io/en/latest/api/classification.html#pycaret.classification.plot_model"
   ]
  }
 ],
 "metadata": {
  "colab": {
   "provenance": [
    {
     "file_id": "11ORSeREX0dJf9Cq1Y93TF5p3tTWx3DsE",
     "timestamp": 1741988756596
    },
    {
     "file_id": "1028VXEDXvYrLo51JGfMGEFYp8JDsAZZl",
     "timestamp": 1741986492897
    }
   ],
   "toc_visible": true
  },
  "kernelspec": {
   "display_name": "base",
   "language": "python",
   "name": "python3"
  },
  "language_info": {
   "codemirror_mode": {
    "name": "ipython",
    "version": 3
   },
   "file_extension": ".py",
   "mimetype": "text/x-python",
   "name": "python",
   "nbconvert_exporter": "python",
   "pygments_lexer": "ipython3",
   "version": "3.11.7"
  },
  "widgets": {
   "application/vnd.jupyter.widget-state+json": {
    "00499fae69b746469189097b0fd810a1": {
     "model_module": "@jupyter-widgets/base",
     "model_module_version": "1.2.0",
     "model_name": "LayoutModel",
     "state": {
      "_model_module": "@jupyter-widgets/base",
      "_model_module_version": "1.2.0",
      "_model_name": "LayoutModel",
      "_view_count": null,
      "_view_module": "@jupyter-widgets/base",
      "_view_module_version": "1.2.0",
      "_view_name": "LayoutView",
      "align_content": null,
      "align_items": null,
      "align_self": null,
      "border": null,
      "bottom": null,
      "display": null,
      "flex": null,
      "flex_flow": null,
      "grid_area": null,
      "grid_auto_columns": null,
      "grid_auto_flow": null,
      "grid_auto_rows": null,
      "grid_column": null,
      "grid_gap": null,
      "grid_row": null,
      "grid_template_areas": null,
      "grid_template_columns": null,
      "grid_template_rows": null,
      "height": null,
      "justify_content": null,
      "justify_items": null,
      "left": null,
      "margin": null,
      "max_height": null,
      "max_width": null,
      "min_height": null,
      "min_width": null,
      "object_fit": null,
      "object_position": null,
      "order": null,
      "overflow": null,
      "overflow_x": null,
      "overflow_y": null,
      "padding": null,
      "right": null,
      "top": null,
      "visibility": null,
      "width": null
     }
    },
    "02d941cc7b874bcf84b0a2eb642d108a": {
     "model_module": "@jupyter-widgets/controls",
     "model_module_version": "1.5.0",
     "model_name": "DescriptionStyleModel",
     "state": {
      "_model_module": "@jupyter-widgets/controls",
      "_model_module_version": "1.5.0",
      "_model_name": "DescriptionStyleModel",
      "_view_count": null,
      "_view_module": "@jupyter-widgets/base",
      "_view_module_version": "1.2.0",
      "_view_name": "StyleView",
      "description_width": ""
     }
    },
    "060d4860e3a043b08c1bf6ab54e69da1": {
     "model_module": "@jupyter-widgets/base",
     "model_module_version": "1.2.0",
     "model_name": "LayoutModel",
     "state": {
      "_model_module": "@jupyter-widgets/base",
      "_model_module_version": "1.2.0",
      "_model_name": "LayoutModel",
      "_view_count": null,
      "_view_module": "@jupyter-widgets/base",
      "_view_module_version": "1.2.0",
      "_view_name": "LayoutView",
      "align_content": null,
      "align_items": null,
      "align_self": null,
      "border": null,
      "bottom": null,
      "display": null,
      "flex": null,
      "flex_flow": null,
      "grid_area": null,
      "grid_auto_columns": null,
      "grid_auto_flow": null,
      "grid_auto_rows": null,
      "grid_column": null,
      "grid_gap": null,
      "grid_row": null,
      "grid_template_areas": null,
      "grid_template_columns": null,
      "grid_template_rows": null,
      "height": null,
      "justify_content": null,
      "justify_items": null,
      "left": null,
      "margin": null,
      "max_height": null,
      "max_width": null,
      "min_height": null,
      "min_width": null,
      "object_fit": null,
      "object_position": null,
      "order": null,
      "overflow": null,
      "overflow_x": null,
      "overflow_y": null,
      "padding": null,
      "right": null,
      "top": null,
      "visibility": null,
      "width": null
     }
    },
    "09cc7b4c847e4f1bb2c36452b3d8c9fc": {
     "model_module": "@jupyter-widgets/controls",
     "model_module_version": "1.5.0",
     "model_name": "FloatProgressModel",
     "state": {
      "_dom_classes": [],
      "_model_module": "@jupyter-widgets/controls",
      "_model_module_version": "1.5.0",
      "_model_name": "FloatProgressModel",
      "_view_count": null,
      "_view_module": "@jupyter-widgets/controls",
      "_view_module_version": "1.5.0",
      "_view_name": "ProgressView",
      "bar_style": "",
      "description": "",
      "description_tooltip": null,
      "layout": "IPY_MODEL_ae67693f21b2424bb38fe9fc2471f851",
      "max": 7,
      "min": 0,
      "orientation": "horizontal",
      "style": "IPY_MODEL_2e207de19c2f40a0b0fd11a2d17c394e",
      "value": 0
     }
    },
    "0bc27bda179246f8b1a03944b490ea65": {
     "model_module": "@jupyter-widgets/controls",
     "model_module_version": "1.5.0",
     "model_name": "HTMLModel",
     "state": {
      "_dom_classes": [],
      "_model_module": "@jupyter-widgets/controls",
      "_model_module_version": "1.5.0",
      "_model_name": "HTMLModel",
      "_view_count": null,
      "_view_module": "@jupyter-widgets/controls",
      "_view_module_version": "1.5.0",
      "_view_name": "HTMLView",
      "description": "",
      "description_tooltip": null,
      "layout": "IPY_MODEL_c8b48e5fa01f41c8a78c8ac0c1973003",
      "placeholder": "​",
      "style": "IPY_MODEL_d6d0830f4bc04d208d988e6b4d0d1e21",
      "value": " 0/7 [00:00&lt;?, ?it/s]"
     }
    },
    "0ea0a27bf331482a9f3d737ebddd4447": {
     "model_module": "@jupyter-widgets/controls",
     "model_module_version": "1.5.0",
     "model_name": "DescriptionStyleModel",
     "state": {
      "_model_module": "@jupyter-widgets/controls",
      "_model_module_version": "1.5.0",
      "_model_name": "DescriptionStyleModel",
      "_view_count": null,
      "_view_module": "@jupyter-widgets/base",
      "_view_module_version": "1.2.0",
      "_view_name": "StyleView",
      "description_width": ""
     }
    },
    "28ff87091853422184a268f5b4acf15a": {
     "model_module": "@jupyter-widgets/controls",
     "model_module_version": "1.5.0",
     "model_name": "HBoxModel",
     "state": {
      "_dom_classes": [],
      "_model_module": "@jupyter-widgets/controls",
      "_model_module_version": "1.5.0",
      "_model_name": "HBoxModel",
      "_view_count": null,
      "_view_module": "@jupyter-widgets/controls",
      "_view_module_version": "1.5.0",
      "_view_name": "HBoxView",
      "box_style": "",
      "children": [
       "IPY_MODEL_c23763d76ecb48fb902550b9be0f11d6",
       "IPY_MODEL_09cc7b4c847e4f1bb2c36452b3d8c9fc",
       "IPY_MODEL_0bc27bda179246f8b1a03944b490ea65"
      ],
      "layout": "IPY_MODEL_d8977df139ed4e2b8978fa46b4832731"
     }
    },
    "2ae389019ddb401792f77cbc2c9c4b11": {
     "model_module": "@jupyter-widgets/controls",
     "model_module_version": "1.5.0",
     "model_name": "HTMLModel",
     "state": {
      "_dom_classes": [],
      "_model_module": "@jupyter-widgets/controls",
      "_model_module_version": "1.5.0",
      "_model_name": "HTMLModel",
      "_view_count": null,
      "_view_module": "@jupyter-widgets/controls",
      "_view_module_version": "1.5.0",
      "_view_name": "HTMLView",
      "description": "",
      "description_tooltip": null,
      "layout": "IPY_MODEL_39b72e89bd3548e29c169060c4b3e9dd",
      "placeholder": "​",
      "style": "IPY_MODEL_0ea0a27bf331482a9f3d737ebddd4447",
      "value": " 4/4 [00:36&lt;00:00,  8.27s/it]"
     }
    },
    "2e207de19c2f40a0b0fd11a2d17c394e": {
     "model_module": "@jupyter-widgets/controls",
     "model_module_version": "1.5.0",
     "model_name": "ProgressStyleModel",
     "state": {
      "_model_module": "@jupyter-widgets/controls",
      "_model_module_version": "1.5.0",
      "_model_name": "ProgressStyleModel",
      "_view_count": null,
      "_view_module": "@jupyter-widgets/base",
      "_view_module_version": "1.2.0",
      "_view_name": "StyleView",
      "bar_color": null,
      "description_width": ""
     }
    },
    "346586e9aa0e4dc9b7d92d04f4437755": {
     "model_module": "@jupyter-widgets/base",
     "model_module_version": "1.2.0",
     "model_name": "LayoutModel",
     "state": {
      "_model_module": "@jupyter-widgets/base",
      "_model_module_version": "1.2.0",
      "_model_name": "LayoutModel",
      "_view_count": null,
      "_view_module": "@jupyter-widgets/base",
      "_view_module_version": "1.2.0",
      "_view_name": "LayoutView",
      "align_content": null,
      "align_items": null,
      "align_self": null,
      "border": null,
      "bottom": null,
      "display": null,
      "flex": null,
      "flex_flow": null,
      "grid_area": null,
      "grid_auto_columns": null,
      "grid_auto_flow": null,
      "grid_auto_rows": null,
      "grid_column": null,
      "grid_gap": null,
      "grid_row": null,
      "grid_template_areas": null,
      "grid_template_columns": null,
      "grid_template_rows": null,
      "height": null,
      "justify_content": null,
      "justify_items": null,
      "left": null,
      "margin": null,
      "max_height": null,
      "max_width": null,
      "min_height": null,
      "min_width": null,
      "object_fit": null,
      "object_position": null,
      "order": null,
      "overflow": null,
      "overflow_x": null,
      "overflow_y": null,
      "padding": null,
      "right": null,
      "top": null,
      "visibility": null,
      "width": null
     }
    },
    "37257fe8a8e042389da7be5d09956dda": {
     "model_module": "@jupyter-widgets/base",
     "model_module_version": "1.2.0",
     "model_name": "LayoutModel",
     "state": {
      "_model_module": "@jupyter-widgets/base",
      "_model_module_version": "1.2.0",
      "_model_name": "LayoutModel",
      "_view_count": null,
      "_view_module": "@jupyter-widgets/base",
      "_view_module_version": "1.2.0",
      "_view_name": "LayoutView",
      "align_content": null,
      "align_items": null,
      "align_self": null,
      "border": null,
      "bottom": null,
      "display": null,
      "flex": null,
      "flex_flow": null,
      "grid_area": null,
      "grid_auto_columns": null,
      "grid_auto_flow": null,
      "grid_auto_rows": null,
      "grid_column": null,
      "grid_gap": null,
      "grid_row": null,
      "grid_template_areas": null,
      "grid_template_columns": null,
      "grid_template_rows": null,
      "height": null,
      "justify_content": null,
      "justify_items": null,
      "left": null,
      "margin": null,
      "max_height": null,
      "max_width": null,
      "min_height": null,
      "min_width": null,
      "object_fit": null,
      "object_position": null,
      "order": null,
      "overflow": null,
      "overflow_x": null,
      "overflow_y": null,
      "padding": null,
      "right": null,
      "top": null,
      "visibility": null,
      "width": null
     }
    },
    "39b72e89bd3548e29c169060c4b3e9dd": {
     "model_module": "@jupyter-widgets/base",
     "model_module_version": "1.2.0",
     "model_name": "LayoutModel",
     "state": {
      "_model_module": "@jupyter-widgets/base",
      "_model_module_version": "1.2.0",
      "_model_name": "LayoutModel",
      "_view_count": null,
      "_view_module": "@jupyter-widgets/base",
      "_view_module_version": "1.2.0",
      "_view_name": "LayoutView",
      "align_content": null,
      "align_items": null,
      "align_self": null,
      "border": null,
      "bottom": null,
      "display": null,
      "flex": null,
      "flex_flow": null,
      "grid_area": null,
      "grid_auto_columns": null,
      "grid_auto_flow": null,
      "grid_auto_rows": null,
      "grid_column": null,
      "grid_gap": null,
      "grid_row": null,
      "grid_template_areas": null,
      "grid_template_columns": null,
      "grid_template_rows": null,
      "height": null,
      "justify_content": null,
      "justify_items": null,
      "left": null,
      "margin": null,
      "max_height": null,
      "max_width": null,
      "min_height": null,
      "min_width": null,
      "object_fit": null,
      "object_position": null,
      "order": null,
      "overflow": null,
      "overflow_x": null,
      "overflow_y": null,
      "padding": null,
      "right": null,
      "top": null,
      "visibility": null,
      "width": null
     }
    },
    "3baed5ef0bea47f7bd86611387479dac": {
     "model_module": "@jupyter-widgets/controls",
     "model_module_version": "1.5.0",
     "model_name": "ProgressStyleModel",
     "state": {
      "_model_module": "@jupyter-widgets/controls",
      "_model_module_version": "1.5.0",
      "_model_name": "ProgressStyleModel",
      "_view_count": null,
      "_view_module": "@jupyter-widgets/base",
      "_view_module_version": "1.2.0",
      "_view_name": "StyleView",
      "bar_color": null,
      "description_width": ""
     }
    },
    "3c49a4f27ad34d5181e178d54f43f506": {
     "model_module": "@jupyter-widgets/controls",
     "model_module_version": "1.5.0",
     "model_name": "ProgressStyleModel",
     "state": {
      "_model_module": "@jupyter-widgets/controls",
      "_model_module_version": "1.5.0",
      "_model_name": "ProgressStyleModel",
      "_view_count": null,
      "_view_module": "@jupyter-widgets/base",
      "_view_module_version": "1.2.0",
      "_view_name": "StyleView",
      "bar_color": null,
      "description_width": ""
     }
    },
    "46a30b6de89d4337b58e2dcd4f0e4c46": {
     "model_module": "@jupyter-widgets/output",
     "model_module_version": "1.0.0",
     "model_name": "OutputModel",
     "state": {
      "_dom_classes": [],
      "_model_module": "@jupyter-widgets/output",
      "_model_module_version": "1.0.0",
      "_model_name": "OutputModel",
      "_view_count": null,
      "_view_module": "@jupyter-widgets/output",
      "_view_module_version": "1.0.0",
      "_view_name": "OutputView",
      "layout": "IPY_MODEL_8080d0cec1bc495fa46ab7edecce911b",
      "msg_id": "",
      "outputs": [
       {
        "data": {
         "image/png": "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\n",
         "text/plain": "<Figure size 800x550 with 1 Axes>"
        },
        "metadata": {},
        "output_type": "display_data"
       }
      ]
     }
    },
    "4a16201406a64fb693d4b229bd42b093": {
     "model_module": "@jupyter-widgets/controls",
     "model_module_version": "1.5.0",
     "model_name": "ToggleButtonsModel",
     "state": {
      "_dom_classes": [],
      "_model_module": "@jupyter-widgets/controls",
      "_model_module_version": "1.5.0",
      "_model_name": "ToggleButtonsModel",
      "_options_labels": [
       "Pipeline Plot",
       "Hyperparameters",
       "AUC",
       "Confusion Matrix",
       "Threshold",
       "Precision Recall",
       "Prediction Error",
       "Class Report",
       "Feature Selection",
       "Learning Curve",
       "Manifold Learning",
       "Calibration Curve",
       "Validation Curve",
       "Dimensions",
       "Feature Importance",
       "Feature Importance (All)",
       "Decision Boundary",
       "Lift Chart",
       "Gain Chart",
       "Decision Tree",
       "KS Statistic Plot"
      ],
      "_view_count": null,
      "_view_module": "@jupyter-widgets/controls",
      "_view_module_version": "1.5.0",
      "_view_name": "ToggleButtonsView",
      "button_style": "",
      "description": "Plot Type:",
      "description_tooltip": null,
      "disabled": false,
      "icons": [
       ""
      ],
      "index": 8,
      "layout": "IPY_MODEL_82a579eab8d94e9bb8ef8a60106b348b",
      "style": "IPY_MODEL_7e60415eb8354dde93bd2ba555fde2cc",
      "tooltips": []
     }
    },
    "4ad9168c11c74c9b9b9fc9dd512415c5": {
     "model_module": "@jupyter-widgets/controls",
     "model_module_version": "1.5.0",
     "model_name": "FloatProgressModel",
     "state": {
      "_dom_classes": [],
      "_model_module": "@jupyter-widgets/controls",
      "_model_module_version": "1.5.0",
      "_model_name": "FloatProgressModel",
      "_view_count": null,
      "_view_module": "@jupyter-widgets/controls",
      "_view_module_version": "1.5.0",
      "_view_name": "ProgressView",
      "bar_style": "",
      "description": "",
      "description_tooltip": null,
      "layout": "IPY_MODEL_37257fe8a8e042389da7be5d09956dda",
      "max": 4,
      "min": 0,
      "orientation": "horizontal",
      "style": "IPY_MODEL_3c49a4f27ad34d5181e178d54f43f506",
      "value": 4
     }
    },
    "4f18e7915baa416db2afba9a10d38217": {
     "model_module": "@jupyter-widgets/controls",
     "model_module_version": "1.5.0",
     "model_name": "DescriptionStyleModel",
     "state": {
      "_model_module": "@jupyter-widgets/controls",
      "_model_module_version": "1.5.0",
      "_model_name": "DescriptionStyleModel",
      "_view_count": null,
      "_view_module": "@jupyter-widgets/base",
      "_view_module_version": "1.2.0",
      "_view_name": "StyleView",
      "description_width": ""
     }
    },
    "56898e979163469b81d5e7431156e423": {
     "model_module": "@jupyter-widgets/controls",
     "model_module_version": "1.5.0",
     "model_name": "HBoxModel",
     "state": {
      "_dom_classes": [],
      "_model_module": "@jupyter-widgets/controls",
      "_model_module_version": "1.5.0",
      "_model_name": "HBoxModel",
      "_view_count": null,
      "_view_module": "@jupyter-widgets/controls",
      "_view_module_version": "1.5.0",
      "_view_name": "HBoxView",
      "box_style": "",
      "children": [
       "IPY_MODEL_817fd10f7bb348829516cf5f563e702e",
       "IPY_MODEL_a5782fd505294f06b4ceb44cb9057167",
       "IPY_MODEL_5e6e4601a0734ee2aa0cb691ce1109ac"
      ],
      "layout": "IPY_MODEL_6e829664093c4c269069d8d3cc66b7bd"
     }
    },
    "56b453049b6b497bb586f92b9d557e81": {
     "model_module": "@jupyter-widgets/base",
     "model_module_version": "1.2.0",
     "model_name": "LayoutModel",
     "state": {
      "_model_module": "@jupyter-widgets/base",
      "_model_module_version": "1.2.0",
      "_model_name": "LayoutModel",
      "_view_count": null,
      "_view_module": "@jupyter-widgets/base",
      "_view_module_version": "1.2.0",
      "_view_name": "LayoutView",
      "align_content": null,
      "align_items": null,
      "align_self": null,
      "border": null,
      "bottom": null,
      "display": null,
      "flex": null,
      "flex_flow": null,
      "grid_area": null,
      "grid_auto_columns": null,
      "grid_auto_flow": null,
      "grid_auto_rows": null,
      "grid_column": null,
      "grid_gap": null,
      "grid_row": null,
      "grid_template_areas": null,
      "grid_template_columns": null,
      "grid_template_rows": null,
      "height": null,
      "justify_content": null,
      "justify_items": null,
      "left": null,
      "margin": null,
      "max_height": null,
      "max_width": null,
      "min_height": null,
      "min_width": null,
      "object_fit": null,
      "object_position": null,
      "order": null,
      "overflow": null,
      "overflow_x": null,
      "overflow_y": null,
      "padding": null,
      "right": null,
      "top": null,
      "visibility": null,
      "width": null
     }
    },
    "5a76888a13f3475eaa8f76bd226aebf9": {
     "model_module": "@jupyter-widgets/base",
     "model_module_version": "1.2.0",
     "model_name": "LayoutModel",
     "state": {
      "_model_module": "@jupyter-widgets/base",
      "_model_module_version": "1.2.0",
      "_model_name": "LayoutModel",
      "_view_count": null,
      "_view_module": "@jupyter-widgets/base",
      "_view_module_version": "1.2.0",
      "_view_name": "LayoutView",
      "align_content": null,
      "align_items": null,
      "align_self": null,
      "border": null,
      "bottom": null,
      "display": null,
      "flex": null,
      "flex_flow": null,
      "grid_area": null,
      "grid_auto_columns": null,
      "grid_auto_flow": null,
      "grid_auto_rows": null,
      "grid_column": null,
      "grid_gap": null,
      "grid_row": null,
      "grid_template_areas": null,
      "grid_template_columns": null,
      "grid_template_rows": null,
      "height": null,
      "justify_content": null,
      "justify_items": null,
      "left": null,
      "margin": null,
      "max_height": null,
      "max_width": null,
      "min_height": null,
      "min_width": null,
      "object_fit": null,
      "object_position": null,
      "order": null,
      "overflow": null,
      "overflow_x": null,
      "overflow_y": null,
      "padding": null,
      "right": null,
      "top": null,
      "visibility": null,
      "width": null
     }
    },
    "5e6e4601a0734ee2aa0cb691ce1109ac": {
     "model_module": "@jupyter-widgets/controls",
     "model_module_version": "1.5.0",
     "model_name": "HTMLModel",
     "state": {
      "_dom_classes": [],
      "_model_module": "@jupyter-widgets/controls",
      "_model_module_version": "1.5.0",
      "_model_name": "HTMLModel",
      "_view_count": null,
      "_view_module": "@jupyter-widgets/controls",
      "_view_module_version": "1.5.0",
      "_view_name": "HTMLView",
      "description": "",
      "description_tooltip": null,
      "layout": "IPY_MODEL_6b120d96ea05425d96a5e1b3f7fa94e5",
      "placeholder": "​",
      "style": "IPY_MODEL_c4e0dd5f132049288f871634d9116c5d",
      "value": " 65/65 [01:49&lt;00:00,  1.40s/it]"
     }
    },
    "626298eb1c1b4c8abf01ddd793c9faff": {
     "model_module": "@jupyter-widgets/controls",
     "model_module_version": "1.5.0",
     "model_name": "DescriptionStyleModel",
     "state": {
      "_model_module": "@jupyter-widgets/controls",
      "_model_module_version": "1.5.0",
      "_model_name": "DescriptionStyleModel",
      "_view_count": null,
      "_view_module": "@jupyter-widgets/base",
      "_view_module_version": "1.2.0",
      "_view_name": "StyleView",
      "description_width": ""
     }
    },
    "6b120d96ea05425d96a5e1b3f7fa94e5": {
     "model_module": "@jupyter-widgets/base",
     "model_module_version": "1.2.0",
     "model_name": "LayoutModel",
     "state": {
      "_model_module": "@jupyter-widgets/base",
      "_model_module_version": "1.2.0",
      "_model_name": "LayoutModel",
      "_view_count": null,
      "_view_module": "@jupyter-widgets/base",
      "_view_module_version": "1.2.0",
      "_view_name": "LayoutView",
      "align_content": null,
      "align_items": null,
      "align_self": null,
      "border": null,
      "bottom": null,
      "display": null,
      "flex": null,
      "flex_flow": null,
      "grid_area": null,
      "grid_auto_columns": null,
      "grid_auto_flow": null,
      "grid_auto_rows": null,
      "grid_column": null,
      "grid_gap": null,
      "grid_row": null,
      "grid_template_areas": null,
      "grid_template_columns": null,
      "grid_template_rows": null,
      "height": null,
      "justify_content": null,
      "justify_items": null,
      "left": null,
      "margin": null,
      "max_height": null,
      "max_width": null,
      "min_height": null,
      "min_width": null,
      "object_fit": null,
      "object_position": null,
      "order": null,
      "overflow": null,
      "overflow_x": null,
      "overflow_y": null,
      "padding": null,
      "right": null,
      "top": null,
      "visibility": null,
      "width": null
     }
    },
    "6e829664093c4c269069d8d3cc66b7bd": {
     "model_module": "@jupyter-widgets/base",
     "model_module_version": "1.2.0",
     "model_name": "LayoutModel",
     "state": {
      "_model_module": "@jupyter-widgets/base",
      "_model_module_version": "1.2.0",
      "_model_name": "LayoutModel",
      "_view_count": null,
      "_view_module": "@jupyter-widgets/base",
      "_view_module_version": "1.2.0",
      "_view_name": "LayoutView",
      "align_content": null,
      "align_items": null,
      "align_self": null,
      "border": null,
      "bottom": null,
      "display": null,
      "flex": null,
      "flex_flow": null,
      "grid_area": null,
      "grid_auto_columns": null,
      "grid_auto_flow": null,
      "grid_auto_rows": null,
      "grid_column": null,
      "grid_gap": null,
      "grid_row": null,
      "grid_template_areas": null,
      "grid_template_columns": null,
      "grid_template_rows": null,
      "height": null,
      "justify_content": null,
      "justify_items": null,
      "left": null,
      "margin": null,
      "max_height": null,
      "max_width": null,
      "min_height": null,
      "min_width": null,
      "object_fit": null,
      "object_position": null,
      "order": null,
      "overflow": null,
      "overflow_x": null,
      "overflow_y": null,
      "padding": null,
      "right": null,
      "top": null,
      "visibility": "hidden",
      "width": null
     }
    },
    "764020656fa542539c9071f1199a2874": {
     "model_module": "@jupyter-widgets/base",
     "model_module_version": "1.2.0",
     "model_name": "LayoutModel",
     "state": {
      "_model_module": "@jupyter-widgets/base",
      "_model_module_version": "1.2.0",
      "_model_name": "LayoutModel",
      "_view_count": null,
      "_view_module": "@jupyter-widgets/base",
      "_view_module_version": "1.2.0",
      "_view_name": "LayoutView",
      "align_content": null,
      "align_items": null,
      "align_self": null,
      "border": null,
      "bottom": null,
      "display": null,
      "flex": null,
      "flex_flow": null,
      "grid_area": null,
      "grid_auto_columns": null,
      "grid_auto_flow": null,
      "grid_auto_rows": null,
      "grid_column": null,
      "grid_gap": null,
      "grid_row": null,
      "grid_template_areas": null,
      "grid_template_columns": null,
      "grid_template_rows": null,
      "height": null,
      "justify_content": null,
      "justify_items": null,
      "left": null,
      "margin": null,
      "max_height": null,
      "max_width": null,
      "min_height": null,
      "min_width": null,
      "object_fit": null,
      "object_position": null,
      "order": null,
      "overflow": null,
      "overflow_x": null,
      "overflow_y": null,
      "padding": null,
      "right": null,
      "top": null,
      "visibility": "hidden",
      "width": null
     }
    },
    "7921e2ad02924daab211063083d7ece5": {
     "model_module": "@jupyter-widgets/controls",
     "model_module_version": "1.5.0",
     "model_name": "VBoxModel",
     "state": {
      "_dom_classes": [
       "widget-interact"
      ],
      "_model_module": "@jupyter-widgets/controls",
      "_model_module_version": "1.5.0",
      "_model_name": "VBoxModel",
      "_view_count": null,
      "_view_module": "@jupyter-widgets/controls",
      "_view_module_version": "1.5.0",
      "_view_name": "VBoxView",
      "box_style": "",
      "children": [
       "IPY_MODEL_4a16201406a64fb693d4b229bd42b093",
       "IPY_MODEL_46a30b6de89d4337b58e2dcd4f0e4c46"
      ],
      "layout": "IPY_MODEL_a146954072b447719aa96cf3e0b225ed"
     }
    },
    "7e60415eb8354dde93bd2ba555fde2cc": {
     "model_module": "@jupyter-widgets/controls",
     "model_module_version": "1.5.0",
     "model_name": "ToggleButtonsStyleModel",
     "state": {
      "_model_module": "@jupyter-widgets/controls",
      "_model_module_version": "1.5.0",
      "_model_name": "ToggleButtonsStyleModel",
      "_view_count": null,
      "_view_module": "@jupyter-widgets/base",
      "_view_module_version": "1.2.0",
      "_view_name": "StyleView",
      "button_width": "",
      "description_width": "",
      "font_weight": ""
     }
    },
    "8080d0cec1bc495fa46ab7edecce911b": {
     "model_module": "@jupyter-widgets/base",
     "model_module_version": "1.2.0",
     "model_name": "LayoutModel",
     "state": {
      "_model_module": "@jupyter-widgets/base",
      "_model_module_version": "1.2.0",
      "_model_name": "LayoutModel",
      "_view_count": null,
      "_view_module": "@jupyter-widgets/base",
      "_view_module_version": "1.2.0",
      "_view_name": "LayoutView",
      "align_content": null,
      "align_items": null,
      "align_self": null,
      "border": null,
      "bottom": null,
      "display": null,
      "flex": null,
      "flex_flow": null,
      "grid_area": null,
      "grid_auto_columns": null,
      "grid_auto_flow": null,
      "grid_auto_rows": null,
      "grid_column": null,
      "grid_gap": null,
      "grid_row": null,
      "grid_template_areas": null,
      "grid_template_columns": null,
      "grid_template_rows": null,
      "height": null,
      "justify_content": null,
      "justify_items": null,
      "left": null,
      "margin": null,
      "max_height": null,
      "max_width": null,
      "min_height": null,
      "min_width": null,
      "object_fit": null,
      "object_position": null,
      "order": null,
      "overflow": null,
      "overflow_x": null,
      "overflow_y": null,
      "padding": null,
      "right": null,
      "top": null,
      "visibility": null,
      "width": null
     }
    },
    "817fd10f7bb348829516cf5f563e702e": {
     "model_module": "@jupyter-widgets/controls",
     "model_module_version": "1.5.0",
     "model_name": "HTMLModel",
     "state": {
      "_dom_classes": [],
      "_model_module": "@jupyter-widgets/controls",
      "_model_module_version": "1.5.0",
      "_model_name": "HTMLModel",
      "_view_count": null,
      "_view_module": "@jupyter-widgets/controls",
      "_view_module_version": "1.5.0",
      "_view_name": "HTMLView",
      "description": "",
      "description_tooltip": null,
      "layout": "IPY_MODEL_ae2ed021d3244d55b04d555660862691",
      "placeholder": "​",
      "style": "IPY_MODEL_e3bea446e750474481b8834b96b943c1",
      "value": "Processing: 100%"
     }
    },
    "82a579eab8d94e9bb8ef8a60106b348b": {
     "model_module": "@jupyter-widgets/base",
     "model_module_version": "1.2.0",
     "model_name": "LayoutModel",
     "state": {
      "_model_module": "@jupyter-widgets/base",
      "_model_module_version": "1.2.0",
      "_model_name": "LayoutModel",
      "_view_count": null,
      "_view_module": "@jupyter-widgets/base",
      "_view_module_version": "1.2.0",
      "_view_name": "LayoutView",
      "align_content": null,
      "align_items": null,
      "align_self": null,
      "border": null,
      "bottom": null,
      "display": null,
      "flex": null,
      "flex_flow": null,
      "grid_area": null,
      "grid_auto_columns": null,
      "grid_auto_flow": null,
      "grid_auto_rows": null,
      "grid_column": null,
      "grid_gap": null,
      "grid_row": null,
      "grid_template_areas": null,
      "grid_template_columns": null,
      "grid_template_rows": null,
      "height": null,
      "justify_content": null,
      "justify_items": null,
      "left": null,
      "margin": null,
      "max_height": null,
      "max_width": null,
      "min_height": null,
      "min_width": null,
      "object_fit": null,
      "object_position": null,
      "order": null,
      "overflow": null,
      "overflow_x": null,
      "overflow_y": null,
      "padding": null,
      "right": null,
      "top": null,
      "visibility": null,
      "width": null
     }
    },
    "8439a783772f41c4bde0a81aef4b2d59": {
     "model_module": "@jupyter-widgets/controls",
     "model_module_version": "1.5.0",
     "model_name": "DescriptionStyleModel",
     "state": {
      "_model_module": "@jupyter-widgets/controls",
      "_model_module_version": "1.5.0",
      "_model_name": "DescriptionStyleModel",
      "_view_count": null,
      "_view_module": "@jupyter-widgets/base",
      "_view_module_version": "1.2.0",
      "_view_name": "StyleView",
      "description_width": ""
     }
    },
    "863e3242deb24fda94abae236e21c258": {
     "model_module": "@jupyter-widgets/controls",
     "model_module_version": "1.5.0",
     "model_name": "ProgressStyleModel",
     "state": {
      "_model_module": "@jupyter-widgets/controls",
      "_model_module_version": "1.5.0",
      "_model_name": "ProgressStyleModel",
      "_view_count": null,
      "_view_module": "@jupyter-widgets/base",
      "_view_module_version": "1.2.0",
      "_view_name": "StyleView",
      "bar_color": null,
      "description_width": ""
     }
    },
    "867ee0479dde4cdfbcf661e4cca57d60": {
     "model_module": "@jupyter-widgets/base",
     "model_module_version": "1.2.0",
     "model_name": "LayoutModel",
     "state": {
      "_model_module": "@jupyter-widgets/base",
      "_model_module_version": "1.2.0",
      "_model_name": "LayoutModel",
      "_view_count": null,
      "_view_module": "@jupyter-widgets/base",
      "_view_module_version": "1.2.0",
      "_view_name": "LayoutView",
      "align_content": null,
      "align_items": null,
      "align_self": null,
      "border": null,
      "bottom": null,
      "display": null,
      "flex": null,
      "flex_flow": null,
      "grid_area": null,
      "grid_auto_columns": null,
      "grid_auto_flow": null,
      "grid_auto_rows": null,
      "grid_column": null,
      "grid_gap": null,
      "grid_row": null,
      "grid_template_areas": null,
      "grid_template_columns": null,
      "grid_template_rows": null,
      "height": null,
      "justify_content": null,
      "justify_items": null,
      "left": null,
      "margin": null,
      "max_height": null,
      "max_width": null,
      "min_height": null,
      "min_width": null,
      "object_fit": null,
      "object_position": null,
      "order": null,
      "overflow": null,
      "overflow_x": null,
      "overflow_y": null,
      "padding": null,
      "right": null,
      "top": null,
      "visibility": null,
      "width": null
     }
    },
    "9ec3870aa8674f888c8f8ecf47c277cb": {
     "model_module": "@jupyter-widgets/controls",
     "model_module_version": "1.5.0",
     "model_name": "HBoxModel",
     "state": {
      "_dom_classes": [],
      "_model_module": "@jupyter-widgets/controls",
      "_model_module_version": "1.5.0",
      "_model_name": "HBoxModel",
      "_view_count": null,
      "_view_module": "@jupyter-widgets/controls",
      "_view_module_version": "1.5.0",
      "_view_name": "HBoxView",
      "box_style": "",
      "children": [
       "IPY_MODEL_d9ebc70623044098aa50bad5476dc792",
       "IPY_MODEL_9f0d95d819fe4427b23f08ffae1dd282",
       "IPY_MODEL_2ae389019ddb401792f77cbc2c9c4b11"
      ],
      "layout": "IPY_MODEL_764020656fa542539c9071f1199a2874"
     }
    },
    "9f0d95d819fe4427b23f08ffae1dd282": {
     "model_module": "@jupyter-widgets/controls",
     "model_module_version": "1.5.0",
     "model_name": "FloatProgressModel",
     "state": {
      "_dom_classes": [],
      "_model_module": "@jupyter-widgets/controls",
      "_model_module_version": "1.5.0",
      "_model_name": "FloatProgressModel",
      "_view_count": null,
      "_view_module": "@jupyter-widgets/controls",
      "_view_module_version": "1.5.0",
      "_view_name": "ProgressView",
      "bar_style": "",
      "description": "",
      "description_tooltip": null,
      "layout": "IPY_MODEL_5a76888a13f3475eaa8f76bd226aebf9",
      "max": 4,
      "min": 0,
      "orientation": "horizontal",
      "style": "IPY_MODEL_863e3242deb24fda94abae236e21c258",
      "value": 4
     }
    },
    "a146954072b447719aa96cf3e0b225ed": {
     "model_module": "@jupyter-widgets/base",
     "model_module_version": "1.2.0",
     "model_name": "LayoutModel",
     "state": {
      "_model_module": "@jupyter-widgets/base",
      "_model_module_version": "1.2.0",
      "_model_name": "LayoutModel",
      "_view_count": null,
      "_view_module": "@jupyter-widgets/base",
      "_view_module_version": "1.2.0",
      "_view_name": "LayoutView",
      "align_content": null,
      "align_items": null,
      "align_self": null,
      "border": null,
      "bottom": null,
      "display": null,
      "flex": null,
      "flex_flow": null,
      "grid_area": null,
      "grid_auto_columns": null,
      "grid_auto_flow": null,
      "grid_auto_rows": null,
      "grid_column": null,
      "grid_gap": null,
      "grid_row": null,
      "grid_template_areas": null,
      "grid_template_columns": null,
      "grid_template_rows": null,
      "height": null,
      "justify_content": null,
      "justify_items": null,
      "left": null,
      "margin": null,
      "max_height": null,
      "max_width": null,
      "min_height": null,
      "min_width": null,
      "object_fit": null,
      "object_position": null,
      "order": null,
      "overflow": null,
      "overflow_x": null,
      "overflow_y": null,
      "padding": null,
      "right": null,
      "top": null,
      "visibility": null,
      "width": null
     }
    },
    "a5782fd505294f06b4ceb44cb9057167": {
     "model_module": "@jupyter-widgets/controls",
     "model_module_version": "1.5.0",
     "model_name": "FloatProgressModel",
     "state": {
      "_dom_classes": [],
      "_model_module": "@jupyter-widgets/controls",
      "_model_module_version": "1.5.0",
      "_model_name": "FloatProgressModel",
      "_view_count": null,
      "_view_module": "@jupyter-widgets/controls",
      "_view_module_version": "1.5.0",
      "_view_name": "ProgressView",
      "bar_style": "",
      "description": "",
      "description_tooltip": null,
      "layout": "IPY_MODEL_56b453049b6b497bb586f92b9d557e81",
      "max": 65,
      "min": 0,
      "orientation": "horizontal",
      "style": "IPY_MODEL_3baed5ef0bea47f7bd86611387479dac",
      "value": 65
     }
    },
    "ae2ed021d3244d55b04d555660862691": {
     "model_module": "@jupyter-widgets/base",
     "model_module_version": "1.2.0",
     "model_name": "LayoutModel",
     "state": {
      "_model_module": "@jupyter-widgets/base",
      "_model_module_version": "1.2.0",
      "_model_name": "LayoutModel",
      "_view_count": null,
      "_view_module": "@jupyter-widgets/base",
      "_view_module_version": "1.2.0",
      "_view_name": "LayoutView",
      "align_content": null,
      "align_items": null,
      "align_self": null,
      "border": null,
      "bottom": null,
      "display": null,
      "flex": null,
      "flex_flow": null,
      "grid_area": null,
      "grid_auto_columns": null,
      "grid_auto_flow": null,
      "grid_auto_rows": null,
      "grid_column": null,
      "grid_gap": null,
      "grid_row": null,
      "grid_template_areas": null,
      "grid_template_columns": null,
      "grid_template_rows": null,
      "height": null,
      "justify_content": null,
      "justify_items": null,
      "left": null,
      "margin": null,
      "max_height": null,
      "max_width": null,
      "min_height": null,
      "min_width": null,
      "object_fit": null,
      "object_position": null,
      "order": null,
      "overflow": null,
      "overflow_x": null,
      "overflow_y": null,
      "padding": null,
      "right": null,
      "top": null,
      "visibility": null,
      "width": null
     }
    },
    "ae67693f21b2424bb38fe9fc2471f851": {
     "model_module": "@jupyter-widgets/base",
     "model_module_version": "1.2.0",
     "model_name": "LayoutModel",
     "state": {
      "_model_module": "@jupyter-widgets/base",
      "_model_module_version": "1.2.0",
      "_model_name": "LayoutModel",
      "_view_count": null,
      "_view_module": "@jupyter-widgets/base",
      "_view_module_version": "1.2.0",
      "_view_name": "LayoutView",
      "align_content": null,
      "align_items": null,
      "align_self": null,
      "border": null,
      "bottom": null,
      "display": null,
      "flex": null,
      "flex_flow": null,
      "grid_area": null,
      "grid_auto_columns": null,
      "grid_auto_flow": null,
      "grid_auto_rows": null,
      "grid_column": null,
      "grid_gap": null,
      "grid_row": null,
      "grid_template_areas": null,
      "grid_template_columns": null,
      "grid_template_rows": null,
      "height": null,
      "justify_content": null,
      "justify_items": null,
      "left": null,
      "margin": null,
      "max_height": null,
      "max_width": null,
      "min_height": null,
      "min_width": null,
      "object_fit": null,
      "object_position": null,
      "order": null,
      "overflow": null,
      "overflow_x": null,
      "overflow_y": null,
      "padding": null,
      "right": null,
      "top": null,
      "visibility": null,
      "width": null
     }
    },
    "c23763d76ecb48fb902550b9be0f11d6": {
     "model_module": "@jupyter-widgets/controls",
     "model_module_version": "1.5.0",
     "model_name": "HTMLModel",
     "state": {
      "_dom_classes": [],
      "_model_module": "@jupyter-widgets/controls",
      "_model_module_version": "1.5.0",
      "_model_name": "HTMLModel",
      "_view_count": null,
      "_view_module": "@jupyter-widgets/controls",
      "_view_module_version": "1.5.0",
      "_view_name": "HTMLView",
      "description": "",
      "description_tooltip": null,
      "layout": "IPY_MODEL_346586e9aa0e4dc9b7d92d04f4437755",
      "placeholder": "​",
      "style": "IPY_MODEL_626298eb1c1b4c8abf01ddd793c9faff",
      "value": "Processing:   0%"
     }
    },
    "c4e0dd5f132049288f871634d9116c5d": {
     "model_module": "@jupyter-widgets/controls",
     "model_module_version": "1.5.0",
     "model_name": "DescriptionStyleModel",
     "state": {
      "_model_module": "@jupyter-widgets/controls",
      "_model_module_version": "1.5.0",
      "_model_name": "DescriptionStyleModel",
      "_view_count": null,
      "_view_module": "@jupyter-widgets/base",
      "_view_module_version": "1.2.0",
      "_view_name": "StyleView",
      "description_width": ""
     }
    },
    "c5725f36773d4fceb1cafad55dcc9bd9": {
     "model_module": "@jupyter-widgets/base",
     "model_module_version": "1.2.0",
     "model_name": "LayoutModel",
     "state": {
      "_model_module": "@jupyter-widgets/base",
      "_model_module_version": "1.2.0",
      "_model_name": "LayoutModel",
      "_view_count": null,
      "_view_module": "@jupyter-widgets/base",
      "_view_module_version": "1.2.0",
      "_view_name": "LayoutView",
      "align_content": null,
      "align_items": null,
      "align_self": null,
      "border": null,
      "bottom": null,
      "display": null,
      "flex": null,
      "flex_flow": null,
      "grid_area": null,
      "grid_auto_columns": null,
      "grid_auto_flow": null,
      "grid_auto_rows": null,
      "grid_column": null,
      "grid_gap": null,
      "grid_row": null,
      "grid_template_areas": null,
      "grid_template_columns": null,
      "grid_template_rows": null,
      "height": null,
      "justify_content": null,
      "justify_items": null,
      "left": null,
      "margin": null,
      "max_height": null,
      "max_width": null,
      "min_height": null,
      "min_width": null,
      "object_fit": null,
      "object_position": null,
      "order": null,
      "overflow": null,
      "overflow_x": null,
      "overflow_y": null,
      "padding": null,
      "right": null,
      "top": null,
      "visibility": "hidden",
      "width": null
     }
    },
    "c8b48e5fa01f41c8a78c8ac0c1973003": {
     "model_module": "@jupyter-widgets/base",
     "model_module_version": "1.2.0",
     "model_name": "LayoutModel",
     "state": {
      "_model_module": "@jupyter-widgets/base",
      "_model_module_version": "1.2.0",
      "_model_name": "LayoutModel",
      "_view_count": null,
      "_view_module": "@jupyter-widgets/base",
      "_view_module_version": "1.2.0",
      "_view_name": "LayoutView",
      "align_content": null,
      "align_items": null,
      "align_self": null,
      "border": null,
      "bottom": null,
      "display": null,
      "flex": null,
      "flex_flow": null,
      "grid_area": null,
      "grid_auto_columns": null,
      "grid_auto_flow": null,
      "grid_auto_rows": null,
      "grid_column": null,
      "grid_gap": null,
      "grid_row": null,
      "grid_template_areas": null,
      "grid_template_columns": null,
      "grid_template_rows": null,
      "height": null,
      "justify_content": null,
      "justify_items": null,
      "left": null,
      "margin": null,
      "max_height": null,
      "max_width": null,
      "min_height": null,
      "min_width": null,
      "object_fit": null,
      "object_position": null,
      "order": null,
      "overflow": null,
      "overflow_x": null,
      "overflow_y": null,
      "padding": null,
      "right": null,
      "top": null,
      "visibility": null,
      "width": null
     }
    },
    "ca76f145110f483a950eecf7d7adff0c": {
     "model_module": "@jupyter-widgets/controls",
     "model_module_version": "1.5.0",
     "model_name": "HBoxModel",
     "state": {
      "_dom_classes": [],
      "_model_module": "@jupyter-widgets/controls",
      "_model_module_version": "1.5.0",
      "_model_name": "HBoxModel",
      "_view_count": null,
      "_view_module": "@jupyter-widgets/controls",
      "_view_module_version": "1.5.0",
      "_view_name": "HBoxView",
      "box_style": "",
      "children": [
       "IPY_MODEL_e80d432072c749c58cc9d6e4555f5b16",
       "IPY_MODEL_4ad9168c11c74c9b9b9fc9dd512415c5",
       "IPY_MODEL_cb468ebbb5924dd3bb2de523069641ba"
      ],
      "layout": "IPY_MODEL_c5725f36773d4fceb1cafad55dcc9bd9"
     }
    },
    "cb468ebbb5924dd3bb2de523069641ba": {
     "model_module": "@jupyter-widgets/controls",
     "model_module_version": "1.5.0",
     "model_name": "HTMLModel",
     "state": {
      "_dom_classes": [],
      "_model_module": "@jupyter-widgets/controls",
      "_model_module_version": "1.5.0",
      "_model_name": "HTMLModel",
      "_view_count": null,
      "_view_module": "@jupyter-widgets/controls",
      "_view_module_version": "1.5.0",
      "_view_name": "HTMLView",
      "description": "",
      "description_tooltip": null,
      "layout": "IPY_MODEL_060d4860e3a043b08c1bf6ab54e69da1",
      "placeholder": "​",
      "style": "IPY_MODEL_02d941cc7b874bcf84b0a2eb642d108a",
      "value": " 4/4 [00:16&lt;00:00,  3.79s/it]"
     }
    },
    "d6d0830f4bc04d208d988e6b4d0d1e21": {
     "model_module": "@jupyter-widgets/controls",
     "model_module_version": "1.5.0",
     "model_name": "DescriptionStyleModel",
     "state": {
      "_model_module": "@jupyter-widgets/controls",
      "_model_module_version": "1.5.0",
      "_model_name": "DescriptionStyleModel",
      "_view_count": null,
      "_view_module": "@jupyter-widgets/base",
      "_view_module_version": "1.2.0",
      "_view_name": "StyleView",
      "description_width": ""
     }
    },
    "d8977df139ed4e2b8978fa46b4832731": {
     "model_module": "@jupyter-widgets/base",
     "model_module_version": "1.2.0",
     "model_name": "LayoutModel",
     "state": {
      "_model_module": "@jupyter-widgets/base",
      "_model_module_version": "1.2.0",
      "_model_name": "LayoutModel",
      "_view_count": null,
      "_view_module": "@jupyter-widgets/base",
      "_view_module_version": "1.2.0",
      "_view_name": "LayoutView",
      "align_content": null,
      "align_items": null,
      "align_self": null,
      "border": null,
      "bottom": null,
      "display": null,
      "flex": null,
      "flex_flow": null,
      "grid_area": null,
      "grid_auto_columns": null,
      "grid_auto_flow": null,
      "grid_auto_rows": null,
      "grid_column": null,
      "grid_gap": null,
      "grid_row": null,
      "grid_template_areas": null,
      "grid_template_columns": null,
      "grid_template_rows": null,
      "height": null,
      "justify_content": null,
      "justify_items": null,
      "left": null,
      "margin": null,
      "max_height": null,
      "max_width": null,
      "min_height": null,
      "min_width": null,
      "object_fit": null,
      "object_position": null,
      "order": null,
      "overflow": null,
      "overflow_x": null,
      "overflow_y": null,
      "padding": null,
      "right": null,
      "top": null,
      "visibility": null,
      "width": null
     }
    },
    "d9ebc70623044098aa50bad5476dc792": {
     "model_module": "@jupyter-widgets/controls",
     "model_module_version": "1.5.0",
     "model_name": "HTMLModel",
     "state": {
      "_dom_classes": [],
      "_model_module": "@jupyter-widgets/controls",
      "_model_module_version": "1.5.0",
      "_model_name": "HTMLModel",
      "_view_count": null,
      "_view_module": "@jupyter-widgets/controls",
      "_view_module_version": "1.5.0",
      "_view_name": "HTMLView",
      "description": "",
      "description_tooltip": null,
      "layout": "IPY_MODEL_00499fae69b746469189097b0fd810a1",
      "placeholder": "​",
      "style": "IPY_MODEL_4f18e7915baa416db2afba9a10d38217",
      "value": "Processing: 100%"
     }
    },
    "e3bea446e750474481b8834b96b943c1": {
     "model_module": "@jupyter-widgets/controls",
     "model_module_version": "1.5.0",
     "model_name": "DescriptionStyleModel",
     "state": {
      "_model_module": "@jupyter-widgets/controls",
      "_model_module_version": "1.5.0",
      "_model_name": "DescriptionStyleModel",
      "_view_count": null,
      "_view_module": "@jupyter-widgets/base",
      "_view_module_version": "1.2.0",
      "_view_name": "StyleView",
      "description_width": ""
     }
    },
    "e80d432072c749c58cc9d6e4555f5b16": {
     "model_module": "@jupyter-widgets/controls",
     "model_module_version": "1.5.0",
     "model_name": "HTMLModel",
     "state": {
      "_dom_classes": [],
      "_model_module": "@jupyter-widgets/controls",
      "_model_module_version": "1.5.0",
      "_model_name": "HTMLModel",
      "_view_count": null,
      "_view_module": "@jupyter-widgets/controls",
      "_view_module_version": "1.5.0",
      "_view_name": "HTMLView",
      "description": "",
      "description_tooltip": null,
      "layout": "IPY_MODEL_867ee0479dde4cdfbcf661e4cca57d60",
      "placeholder": "​",
      "style": "IPY_MODEL_8439a783772f41c4bde0a81aef4b2d59",
      "value": "Processing: 100%"
     }
    }
   }
  }
 },
 "nbformat": 4,
 "nbformat_minor": 0
}
